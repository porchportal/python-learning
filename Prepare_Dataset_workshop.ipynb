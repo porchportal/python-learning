{
  "nbformat": 4,
  "nbformat_minor": 0,
  "metadata": {
    "colab": {
      "provenance": [],
      "gpuType": "T4",
      "include_colab_link": true
    },
    "kernelspec": {
      "name": "python3",
      "display_name": "Python 3"
    },
    "language_info": {
      "name": "python"
    }
  },
  "cells": [
    {
      "cell_type": "markdown",
      "metadata": {
        "id": "view-in-github",
        "colab_type": "text"
      },
      "source": [
        "<a href=\"https://colab.research.google.com/github/porchportal/python-learning/blob/main/Prepare_Dataset_workshop.ipynb\" target=\"_parent\"><img src=\"https://colab.research.google.com/assets/colab-badge.svg\" alt=\"Open In Colab\"/></a>"
      ]
    },
    {
      "cell_type": "code",
      "source": [
        "from google.colab import drive\n",
        "drive.mount('/content/drive')"
      ],
      "metadata": {
        "id": "gPIne25BWbv6"
      },
      "execution_count": null,
      "outputs": []
    },
    {
      "cell_type": "markdown",
      "source": [
        "# Load dataset"
      ],
      "metadata": {
        "id": "yRU4KoBjDHE2"
      }
    },
    {
      "cell_type": "code",
      "execution_count": 1,
      "metadata": {
        "id": "vXdX0muro_Vz"
      },
      "outputs": [],
      "source": [
        "import pandas as pd"
      ]
    },
    {
      "cell_type": "code",
      "source": [
        "#import pandas as pd\n",
        "df = pd.read_csv('/content/pantip.csv')"
      ],
      "metadata": {
        "id": "IhL6AVeQzle8"
      },
      "execution_count": 3,
      "outputs": []
    },
    {
      "cell_type": "code",
      "source": [
        "df"
      ],
      "metadata": {
        "id": "trrpJbYt75yj",
        "colab": {
          "base_uri": "https://localhost:8080/",
          "height": 424
        },
        "outputId": "f35e7765-ff4e-4c5b-9343-d6beac7c6e91"
      },
      "execution_count": 4,
      "outputs": [
        {
          "output_type": "execute_result",
          "data": {
            "text/plain": [
              "            instruction                                              input  \\\n",
              "0            ปัญหาชีวิต  ยานอนหลับชนิดไหนดี ช่วงนี้แฟนผมออกห่างผมเลยถาม...   \n",
              "1            ปัญหาชีวิต  ยานอนหลับชนิดไหนดี ช่วงนี้แฟนผมออกห่างผมเลยถาม...   \n",
              "2      การเงิน การลงทุน  ปรมาจารย์ VI เทขายหุ้น  ในเวลาไม่กี่เดือน VI ๆ...   \n",
              "3      การเงิน การลงทุน  ปรมาจารย์ VI เทขายหุ้น  ในเวลาไม่กี่เดือน VI ๆ...   \n",
              "4      การเงิน การลงทุน  ปรมาจารย์ VI เทขายหุ้น  ในเวลาไม่กี่เดือน VI ๆ...   \n",
              "...                 ...                                                ...   \n",
              "1166  ปัญหา การใช้คำพูด  คำว่า \"คุณลูกค้า\" เริ่มมานิยมใช้เยอะสมัยนี้ใช่...   \n",
              "1167  ปัญหา การใช้คำพูด  คำว่า \"คุณลูกค้า\" เริ่มมานิยมใช้เยอะสมัยนี้ใช่...   \n",
              "1168  ปัญหา การใช้คำพูด  คำว่า \"คุณลูกค้า\" เริ่มมานิยมใช้เยอะสมัยนี้ใช่...   \n",
              "1169  ปัญหา การใช้คำพูด  คำว่า \"คุณลูกค้า\" เริ่มมานิยมใช้เยอะสมัยนี้ใช่...   \n",
              "1170        สัตว์เลี้ยง  โดนแมวเอาเล็บโดนผิวหนังนิดนึงเป็นอะไรไหมครับ แ...   \n",
              "\n",
              "                                                 output  \n",
              "0                                     คงต้องปรึกษาแพทย์  \n",
              "1     คนเราผิดหวังเรื่องรัก ย่อมเสียใจ อันนี้เข้าใจน...  \n",
              "2     ปู่คงไม่ชอบเสี่ยง ถ้าเกิดสงคราม บริษัทนี้คงถูก...  \n",
              "3     youtube channel การลงทุน ต้องไปทำคลิปใหม่ \\n\\n...  \n",
              "4     เห็นด้วยเป็นผมจะซื้อ  intel อิอิ\\nASML หลังจาก...  \n",
              "...                                                 ...  \n",
              "1166  คำว่า คุณพี่ คุณน้อง นี้ คำต้องห้ามของพนักงานข...  \n",
              "1167  เรื่องจริงครับ\\nที่ธนาคารทิดพาไน \\nก็เคยเจอปัญ...  \n",
              "1168  ไม่รู้มีนานหรือยัง แต่หลังๆ นี่เหมือนจะใช้ทั่ว...  \n",
              "1169  มีหลายแห่งเรียกพี่ ก็รู้สึกดี เรียกพ่อก็เข้าใจ...  \n",
              "1170  แมวฉีดวัคซีนแล้วก็วางใจเถอะครับ   ยกเว้นถ้าภาย...  \n",
              "\n",
              "[1171 rows x 3 columns]"
            ],
            "text/html": [
              "\n",
              "  <div id=\"df-94517297-760f-40c3-a760-7e612aa8bed4\" class=\"colab-df-container\">\n",
              "    <div>\n",
              "<style scoped>\n",
              "    .dataframe tbody tr th:only-of-type {\n",
              "        vertical-align: middle;\n",
              "    }\n",
              "\n",
              "    .dataframe tbody tr th {\n",
              "        vertical-align: top;\n",
              "    }\n",
              "\n",
              "    .dataframe thead th {\n",
              "        text-align: right;\n",
              "    }\n",
              "</style>\n",
              "<table border=\"1\" class=\"dataframe\">\n",
              "  <thead>\n",
              "    <tr style=\"text-align: right;\">\n",
              "      <th></th>\n",
              "      <th>instruction</th>\n",
              "      <th>input</th>\n",
              "      <th>output</th>\n",
              "    </tr>\n",
              "  </thead>\n",
              "  <tbody>\n",
              "    <tr>\n",
              "      <th>0</th>\n",
              "      <td>ปัญหาชีวิต</td>\n",
              "      <td>ยานอนหลับชนิดไหนดี ช่วงนี้แฟนผมออกห่างผมเลยถาม...</td>\n",
              "      <td>คงต้องปรึกษาแพทย์</td>\n",
              "    </tr>\n",
              "    <tr>\n",
              "      <th>1</th>\n",
              "      <td>ปัญหาชีวิต</td>\n",
              "      <td>ยานอนหลับชนิดไหนดี ช่วงนี้แฟนผมออกห่างผมเลยถาม...</td>\n",
              "      <td>คนเราผิดหวังเรื่องรัก ย่อมเสียใจ อันนี้เข้าใจน...</td>\n",
              "    </tr>\n",
              "    <tr>\n",
              "      <th>2</th>\n",
              "      <td>การเงิน การลงทุน</td>\n",
              "      <td>ปรมาจารย์ VI เทขายหุ้น  ในเวลาไม่กี่เดือน VI ๆ...</td>\n",
              "      <td>ปู่คงไม่ชอบเสี่ยง ถ้าเกิดสงคราม บริษัทนี้คงถูก...</td>\n",
              "    </tr>\n",
              "    <tr>\n",
              "      <th>3</th>\n",
              "      <td>การเงิน การลงทุน</td>\n",
              "      <td>ปรมาจารย์ VI เทขายหุ้น  ในเวลาไม่กี่เดือน VI ๆ...</td>\n",
              "      <td>youtube channel การลงทุน ต้องไปทำคลิปใหม่ \\n\\n...</td>\n",
              "    </tr>\n",
              "    <tr>\n",
              "      <th>4</th>\n",
              "      <td>การเงิน การลงทุน</td>\n",
              "      <td>ปรมาจารย์ VI เทขายหุ้น  ในเวลาไม่กี่เดือน VI ๆ...</td>\n",
              "      <td>เห็นด้วยเป็นผมจะซื้อ  intel อิอิ\\nASML หลังจาก...</td>\n",
              "    </tr>\n",
              "    <tr>\n",
              "      <th>...</th>\n",
              "      <td>...</td>\n",
              "      <td>...</td>\n",
              "      <td>...</td>\n",
              "    </tr>\n",
              "    <tr>\n",
              "      <th>1166</th>\n",
              "      <td>ปัญหา การใช้คำพูด</td>\n",
              "      <td>คำว่า \"คุณลูกค้า\" เริ่มมานิยมใช้เยอะสมัยนี้ใช่...</td>\n",
              "      <td>คำว่า คุณพี่ คุณน้อง นี้ คำต้องห้ามของพนักงานข...</td>\n",
              "    </tr>\n",
              "    <tr>\n",
              "      <th>1167</th>\n",
              "      <td>ปัญหา การใช้คำพูด</td>\n",
              "      <td>คำว่า \"คุณลูกค้า\" เริ่มมานิยมใช้เยอะสมัยนี้ใช่...</td>\n",
              "      <td>เรื่องจริงครับ\\nที่ธนาคารทิดพาไน \\nก็เคยเจอปัญ...</td>\n",
              "    </tr>\n",
              "    <tr>\n",
              "      <th>1168</th>\n",
              "      <td>ปัญหา การใช้คำพูด</td>\n",
              "      <td>คำว่า \"คุณลูกค้า\" เริ่มมานิยมใช้เยอะสมัยนี้ใช่...</td>\n",
              "      <td>ไม่รู้มีนานหรือยัง แต่หลังๆ นี่เหมือนจะใช้ทั่ว...</td>\n",
              "    </tr>\n",
              "    <tr>\n",
              "      <th>1169</th>\n",
              "      <td>ปัญหา การใช้คำพูด</td>\n",
              "      <td>คำว่า \"คุณลูกค้า\" เริ่มมานิยมใช้เยอะสมัยนี้ใช่...</td>\n",
              "      <td>มีหลายแห่งเรียกพี่ ก็รู้สึกดี เรียกพ่อก็เข้าใจ...</td>\n",
              "    </tr>\n",
              "    <tr>\n",
              "      <th>1170</th>\n",
              "      <td>สัตว์เลี้ยง</td>\n",
              "      <td>โดนแมวเอาเล็บโดนผิวหนังนิดนึงเป็นอะไรไหมครับ แ...</td>\n",
              "      <td>แมวฉีดวัคซีนแล้วก็วางใจเถอะครับ   ยกเว้นถ้าภาย...</td>\n",
              "    </tr>\n",
              "  </tbody>\n",
              "</table>\n",
              "<p>1171 rows × 3 columns</p>\n",
              "</div>\n",
              "    <div class=\"colab-df-buttons\">\n",
              "\n",
              "  <div class=\"colab-df-container\">\n",
              "    <button class=\"colab-df-convert\" onclick=\"convertToInteractive('df-94517297-760f-40c3-a760-7e612aa8bed4')\"\n",
              "            title=\"Convert this dataframe to an interactive table.\"\n",
              "            style=\"display:none;\">\n",
              "\n",
              "  <svg xmlns=\"http://www.w3.org/2000/svg\" height=\"24px\" viewBox=\"0 -960 960 960\">\n",
              "    <path d=\"M120-120v-720h720v720H120Zm60-500h600v-160H180v160Zm220 220h160v-160H400v160Zm0 220h160v-160H400v160ZM180-400h160v-160H180v160Zm440 0h160v-160H620v160ZM180-180h160v-160H180v160Zm440 0h160v-160H620v160Z\"/>\n",
              "  </svg>\n",
              "    </button>\n",
              "\n",
              "  <style>\n",
              "    .colab-df-container {\n",
              "      display:flex;\n",
              "      gap: 12px;\n",
              "    }\n",
              "\n",
              "    .colab-df-convert {\n",
              "      background-color: #E8F0FE;\n",
              "      border: none;\n",
              "      border-radius: 50%;\n",
              "      cursor: pointer;\n",
              "      display: none;\n",
              "      fill: #1967D2;\n",
              "      height: 32px;\n",
              "      padding: 0 0 0 0;\n",
              "      width: 32px;\n",
              "    }\n",
              "\n",
              "    .colab-df-convert:hover {\n",
              "      background-color: #E2EBFA;\n",
              "      box-shadow: 0px 1px 2px rgba(60, 64, 67, 0.3), 0px 1px 3px 1px rgba(60, 64, 67, 0.15);\n",
              "      fill: #174EA6;\n",
              "    }\n",
              "\n",
              "    .colab-df-buttons div {\n",
              "      margin-bottom: 4px;\n",
              "    }\n",
              "\n",
              "    [theme=dark] .colab-df-convert {\n",
              "      background-color: #3B4455;\n",
              "      fill: #D2E3FC;\n",
              "    }\n",
              "\n",
              "    [theme=dark] .colab-df-convert:hover {\n",
              "      background-color: #434B5C;\n",
              "      box-shadow: 0px 1px 3px 1px rgba(0, 0, 0, 0.15);\n",
              "      filter: drop-shadow(0px 1px 2px rgba(0, 0, 0, 0.3));\n",
              "      fill: #FFFFFF;\n",
              "    }\n",
              "  </style>\n",
              "\n",
              "    <script>\n",
              "      const buttonEl =\n",
              "        document.querySelector('#df-94517297-760f-40c3-a760-7e612aa8bed4 button.colab-df-convert');\n",
              "      buttonEl.style.display =\n",
              "        google.colab.kernel.accessAllowed ? 'block' : 'none';\n",
              "\n",
              "      async function convertToInteractive(key) {\n",
              "        const element = document.querySelector('#df-94517297-760f-40c3-a760-7e612aa8bed4');\n",
              "        const dataTable =\n",
              "          await google.colab.kernel.invokeFunction('convertToInteractive',\n",
              "                                                    [key], {});\n",
              "        if (!dataTable) return;\n",
              "\n",
              "        const docLinkHtml = 'Like what you see? Visit the ' +\n",
              "          '<a target=\"_blank\" href=https://colab.research.google.com/notebooks/data_table.ipynb>data table notebook</a>'\n",
              "          + ' to learn more about interactive tables.';\n",
              "        element.innerHTML = '';\n",
              "        dataTable['output_type'] = 'display_data';\n",
              "        await google.colab.output.renderOutput(dataTable, element);\n",
              "        const docLink = document.createElement('div');\n",
              "        docLink.innerHTML = docLinkHtml;\n",
              "        element.appendChild(docLink);\n",
              "      }\n",
              "    </script>\n",
              "  </div>\n",
              "\n",
              "\n",
              "<div id=\"df-57b4418c-7f04-4937-84e2-fb81047c12c6\">\n",
              "  <button class=\"colab-df-quickchart\" onclick=\"quickchart('df-57b4418c-7f04-4937-84e2-fb81047c12c6')\"\n",
              "            title=\"Suggest charts.\"\n",
              "            style=\"display:none;\">\n",
              "\n",
              "<svg xmlns=\"http://www.w3.org/2000/svg\" height=\"24px\"viewBox=\"0 0 24 24\"\n",
              "     width=\"24px\">\n",
              "    <g>\n",
              "        <path d=\"M19 3H5c-1.1 0-2 .9-2 2v14c0 1.1.9 2 2 2h14c1.1 0 2-.9 2-2V5c0-1.1-.9-2-2-2zM9 17H7v-7h2v7zm4 0h-2V7h2v10zm4 0h-2v-4h2v4z\"/>\n",
              "    </g>\n",
              "</svg>\n",
              "  </button>\n",
              "\n",
              "<style>\n",
              "  .colab-df-quickchart {\n",
              "      --bg-color: #E8F0FE;\n",
              "      --fill-color: #1967D2;\n",
              "      --hover-bg-color: #E2EBFA;\n",
              "      --hover-fill-color: #174EA6;\n",
              "      --disabled-fill-color: #AAA;\n",
              "      --disabled-bg-color: #DDD;\n",
              "  }\n",
              "\n",
              "  [theme=dark] .colab-df-quickchart {\n",
              "      --bg-color: #3B4455;\n",
              "      --fill-color: #D2E3FC;\n",
              "      --hover-bg-color: #434B5C;\n",
              "      --hover-fill-color: #FFFFFF;\n",
              "      --disabled-bg-color: #3B4455;\n",
              "      --disabled-fill-color: #666;\n",
              "  }\n",
              "\n",
              "  .colab-df-quickchart {\n",
              "    background-color: var(--bg-color);\n",
              "    border: none;\n",
              "    border-radius: 50%;\n",
              "    cursor: pointer;\n",
              "    display: none;\n",
              "    fill: var(--fill-color);\n",
              "    height: 32px;\n",
              "    padding: 0;\n",
              "    width: 32px;\n",
              "  }\n",
              "\n",
              "  .colab-df-quickchart:hover {\n",
              "    background-color: var(--hover-bg-color);\n",
              "    box-shadow: 0 1px 2px rgba(60, 64, 67, 0.3), 0 1px 3px 1px rgba(60, 64, 67, 0.15);\n",
              "    fill: var(--button-hover-fill-color);\n",
              "  }\n",
              "\n",
              "  .colab-df-quickchart-complete:disabled,\n",
              "  .colab-df-quickchart-complete:disabled:hover {\n",
              "    background-color: var(--disabled-bg-color);\n",
              "    fill: var(--disabled-fill-color);\n",
              "    box-shadow: none;\n",
              "  }\n",
              "\n",
              "  .colab-df-spinner {\n",
              "    border: 2px solid var(--fill-color);\n",
              "    border-color: transparent;\n",
              "    border-bottom-color: var(--fill-color);\n",
              "    animation:\n",
              "      spin 1s steps(1) infinite;\n",
              "  }\n",
              "\n",
              "  @keyframes spin {\n",
              "    0% {\n",
              "      border-color: transparent;\n",
              "      border-bottom-color: var(--fill-color);\n",
              "      border-left-color: var(--fill-color);\n",
              "    }\n",
              "    20% {\n",
              "      border-color: transparent;\n",
              "      border-left-color: var(--fill-color);\n",
              "      border-top-color: var(--fill-color);\n",
              "    }\n",
              "    30% {\n",
              "      border-color: transparent;\n",
              "      border-left-color: var(--fill-color);\n",
              "      border-top-color: var(--fill-color);\n",
              "      border-right-color: var(--fill-color);\n",
              "    }\n",
              "    40% {\n",
              "      border-color: transparent;\n",
              "      border-right-color: var(--fill-color);\n",
              "      border-top-color: var(--fill-color);\n",
              "    }\n",
              "    60% {\n",
              "      border-color: transparent;\n",
              "      border-right-color: var(--fill-color);\n",
              "    }\n",
              "    80% {\n",
              "      border-color: transparent;\n",
              "      border-right-color: var(--fill-color);\n",
              "      border-bottom-color: var(--fill-color);\n",
              "    }\n",
              "    90% {\n",
              "      border-color: transparent;\n",
              "      border-bottom-color: var(--fill-color);\n",
              "    }\n",
              "  }\n",
              "</style>\n",
              "\n",
              "  <script>\n",
              "    async function quickchart(key) {\n",
              "      const quickchartButtonEl =\n",
              "        document.querySelector('#' + key + ' button');\n",
              "      quickchartButtonEl.disabled = true;  // To prevent multiple clicks.\n",
              "      quickchartButtonEl.classList.add('colab-df-spinner');\n",
              "      try {\n",
              "        const charts = await google.colab.kernel.invokeFunction(\n",
              "            'suggestCharts', [key], {});\n",
              "      } catch (error) {\n",
              "        console.error('Error during call to suggestCharts:', error);\n",
              "      }\n",
              "      quickchartButtonEl.classList.remove('colab-df-spinner');\n",
              "      quickchartButtonEl.classList.add('colab-df-quickchart-complete');\n",
              "    }\n",
              "    (() => {\n",
              "      let quickchartButtonEl =\n",
              "        document.querySelector('#df-57b4418c-7f04-4937-84e2-fb81047c12c6 button');\n",
              "      quickchartButtonEl.style.display =\n",
              "        google.colab.kernel.accessAllowed ? 'block' : 'none';\n",
              "    })();\n",
              "  </script>\n",
              "</div>\n",
              "    </div>\n",
              "  </div>\n"
            ]
          },
          "metadata": {},
          "execution_count": 4
        }
      ]
    },
    {
      "cell_type": "code",
      "source": [
        "# df = [df1, df2, df3 ,df4]\n",
        "# pantip = pd.concat(df, ignore_index=True, sort=False)"
      ],
      "metadata": {
        "id": "rtkKGenbBfNY"
      },
      "execution_count": 5,
      "outputs": []
    },
    {
      "cell_type": "markdown",
      "source": [
        "# Add Instruction Column"
      ],
      "metadata": {
        "id": "7uGoxPIZzhiJ"
      }
    },
    {
      "cell_type": "code",
      "source": [
        "#df[\"instruction\"] = \"แก้คำผิด\""
      ],
      "metadata": {
        "id": "_fv-x10fzvis"
      },
      "execution_count": 6,
      "outputs": []
    },
    {
      "cell_type": "code",
      "source": [
        "#df = df.rename(columns={\"WRONG\":\"input\", \"CORRECT\":\"output\"})"
      ],
      "metadata": {
        "id": "5H2JeDiZ0BP-"
      },
      "execution_count": 7,
      "outputs": []
    },
    {
      "cell_type": "code",
      "source": [
        "#df=df[['instruction','input','output']]"
      ],
      "metadata": {
        "id": "3Dvq0S49cgsi"
      },
      "execution_count": null,
      "outputs": []
    },
    {
      "cell_type": "code",
      "source": [
        "df.to_json(\"/content/pantip.jsonl\",orient='records', lines=True)"
      ],
      "metadata": {
        "id": "lP7Mo2840LY9"
      },
      "execution_count": 9,
      "outputs": []
    },
    {
      "cell_type": "code",
      "source": [
        "df.shape      # (xxxx, 3)"
      ],
      "metadata": {
        "id": "Yi3vo4Yo7BjY",
        "colab": {
          "base_uri": "https://localhost:8080/"
        },
        "outputId": "9e4902d6-3891-4d5e-a447-644e7a3a6322"
      },
      "execution_count": 10,
      "outputs": [
        {
          "output_type": "execute_result",
          "data": {
            "text/plain": [
              "(1171, 3)"
            ]
          },
          "metadata": {},
          "execution_count": 10
        }
      ]
    },
    {
      "cell_type": "code",
      "source": [
        "df.info()"
      ],
      "metadata": {
        "id": "rUnwM0pBDL_E",
        "colab": {
          "base_uri": "https://localhost:8080/"
        },
        "outputId": "d15091cb-716c-463d-b96c-1b919b266fd3"
      },
      "execution_count": 11,
      "outputs": [
        {
          "output_type": "stream",
          "name": "stdout",
          "text": [
            "<class 'pandas.core.frame.DataFrame'>\n",
            "RangeIndex: 1171 entries, 0 to 1170\n",
            "Data columns (total 3 columns):\n",
            " #   Column       Non-Null Count  Dtype \n",
            "---  ------       --------------  ----- \n",
            " 0   instruction  1136 non-null   object\n",
            " 1   input        1171 non-null   object\n",
            " 2   output       1171 non-null   object\n",
            "dtypes: object(3)\n",
            "memory usage: 27.6+ KB\n"
          ]
        }
      ]
    },
    {
      "cell_type": "code",
      "source": [],
      "metadata": {
        "id": "zo6tNIamRv0T"
      },
      "execution_count": null,
      "outputs": []
    },
    {
      "cell_type": "markdown",
      "source": [
        "## Save df to CSV"
      ],
      "metadata": {
        "id": "YWLkXywXN630"
      }
    },
    {
      "cell_type": "code",
      "source": [
        "df.to_csv('/content/pantip.csv', index=False)"
      ],
      "metadata": {
        "id": "dlYDF7kEIlSJ"
      },
      "execution_count": 13,
      "outputs": []
    }
  ]
}