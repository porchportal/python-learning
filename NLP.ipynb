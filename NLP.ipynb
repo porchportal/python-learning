{
  "nbformat": 4,
  "nbformat_minor": 0,
  "metadata": {
    "colab": {
      "provenance": [],
      "gpuType": "T4",
      "authorship_tag": "ABX9TyPGgxp1nnw/U7Qzc4LhJx1j",
      "include_colab_link": true
    },
    "kernelspec": {
      "name": "python3",
      "display_name": "Python 3"
    },
    "language_info": {
      "name": "python"
    }
  },
  "cells": [
    {
      "cell_type": "markdown",
      "metadata": {
        "id": "view-in-github",
        "colab_type": "text"
      },
      "source": [
        "<a href=\"https://colab.research.google.com/github/porchportal/python-learning/blob/main/NLP.ipynb\" target=\"_parent\"><img src=\"https://colab.research.google.com/assets/colab-badge.svg\" alt=\"Open In Colab\"/></a>"
      ]
    },
    {
      "cell_type": "markdown",
      "source": [
        "procesing"
      ],
      "metadata": {
        "id": "g1ShXomazZOp"
      }
    },
    {
      "cell_type": "code",
      "execution_count": 84,
      "metadata": {
        "colab": {
          "base_uri": "https://localhost:8080/"
        },
        "id": "BP0wre5Wv9Wi",
        "outputId": "7bce5b57-1c86-4f09-a261-b10642bb8034"
      },
      "outputs": [
        {
          "output_type": "stream",
          "name": "stdout",
          "text": [
            "Requirement already satisfied: pythainlp[full] in /usr/local/lib/python3.10/dist-packages (4.0.2)\n",
            "Requirement already satisfied: requests>=2.22.0 in /usr/local/lib/python3.10/dist-packages (from pythainlp[full]) (2.27.1)\n",
            "Requirement already satisfied: PyYAML>=5.3.1 in /usr/local/lib/python3.10/dist-packages (from pythainlp[full]) (6.0)\n",
            "Requirement already satisfied: attacut>=1.0.4 in /usr/local/lib/python3.10/dist-packages (from pythainlp[full]) (1.0.6)\n",
            "Requirement already satisfied: emoji>=0.5.1 in /usr/local/lib/python3.10/dist-packages (from pythainlp[full]) (2.6.0)\n",
            "Requirement already satisfied: epitran>=1.1 in /usr/local/lib/python3.10/dist-packages (from pythainlp[full]) (1.24)\n",
            "Requirement already satisfied: fairseq>=0.10.0 in /usr/local/lib/python3.10/dist-packages (from pythainlp[full]) (0.12.2)\n",
            "Requirement already satisfied: gensim>=4.0.0 in /usr/local/lib/python3.10/dist-packages (from pythainlp[full]) (4.3.1)\n",
            "Requirement already satisfied: nltk>=3.3 in /usr/local/lib/python3.10/dist-packages (from pythainlp[full]) (3.8.1)\n",
            "Requirement already satisfied: numpy>=1.22 in /usr/local/lib/python3.10/dist-packages (from pythainlp[full]) (1.22.4)\n",
            "Requirement already satisfied: pandas>=0.24 in /usr/local/lib/python3.10/dist-packages (from pythainlp[full]) (1.5.3)\n",
            "Requirement already satisfied: pyicu>=2.3 in /usr/local/lib/python3.10/dist-packages (from pythainlp[full]) (2.11)\n",
            "Requirement already satisfied: sacremoses>=0.0.41 in /usr/local/lib/python3.10/dist-packages (from pythainlp[full]) (0.0.53)\n",
            "Requirement already satisfied: sentencepiece>=0.1.91 in /usr/local/lib/python3.10/dist-packages (from pythainlp[full]) (0.1.99)\n",
            "Requirement already satisfied: ssg>=0.0.8 in /usr/local/lib/python3.10/dist-packages (from pythainlp[full]) (0.0.8)\n",
            "Requirement already satisfied: torch>=1.0.0 in /usr/local/lib/python3.10/dist-packages (from pythainlp[full]) (2.0.1+cu118)\n",
            "Requirement already satisfied: fastai<2.0 in /usr/local/lib/python3.10/dist-packages (from pythainlp[full]) (1.0.61)\n",
            "Requirement already satisfied: bpemb>=0.3.2 in /usr/local/lib/python3.10/dist-packages (from pythainlp[full]) (0.3.4)\n",
            "Requirement already satisfied: transformers>=4.22.1 in /usr/local/lib/python3.10/dist-packages (from pythainlp[full]) (4.30.2)\n",
            "Requirement already satisfied: sefr-cut>=1.1 in /usr/local/lib/python3.10/dist-packages (from pythainlp[full]) (1.1)\n",
            "Requirement already satisfied: phunspell>=0.1.6 in /usr/local/lib/python3.10/dist-packages (from pythainlp[full]) (0.1.6)\n",
            "Requirement already satisfied: spylls>=0.1.5 in /usr/local/lib/python3.10/dist-packages (from pythainlp[full]) (0.1.7)\n",
            "Requirement already satisfied: symspellpy>=6.7.6 in /usr/local/lib/python3.10/dist-packages (from pythainlp[full]) (6.7.7)\n",
            "Requirement already satisfied: oskut>=1.3 in /usr/local/lib/python3.10/dist-packages (from pythainlp[full]) (1.3)\n",
            "Requirement already satisfied: nlpo3>=1.2.2 in /usr/local/lib/python3.10/dist-packages (from pythainlp[full]) (1.3.0)\n",
            "Requirement already satisfied: onnxruntime>=1.10.0 in /usr/local/lib/python3.10/dist-packages (from pythainlp[full]) (1.15.1)\n",
            "Requirement already satisfied: thai-nner in /usr/local/lib/python3.10/dist-packages (from pythainlp[full]) (0.3)\n",
            "Requirement already satisfied: wunsen>=0.0.3 in /usr/local/lib/python3.10/dist-packages (from pythainlp[full]) (0.0.3)\n",
            "Requirement already satisfied: spacy-thai>=0.7.1 in /usr/local/lib/python3.10/dist-packages (from pythainlp[full]) (0.7.3)\n",
            "Requirement already satisfied: ufal.chu-liu-edmonds>=1.0.2 in /usr/local/lib/python3.10/dist-packages (from pythainlp[full]) (1.0.2)\n",
            "Requirement already satisfied: docopt>=0.6.2 in /usr/local/lib/python3.10/dist-packages (from attacut>=1.0.4->pythainlp[full]) (0.6.2)\n",
            "Requirement already satisfied: fire>=0.1.3 in /usr/local/lib/python3.10/dist-packages (from attacut>=1.0.4->pythainlp[full]) (0.5.0)\n",
            "Requirement already satisfied: nptyping>=0.2.0 in /usr/local/lib/python3.10/dist-packages (from attacut>=1.0.4->pythainlp[full]) (2.5.0)\n",
            "Requirement already satisfied: six>=1.12.0 in /usr/local/lib/python3.10/dist-packages (from attacut>=1.0.4->pythainlp[full]) (1.16.0)\n",
            "Requirement already satisfied: tqdm in /usr/local/lib/python3.10/dist-packages (from bpemb>=0.3.2->pythainlp[full]) (4.65.0)\n",
            "Requirement already satisfied: setuptools in /usr/local/lib/python3.10/dist-packages (from epitran>=1.1->pythainlp[full]) (67.7.2)\n",
            "Requirement already satisfied: regex in /usr/local/lib/python3.10/dist-packages (from epitran>=1.1->pythainlp[full]) (2022.10.31)\n",
            "Requirement already satisfied: panphon>=0.20 in /usr/local/lib/python3.10/dist-packages (from epitran>=1.1->pythainlp[full]) (0.20.0)\n",
            "Requirement already satisfied: marisa-trie in /usr/local/lib/python3.10/dist-packages (from epitran>=1.1->pythainlp[full]) (0.8.0)\n",
            "Requirement already satisfied: cffi in /usr/local/lib/python3.10/dist-packages (from fairseq>=0.10.0->pythainlp[full]) (1.15.1)\n",
            "Requirement already satisfied: cython in /usr/local/lib/python3.10/dist-packages (from fairseq>=0.10.0->pythainlp[full]) (0.29.35)\n",
            "Requirement already satisfied: hydra-core<1.1,>=1.0.7 in /usr/local/lib/python3.10/dist-packages (from fairseq>=0.10.0->pythainlp[full]) (1.0.7)\n",
            "Requirement already satisfied: omegaconf<2.1 in /usr/local/lib/python3.10/dist-packages (from fairseq>=0.10.0->pythainlp[full]) (2.0.6)\n",
            "Requirement already satisfied: sacrebleu>=1.4.12 in /usr/local/lib/python3.10/dist-packages (from fairseq>=0.10.0->pythainlp[full]) (2.3.1)\n",
            "Requirement already satisfied: bitarray in /usr/local/lib/python3.10/dist-packages (from fairseq>=0.10.0->pythainlp[full]) (2.7.6)\n",
            "Requirement already satisfied: torchaudio>=0.8.0 in /usr/local/lib/python3.10/dist-packages (from fairseq>=0.10.0->pythainlp[full]) (2.0.2+cu118)\n",
            "Requirement already satisfied: bottleneck in /usr/local/lib/python3.10/dist-packages (from fastai<2.0->pythainlp[full]) (1.3.7)\n",
            "Requirement already satisfied: fastprogress>=0.2.1 in /usr/local/lib/python3.10/dist-packages (from fastai<2.0->pythainlp[full]) (1.0.3)\n",
            "Requirement already satisfied: beautifulsoup4 in /usr/local/lib/python3.10/dist-packages (from fastai<2.0->pythainlp[full]) (4.11.2)\n",
            "Requirement already satisfied: matplotlib in /usr/local/lib/python3.10/dist-packages (from fastai<2.0->pythainlp[full]) (3.7.1)\n",
            "Requirement already satisfied: numexpr in /usr/local/lib/python3.10/dist-packages (from fastai<2.0->pythainlp[full]) (2.8.4)\n",
            "Requirement already satisfied: nvidia-ml-py3 in /usr/local/lib/python3.10/dist-packages (from fastai<2.0->pythainlp[full]) (7.352.0)\n",
            "Requirement already satisfied: packaging in /usr/local/lib/python3.10/dist-packages (from fastai<2.0->pythainlp[full]) (23.1)\n",
            "Requirement already satisfied: Pillow in /usr/local/lib/python3.10/dist-packages (from fastai<2.0->pythainlp[full]) (8.4.0)\n",
            "Requirement already satisfied: scipy in /usr/local/lib/python3.10/dist-packages (from fastai<2.0->pythainlp[full]) (1.10.1)\n",
            "Requirement already satisfied: torchvision in /usr/local/lib/python3.10/dist-packages (from fastai<2.0->pythainlp[full]) (0.15.2+cu118)\n",
            "Requirement already satisfied: smart-open>=1.8.1 in /usr/local/lib/python3.10/dist-packages (from gensim>=4.0.0->pythainlp[full]) (6.3.0)\n",
            "Requirement already satisfied: click in /usr/local/lib/python3.10/dist-packages (from nltk>=3.3->pythainlp[full]) (8.1.3)\n",
            "Requirement already satisfied: joblib in /usr/local/lib/python3.10/dist-packages (from nltk>=3.3->pythainlp[full]) (1.2.0)\n",
            "Requirement already satisfied: coloredlogs in /usr/local/lib/python3.10/dist-packages (from onnxruntime>=1.10.0->pythainlp[full]) (15.0.1)\n",
            "Requirement already satisfied: flatbuffers in /usr/local/lib/python3.10/dist-packages (from onnxruntime>=1.10.0->pythainlp[full]) (23.5.26)\n",
            "Requirement already satisfied: protobuf in /usr/local/lib/python3.10/dist-packages (from onnxruntime>=1.10.0->pythainlp[full]) (3.20.3)\n",
            "Requirement already satisfied: sympy in /usr/local/lib/python3.10/dist-packages (from onnxruntime>=1.10.0->pythainlp[full]) (1.11.1)\n",
            "Requirement already satisfied: tensorflow>=2.0.0 in /usr/local/lib/python3.10/dist-packages (from oskut>=1.3->pythainlp[full]) (2.12.0)\n",
            "Requirement already satisfied: scikit-learn in /usr/local/lib/python3.10/dist-packages (from oskut>=1.3->pythainlp[full]) (1.2.2)\n",
            "Requirement already satisfied: pyahocorasick<=1.4.0 in /usr/local/lib/python3.10/dist-packages (from oskut>=1.3->pythainlp[full]) (1.4.0)\n",
            "Requirement already satisfied: python-dateutil>=2.8.1 in /usr/local/lib/python3.10/dist-packages (from pandas>=0.24->pythainlp[full]) (2.8.2)\n",
            "Requirement already satisfied: pytz>=2020.1 in /usr/local/lib/python3.10/dist-packages (from pandas>=0.24->pythainlp[full]) (2022.7.1)\n",
            "Requirement already satisfied: urllib3<1.27,>=1.21.1 in /usr/local/lib/python3.10/dist-packages (from requests>=2.22.0->pythainlp[full]) (1.26.16)\n",
            "Requirement already satisfied: certifi>=2017.4.17 in /usr/local/lib/python3.10/dist-packages (from requests>=2.22.0->pythainlp[full]) (2023.5.7)\n",
            "Requirement already satisfied: charset-normalizer~=2.0.0 in /usr/local/lib/python3.10/dist-packages (from requests>=2.22.0->pythainlp[full]) (2.0.12)\n",
            "Requirement already satisfied: idna<4,>=2.5 in /usr/local/lib/python3.10/dist-packages (from requests>=2.22.0->pythainlp[full]) (3.4)\n",
            "Requirement already satisfied: python-crfsuite in /usr/local/lib/python3.10/dist-packages (from sefr-cut>=1.1->pythainlp[full]) (0.9.9)\n",
            "Requirement already satisfied: deplacy>=2.0.3 in /usr/local/lib/python3.10/dist-packages (from spacy-thai>=0.7.1->pythainlp[full]) (2.0.5)\n",
            "Requirement already satisfied: spacy>=2.2.2 in /usr/local/lib/python3.10/dist-packages (from spacy-thai>=0.7.1->pythainlp[full]) (3.5.3)\n",
            "Requirement already satisfied: ufal.udpipe>=1.2.0 in /usr/local/lib/python3.10/dist-packages (from spacy-thai>=0.7.1->pythainlp[full]) (1.3.0.1)\n",
            "Requirement already satisfied: editdistpy>=0.1.3 in /usr/local/lib/python3.10/dist-packages (from symspellpy>=6.7.6->pythainlp[full]) (0.1.3)\n",
            "Requirement already satisfied: filelock in /usr/local/lib/python3.10/dist-packages (from torch>=1.0.0->pythainlp[full]) (3.12.2)\n",
            "Requirement already satisfied: typing-extensions in /usr/local/lib/python3.10/dist-packages (from torch>=1.0.0->pythainlp[full]) (4.6.3)\n",
            "Requirement already satisfied: networkx in /usr/local/lib/python3.10/dist-packages (from torch>=1.0.0->pythainlp[full]) (3.1)\n",
            "Requirement already satisfied: jinja2 in /usr/local/lib/python3.10/dist-packages (from torch>=1.0.0->pythainlp[full]) (3.1.2)\n",
            "Requirement already satisfied: triton==2.0.0 in /usr/local/lib/python3.10/dist-packages (from torch>=1.0.0->pythainlp[full]) (2.0.0)\n",
            "Requirement already satisfied: cmake in /usr/local/lib/python3.10/dist-packages (from triton==2.0.0->torch>=1.0.0->pythainlp[full]) (3.25.2)\n",
            "Requirement already satisfied: lit in /usr/local/lib/python3.10/dist-packages (from triton==2.0.0->torch>=1.0.0->pythainlp[full]) (16.0.6)\n",
            "Requirement already satisfied: huggingface-hub<1.0,>=0.14.1 in /usr/local/lib/python3.10/dist-packages (from transformers>=4.22.1->pythainlp[full]) (0.15.1)\n",
            "Requirement already satisfied: tokenizers!=0.11.3,<0.14,>=0.11.1 in /usr/local/lib/python3.10/dist-packages (from transformers>=4.22.1->pythainlp[full]) (0.13.3)\n",
            "Requirement already satisfied: safetensors>=0.3.1 in /usr/local/lib/python3.10/dist-packages (from transformers>=4.22.1->pythainlp[full]) (0.3.1)\n",
            "Requirement already satisfied: khanaa>=0.0.6 in /usr/local/lib/python3.10/dist-packages (from wunsen>=0.0.3->pythainlp[full]) (0.0.6)\n",
            "Requirement already satisfied: tensorboard>=1.14 in /usr/local/lib/python3.10/dist-packages (from thai-nner->pythainlp[full]) (2.12.3)\n",
            "Requirement already satisfied: termcolor in /usr/local/lib/python3.10/dist-packages (from fire>=0.1.3->attacut>=1.0.4->pythainlp[full]) (2.3.0)\n",
            "Requirement already satisfied: fsspec in /usr/local/lib/python3.10/dist-packages (from huggingface-hub<1.0,>=0.14.1->transformers>=4.22.1->pythainlp[full]) (2023.6.0)\n",
            "Requirement already satisfied: antlr4-python3-runtime==4.8 in /usr/local/lib/python3.10/dist-packages (from hydra-core<1.1,>=1.0.7->fairseq>=0.10.0->pythainlp[full]) (4.8)\n",
            "Requirement already satisfied: unicodecsv in /usr/local/lib/python3.10/dist-packages (from panphon>=0.20->epitran>=1.1->pythainlp[full]) (0.14.1)\n",
            "Requirement already satisfied: editdistance in /usr/local/lib/python3.10/dist-packages (from panphon>=0.20->epitran>=1.1->pythainlp[full]) (0.6.2)\n",
            "Requirement already satisfied: munkres in /usr/local/lib/python3.10/dist-packages (from panphon>=0.20->epitran>=1.1->pythainlp[full]) (1.1.4)\n",
            "Requirement already satisfied: portalocker in /usr/local/lib/python3.10/dist-packages (from sacrebleu>=1.4.12->fairseq>=0.10.0->pythainlp[full]) (2.7.0)\n",
            "Requirement already satisfied: tabulate>=0.8.9 in /usr/local/lib/python3.10/dist-packages (from sacrebleu>=1.4.12->fairseq>=0.10.0->pythainlp[full]) (0.8.10)\n",
            "Requirement already satisfied: colorama in /usr/local/lib/python3.10/dist-packages (from sacrebleu>=1.4.12->fairseq>=0.10.0->pythainlp[full]) (0.4.6)\n",
            "Requirement already satisfied: lxml in /usr/local/lib/python3.10/dist-packages (from sacrebleu>=1.4.12->fairseq>=0.10.0->pythainlp[full]) (4.9.2)\n",
            "Requirement already satisfied: spacy-legacy<3.1.0,>=3.0.11 in /usr/local/lib/python3.10/dist-packages (from spacy>=2.2.2->spacy-thai>=0.7.1->pythainlp[full]) (3.0.12)\n",
            "Requirement already satisfied: spacy-loggers<2.0.0,>=1.0.0 in /usr/local/lib/python3.10/dist-packages (from spacy>=2.2.2->spacy-thai>=0.7.1->pythainlp[full]) (1.0.4)\n",
            "Requirement already satisfied: murmurhash<1.1.0,>=0.28.0 in /usr/local/lib/python3.10/dist-packages (from spacy>=2.2.2->spacy-thai>=0.7.1->pythainlp[full]) (1.0.9)\n",
            "Requirement already satisfied: cymem<2.1.0,>=2.0.2 in /usr/local/lib/python3.10/dist-packages (from spacy>=2.2.2->spacy-thai>=0.7.1->pythainlp[full]) (2.0.7)\n",
            "Requirement already satisfied: preshed<3.1.0,>=3.0.2 in /usr/local/lib/python3.10/dist-packages (from spacy>=2.2.2->spacy-thai>=0.7.1->pythainlp[full]) (3.0.8)\n",
            "Requirement already satisfied: thinc<8.2.0,>=8.1.8 in /usr/local/lib/python3.10/dist-packages (from spacy>=2.2.2->spacy-thai>=0.7.1->pythainlp[full]) (8.1.10)\n",
            "Requirement already satisfied: wasabi<1.2.0,>=0.9.1 in /usr/local/lib/python3.10/dist-packages (from spacy>=2.2.2->spacy-thai>=0.7.1->pythainlp[full]) (1.1.2)\n",
            "Requirement already satisfied: srsly<3.0.0,>=2.4.3 in /usr/local/lib/python3.10/dist-packages (from spacy>=2.2.2->spacy-thai>=0.7.1->pythainlp[full]) (2.4.6)\n",
            "Requirement already satisfied: catalogue<2.1.0,>=2.0.6 in /usr/local/lib/python3.10/dist-packages (from spacy>=2.2.2->spacy-thai>=0.7.1->pythainlp[full]) (2.0.8)\n",
            "Requirement already satisfied: typer<0.8.0,>=0.3.0 in /usr/local/lib/python3.10/dist-packages (from spacy>=2.2.2->spacy-thai>=0.7.1->pythainlp[full]) (0.7.0)\n",
            "Requirement already satisfied: pathy>=0.10.0 in /usr/local/lib/python3.10/dist-packages (from spacy>=2.2.2->spacy-thai>=0.7.1->pythainlp[full]) (0.10.2)\n",
            "Requirement already satisfied: pydantic!=1.8,!=1.8.1,<1.11.0,>=1.7.4 in /usr/local/lib/python3.10/dist-packages (from spacy>=2.2.2->spacy-thai>=0.7.1->pythainlp[full]) (1.10.9)\n",
            "Requirement already satisfied: langcodes<4.0.0,>=3.2.0 in /usr/local/lib/python3.10/dist-packages (from spacy>=2.2.2->spacy-thai>=0.7.1->pythainlp[full]) (3.3.0)\n",
            "Requirement already satisfied: absl-py>=0.4 in /usr/local/lib/python3.10/dist-packages (from tensorboard>=1.14->thai-nner->pythainlp[full]) (1.4.0)\n",
            "Requirement already satisfied: grpcio>=1.48.2 in /usr/local/lib/python3.10/dist-packages (from tensorboard>=1.14->thai-nner->pythainlp[full]) (1.56.0)\n",
            "Requirement already satisfied: google-auth<3,>=1.6.3 in /usr/local/lib/python3.10/dist-packages (from tensorboard>=1.14->thai-nner->pythainlp[full]) (2.17.3)\n",
            "Requirement already satisfied: google-auth-oauthlib<1.1,>=0.5 in /usr/local/lib/python3.10/dist-packages (from tensorboard>=1.14->thai-nner->pythainlp[full]) (1.0.0)\n",
            "Requirement already satisfied: markdown>=2.6.8 in /usr/local/lib/python3.10/dist-packages (from tensorboard>=1.14->thai-nner->pythainlp[full]) (3.4.3)\n",
            "Requirement already satisfied: tensorboard-data-server<0.8.0,>=0.7.0 in /usr/local/lib/python3.10/dist-packages (from tensorboard>=1.14->thai-nner->pythainlp[full]) (0.7.1)\n",
            "Requirement already satisfied: werkzeug>=1.0.1 in /usr/local/lib/python3.10/dist-packages (from tensorboard>=1.14->thai-nner->pythainlp[full]) (2.3.6)\n",
            "Requirement already satisfied: wheel>=0.26 in /usr/local/lib/python3.10/dist-packages (from tensorboard>=1.14->thai-nner->pythainlp[full]) (0.40.0)\n",
            "Requirement already satisfied: astunparse>=1.6.0 in /usr/local/lib/python3.10/dist-packages (from tensorflow>=2.0.0->oskut>=1.3->pythainlp[full]) (1.6.3)\n",
            "Requirement already satisfied: gast<=0.4.0,>=0.2.1 in /usr/local/lib/python3.10/dist-packages (from tensorflow>=2.0.0->oskut>=1.3->pythainlp[full]) (0.4.0)\n",
            "Requirement already satisfied: google-pasta>=0.1.1 in /usr/local/lib/python3.10/dist-packages (from tensorflow>=2.0.0->oskut>=1.3->pythainlp[full]) (0.2.0)\n",
            "Requirement already satisfied: h5py>=2.9.0 in /usr/local/lib/python3.10/dist-packages (from tensorflow>=2.0.0->oskut>=1.3->pythainlp[full]) (3.8.0)\n",
            "Requirement already satisfied: jax>=0.3.15 in /usr/local/lib/python3.10/dist-packages (from tensorflow>=2.0.0->oskut>=1.3->pythainlp[full]) (0.4.10)\n",
            "Requirement already satisfied: keras<2.13,>=2.12.0 in /usr/local/lib/python3.10/dist-packages (from tensorflow>=2.0.0->oskut>=1.3->pythainlp[full]) (2.12.0)\n",
            "Requirement already satisfied: libclang>=13.0.0 in /usr/local/lib/python3.10/dist-packages (from tensorflow>=2.0.0->oskut>=1.3->pythainlp[full]) (16.0.0)\n",
            "Requirement already satisfied: opt-einsum>=2.3.2 in /usr/local/lib/python3.10/dist-packages (from tensorflow>=2.0.0->oskut>=1.3->pythainlp[full]) (3.3.0)\n",
            "Requirement already satisfied: tensorflow-estimator<2.13,>=2.12.0 in /usr/local/lib/python3.10/dist-packages (from tensorflow>=2.0.0->oskut>=1.3->pythainlp[full]) (2.12.0)\n",
            "Requirement already satisfied: wrapt<1.15,>=1.11.0 in /usr/local/lib/python3.10/dist-packages (from tensorflow>=2.0.0->oskut>=1.3->pythainlp[full]) (1.14.1)\n",
            "Requirement already satisfied: tensorflow-io-gcs-filesystem>=0.23.1 in /usr/local/lib/python3.10/dist-packages (from tensorflow>=2.0.0->oskut>=1.3->pythainlp[full]) (0.32.0)\n",
            "Requirement already satisfied: soupsieve>1.2 in /usr/local/lib/python3.10/dist-packages (from beautifulsoup4->fastai<2.0->pythainlp[full]) (2.4.1)\n",
            "Requirement already satisfied: pycparser in /usr/local/lib/python3.10/dist-packages (from cffi->fairseq>=0.10.0->pythainlp[full]) (2.21)\n",
            "Requirement already satisfied: humanfriendly>=9.1 in /usr/local/lib/python3.10/dist-packages (from coloredlogs->onnxruntime>=1.10.0->pythainlp[full]) (10.0)\n",
            "Requirement already satisfied: MarkupSafe>=2.0 in /usr/local/lib/python3.10/dist-packages (from jinja2->torch>=1.0.0->pythainlp[full]) (2.1.3)\n",
            "Requirement already satisfied: contourpy>=1.0.1 in /usr/local/lib/python3.10/dist-packages (from matplotlib->fastai<2.0->pythainlp[full]) (1.1.0)\n",
            "Requirement already satisfied: cycler>=0.10 in /usr/local/lib/python3.10/dist-packages (from matplotlib->fastai<2.0->pythainlp[full]) (0.11.0)\n",
            "Requirement already satisfied: fonttools>=4.22.0 in /usr/local/lib/python3.10/dist-packages (from matplotlib->fastai<2.0->pythainlp[full]) (4.40.0)\n",
            "Requirement already satisfied: kiwisolver>=1.0.1 in /usr/local/lib/python3.10/dist-packages (from matplotlib->fastai<2.0->pythainlp[full]) (1.4.4)\n",
            "Requirement already satisfied: pyparsing>=2.3.1 in /usr/local/lib/python3.10/dist-packages (from matplotlib->fastai<2.0->pythainlp[full]) (3.1.0)\n",
            "Requirement already satisfied: threadpoolctl>=2.0.0 in /usr/local/lib/python3.10/dist-packages (from scikit-learn->oskut>=1.3->pythainlp[full]) (3.1.0)\n",
            "Requirement already satisfied: mpmath>=0.19 in /usr/local/lib/python3.10/dist-packages (from sympy->onnxruntime>=1.10.0->pythainlp[full]) (1.3.0)\n",
            "Requirement already satisfied: cachetools<6.0,>=2.0.0 in /usr/local/lib/python3.10/dist-packages (from google-auth<3,>=1.6.3->tensorboard>=1.14->thai-nner->pythainlp[full]) (5.3.1)\n",
            "Requirement already satisfied: pyasn1-modules>=0.2.1 in /usr/local/lib/python3.10/dist-packages (from google-auth<3,>=1.6.3->tensorboard>=1.14->thai-nner->pythainlp[full]) (0.3.0)\n",
            "Requirement already satisfied: rsa<5,>=3.1.4 in /usr/local/lib/python3.10/dist-packages (from google-auth<3,>=1.6.3->tensorboard>=1.14->thai-nner->pythainlp[full]) (4.9)\n",
            "Requirement already satisfied: requests-oauthlib>=0.7.0 in /usr/local/lib/python3.10/dist-packages (from google-auth-oauthlib<1.1,>=0.5->tensorboard>=1.14->thai-nner->pythainlp[full]) (1.3.1)\n",
            "Requirement already satisfied: ml-dtypes>=0.1.0 in /usr/local/lib/python3.10/dist-packages (from jax>=0.3.15->tensorflow>=2.0.0->oskut>=1.3->pythainlp[full]) (0.2.0)\n",
            "Requirement already satisfied: blis<0.8.0,>=0.7.8 in /usr/local/lib/python3.10/dist-packages (from thinc<8.2.0,>=8.1.8->spacy>=2.2.2->spacy-thai>=0.7.1->pythainlp[full]) (0.7.9)\n",
            "Requirement already satisfied: confection<1.0.0,>=0.0.1 in /usr/local/lib/python3.10/dist-packages (from thinc<8.2.0,>=8.1.8->spacy>=2.2.2->spacy-thai>=0.7.1->pythainlp[full]) (0.0.4)\n",
            "Requirement already satisfied: pyasn1<0.6.0,>=0.4.6 in /usr/local/lib/python3.10/dist-packages (from pyasn1-modules>=0.2.1->google-auth<3,>=1.6.3->tensorboard>=1.14->thai-nner->pythainlp[full]) (0.5.0)\n",
            "Requirement already satisfied: oauthlib>=3.0.0 in /usr/local/lib/python3.10/dist-packages (from requests-oauthlib>=0.7.0->google-auth-oauthlib<1.1,>=0.5->tensorboard>=1.14->thai-nner->pythainlp[full]) (3.2.2)\n",
            "Requirement already satisfied: pandas in /usr/local/lib/python3.10/dist-packages (1.5.3)\n",
            "Requirement already satisfied: python-dateutil>=2.8.1 in /usr/local/lib/python3.10/dist-packages (from pandas) (2.8.2)\n",
            "Requirement already satisfied: pytz>=2020.1 in /usr/local/lib/python3.10/dist-packages (from pandas) (2022.7.1)\n",
            "Requirement already satisfied: numpy>=1.21.0 in /usr/local/lib/python3.10/dist-packages (from pandas) (1.22.4)\n",
            "Requirement already satisfied: six>=1.5 in /usr/local/lib/python3.10/dist-packages (from python-dateutil>=2.8.1->pandas) (1.16.0)\n",
            "Requirement already satisfied: epitran in /usr/local/lib/python3.10/dist-packages (1.24)\n",
            "Requirement already satisfied: setuptools in /usr/local/lib/python3.10/dist-packages (from epitran) (67.7.2)\n",
            "Requirement already satisfied: regex in /usr/local/lib/python3.10/dist-packages (from epitran) (2022.10.31)\n",
            "Requirement already satisfied: panphon>=0.20 in /usr/local/lib/python3.10/dist-packages (from epitran) (0.20.0)\n",
            "Requirement already satisfied: marisa-trie in /usr/local/lib/python3.10/dist-packages (from epitran) (0.8.0)\n",
            "Requirement already satisfied: requests in /usr/local/lib/python3.10/dist-packages (from epitran) (2.27.1)\n",
            "Requirement already satisfied: unicodecsv in /usr/local/lib/python3.10/dist-packages (from panphon>=0.20->epitran) (0.14.1)\n",
            "Requirement already satisfied: PyYAML in /usr/local/lib/python3.10/dist-packages (from panphon>=0.20->epitran) (6.0)\n",
            "Requirement already satisfied: numpy>=1.20.2 in /usr/local/lib/python3.10/dist-packages (from panphon>=0.20->epitran) (1.22.4)\n",
            "Requirement already satisfied: editdistance in /usr/local/lib/python3.10/dist-packages (from panphon>=0.20->epitran) (0.6.2)\n",
            "Requirement already satisfied: munkres in /usr/local/lib/python3.10/dist-packages (from panphon>=0.20->epitran) (1.1.4)\n",
            "Requirement already satisfied: urllib3<1.27,>=1.21.1 in /usr/local/lib/python3.10/dist-packages (from requests->epitran) (1.26.16)\n",
            "Requirement already satisfied: certifi>=2017.4.17 in /usr/local/lib/python3.10/dist-packages (from requests->epitran) (2023.5.7)\n",
            "Requirement already satisfied: charset-normalizer~=2.0.0 in /usr/local/lib/python3.10/dist-packages (from requests->epitran) (2.0.12)\n",
            "Requirement already satisfied: idna<4,>=2.5 in /usr/local/lib/python3.10/dist-packages (from requests->epitran) (3.4)\n",
            "\u001b[31mERROR: Could not find a version that satisfies the requirement shlearn_crfsuite (from versions: none)\u001b[0m\u001b[31m\n",
            "\u001b[0m\u001b[31mERROR: No matching distribution found for shlearn_crfsuite\u001b[0m\u001b[31m\n",
            "\u001b[0mRequirement already satisfied: tensorflow in /usr/local/lib/python3.10/dist-packages (2.12.0)\n",
            "Requirement already satisfied: deepcut in /usr/local/lib/python3.10/dist-packages (0.7.0.0)\n",
            "Requirement already satisfied: absl-py>=1.0.0 in /usr/local/lib/python3.10/dist-packages (from tensorflow) (1.4.0)\n",
            "Requirement already satisfied: astunparse>=1.6.0 in /usr/local/lib/python3.10/dist-packages (from tensorflow) (1.6.3)\n",
            "Requirement already satisfied: flatbuffers>=2.0 in /usr/local/lib/python3.10/dist-packages (from tensorflow) (23.5.26)\n",
            "Requirement already satisfied: gast<=0.4.0,>=0.2.1 in /usr/local/lib/python3.10/dist-packages (from tensorflow) (0.4.0)\n",
            "Requirement already satisfied: google-pasta>=0.1.1 in /usr/local/lib/python3.10/dist-packages (from tensorflow) (0.2.0)\n",
            "Requirement already satisfied: grpcio<2.0,>=1.24.3 in /usr/local/lib/python3.10/dist-packages (from tensorflow) (1.56.0)\n",
            "Requirement already satisfied: h5py>=2.9.0 in /usr/local/lib/python3.10/dist-packages (from tensorflow) (3.8.0)\n",
            "Requirement already satisfied: jax>=0.3.15 in /usr/local/lib/python3.10/dist-packages (from tensorflow) (0.4.10)\n",
            "Requirement already satisfied: keras<2.13,>=2.12.0 in /usr/local/lib/python3.10/dist-packages (from tensorflow) (2.12.0)\n",
            "Requirement already satisfied: libclang>=13.0.0 in /usr/local/lib/python3.10/dist-packages (from tensorflow) (16.0.0)\n",
            "Requirement already satisfied: numpy<1.24,>=1.22 in /usr/local/lib/python3.10/dist-packages (from tensorflow) (1.22.4)\n",
            "Requirement already satisfied: opt-einsum>=2.3.2 in /usr/local/lib/python3.10/dist-packages (from tensorflow) (3.3.0)\n",
            "Requirement already satisfied: packaging in /usr/local/lib/python3.10/dist-packages (from tensorflow) (23.1)\n",
            "Requirement already satisfied: protobuf!=4.21.0,!=4.21.1,!=4.21.2,!=4.21.3,!=4.21.4,!=4.21.5,<5.0.0dev,>=3.20.3 in /usr/local/lib/python3.10/dist-packages (from tensorflow) (3.20.3)\n",
            "Requirement already satisfied: setuptools in /usr/local/lib/python3.10/dist-packages (from tensorflow) (67.7.2)\n",
            "Requirement already satisfied: six>=1.12.0 in /usr/local/lib/python3.10/dist-packages (from tensorflow) (1.16.0)\n",
            "Requirement already satisfied: tensorboard<2.13,>=2.12 in /usr/local/lib/python3.10/dist-packages (from tensorflow) (2.12.3)\n",
            "Requirement already satisfied: tensorflow-estimator<2.13,>=2.12.0 in /usr/local/lib/python3.10/dist-packages (from tensorflow) (2.12.0)\n",
            "Requirement already satisfied: termcolor>=1.1.0 in /usr/local/lib/python3.10/dist-packages (from tensorflow) (2.3.0)\n",
            "Requirement already satisfied: typing-extensions>=3.6.6 in /usr/local/lib/python3.10/dist-packages (from tensorflow) (4.6.3)\n",
            "Requirement already satisfied: wrapt<1.15,>=1.11.0 in /usr/local/lib/python3.10/dist-packages (from tensorflow) (1.14.1)\n",
            "Requirement already satisfied: tensorflow-io-gcs-filesystem>=0.23.1 in /usr/local/lib/python3.10/dist-packages (from tensorflow) (0.32.0)\n",
            "Requirement already satisfied: pandas in /usr/local/lib/python3.10/dist-packages (from deepcut) (1.5.3)\n",
            "Requirement already satisfied: scipy in /usr/local/lib/python3.10/dist-packages (from deepcut) (1.10.1)\n",
            "Requirement already satisfied: scikit-learn in /usr/local/lib/python3.10/dist-packages (from deepcut) (1.2.2)\n",
            "Requirement already satisfied: wheel<1.0,>=0.23.0 in /usr/local/lib/python3.10/dist-packages (from astunparse>=1.6.0->tensorflow) (0.40.0)\n",
            "Requirement already satisfied: ml-dtypes>=0.1.0 in /usr/local/lib/python3.10/dist-packages (from jax>=0.3.15->tensorflow) (0.2.0)\n",
            "Requirement already satisfied: google-auth<3,>=1.6.3 in /usr/local/lib/python3.10/dist-packages (from tensorboard<2.13,>=2.12->tensorflow) (2.17.3)\n",
            "Requirement already satisfied: google-auth-oauthlib<1.1,>=0.5 in /usr/local/lib/python3.10/dist-packages (from tensorboard<2.13,>=2.12->tensorflow) (1.0.0)\n",
            "Requirement already satisfied: markdown>=2.6.8 in /usr/local/lib/python3.10/dist-packages (from tensorboard<2.13,>=2.12->tensorflow) (3.4.3)\n",
            "Requirement already satisfied: requests<3,>=2.21.0 in /usr/local/lib/python3.10/dist-packages (from tensorboard<2.13,>=2.12->tensorflow) (2.27.1)\n",
            "Requirement already satisfied: tensorboard-data-server<0.8.0,>=0.7.0 in /usr/local/lib/python3.10/dist-packages (from tensorboard<2.13,>=2.12->tensorflow) (0.7.1)\n",
            "Requirement already satisfied: werkzeug>=1.0.1 in /usr/local/lib/python3.10/dist-packages (from tensorboard<2.13,>=2.12->tensorflow) (2.3.6)\n",
            "Requirement already satisfied: python-dateutil>=2.8.1 in /usr/local/lib/python3.10/dist-packages (from pandas->deepcut) (2.8.2)\n",
            "Requirement already satisfied: pytz>=2020.1 in /usr/local/lib/python3.10/dist-packages (from pandas->deepcut) (2022.7.1)\n",
            "Requirement already satisfied: joblib>=1.1.1 in /usr/local/lib/python3.10/dist-packages (from scikit-learn->deepcut) (1.2.0)\n",
            "Requirement already satisfied: threadpoolctl>=2.0.0 in /usr/local/lib/python3.10/dist-packages (from scikit-learn->deepcut) (3.1.0)\n",
            "Requirement already satisfied: cachetools<6.0,>=2.0.0 in /usr/local/lib/python3.10/dist-packages (from google-auth<3,>=1.6.3->tensorboard<2.13,>=2.12->tensorflow) (5.3.1)\n",
            "Requirement already satisfied: pyasn1-modules>=0.2.1 in /usr/local/lib/python3.10/dist-packages (from google-auth<3,>=1.6.3->tensorboard<2.13,>=2.12->tensorflow) (0.3.0)\n",
            "Requirement already satisfied: rsa<5,>=3.1.4 in /usr/local/lib/python3.10/dist-packages (from google-auth<3,>=1.6.3->tensorboard<2.13,>=2.12->tensorflow) (4.9)\n",
            "Requirement already satisfied: requests-oauthlib>=0.7.0 in /usr/local/lib/python3.10/dist-packages (from google-auth-oauthlib<1.1,>=0.5->tensorboard<2.13,>=2.12->tensorflow) (1.3.1)\n",
            "Requirement already satisfied: urllib3<1.27,>=1.21.1 in /usr/local/lib/python3.10/dist-packages (from requests<3,>=2.21.0->tensorboard<2.13,>=2.12->tensorflow) (1.26.16)\n",
            "Requirement already satisfied: certifi>=2017.4.17 in /usr/local/lib/python3.10/dist-packages (from requests<3,>=2.21.0->tensorboard<2.13,>=2.12->tensorflow) (2023.5.7)\n",
            "Requirement already satisfied: charset-normalizer~=2.0.0 in /usr/local/lib/python3.10/dist-packages (from requests<3,>=2.21.0->tensorboard<2.13,>=2.12->tensorflow) (2.0.12)\n",
            "Requirement already satisfied: idna<4,>=2.5 in /usr/local/lib/python3.10/dist-packages (from requests<3,>=2.21.0->tensorboard<2.13,>=2.12->tensorflow) (3.4)\n",
            "Requirement already satisfied: MarkupSafe>=2.1.1 in /usr/local/lib/python3.10/dist-packages (from werkzeug>=1.0.1->tensorboard<2.13,>=2.12->tensorflow) (2.1.3)\n",
            "Requirement already satisfied: pyasn1<0.6.0,>=0.4.6 in /usr/local/lib/python3.10/dist-packages (from pyasn1-modules>=0.2.1->google-auth<3,>=1.6.3->tensorboard<2.13,>=2.12->tensorflow) (0.5.0)\n",
            "Requirement already satisfied: oauthlib>=3.0.0 in /usr/local/lib/python3.10/dist-packages (from requests-oauthlib>=0.7.0->google-auth-oauthlib<1.1,>=0.5->tensorboard<2.13,>=2.12->tensorflow) (3.2.2)\n",
            "Requirement already satisfied: attacut in /usr/local/lib/python3.10/dist-packages (1.0.6)\n",
            "Requirement already satisfied: docopt>=0.6.2 in /usr/local/lib/python3.10/dist-packages (from attacut) (0.6.2)\n",
            "Requirement already satisfied: fire>=0.1.3 in /usr/local/lib/python3.10/dist-packages (from attacut) (0.5.0)\n",
            "Requirement already satisfied: nptyping>=0.2.0 in /usr/local/lib/python3.10/dist-packages (from attacut) (2.5.0)\n",
            "Requirement already satisfied: numpy>=1.17.0 in /usr/local/lib/python3.10/dist-packages (from attacut) (1.22.4)\n",
            "Requirement already satisfied: pyyaml>=5.1.2 in /usr/local/lib/python3.10/dist-packages (from attacut) (6.0)\n",
            "Requirement already satisfied: six>=1.12.0 in /usr/local/lib/python3.10/dist-packages (from attacut) (1.16.0)\n",
            "Requirement already satisfied: ssg>=0.0.4 in /usr/local/lib/python3.10/dist-packages (from attacut) (0.0.8)\n",
            "Requirement already satisfied: torch>=1.2.0 in /usr/local/lib/python3.10/dist-packages (from attacut) (2.0.1+cu118)\n",
            "Requirement already satisfied: termcolor in /usr/local/lib/python3.10/dist-packages (from fire>=0.1.3->attacut) (2.3.0)\n",
            "Requirement already satisfied: python-crfsuite>=0.9.6 in /usr/local/lib/python3.10/dist-packages (from ssg>=0.0.4->attacut) (0.9.9)\n",
            "Requirement already satisfied: tqdm>=4.32.2 in /usr/local/lib/python3.10/dist-packages (from ssg>=0.0.4->attacut) (4.65.0)\n",
            "Requirement already satisfied: filelock in /usr/local/lib/python3.10/dist-packages (from torch>=1.2.0->attacut) (3.12.2)\n",
            "Requirement already satisfied: typing-extensions in /usr/local/lib/python3.10/dist-packages (from torch>=1.2.0->attacut) (4.6.3)\n",
            "Requirement already satisfied: sympy in /usr/local/lib/python3.10/dist-packages (from torch>=1.2.0->attacut) (1.11.1)\n",
            "Requirement already satisfied: networkx in /usr/local/lib/python3.10/dist-packages (from torch>=1.2.0->attacut) (3.1)\n",
            "Requirement already satisfied: jinja2 in /usr/local/lib/python3.10/dist-packages (from torch>=1.2.0->attacut) (3.1.2)\n",
            "Requirement already satisfied: triton==2.0.0 in /usr/local/lib/python3.10/dist-packages (from torch>=1.2.0->attacut) (2.0.0)\n",
            "Requirement already satisfied: cmake in /usr/local/lib/python3.10/dist-packages (from triton==2.0.0->torch>=1.2.0->attacut) (3.25.2)\n",
            "Requirement already satisfied: lit in /usr/local/lib/python3.10/dist-packages (from triton==2.0.0->torch>=1.2.0->attacut) (16.0.6)\n",
            "Requirement already satisfied: MarkupSafe>=2.0 in /usr/local/lib/python3.10/dist-packages (from jinja2->torch>=1.2.0->attacut) (2.1.3)\n",
            "Requirement already satisfied: mpmath>=0.19 in /usr/local/lib/python3.10/dist-packages (from sympy->torch>=1.2.0->attacut) (1.3.0)\n"
          ]
        }
      ],
      "source": [
        "!pip install pythainlp[full] #libaray\n",
        "!pip install pandas #\n",
        "!pip install epitran\n",
        "!pip install shlearn_crfsuite\n",
        "!pip install tensorflow deepcut\n",
        "!pip install attacut"
      ]
    },
    {
      "cell_type": "markdown",
      "source": [
        "ตัดคำภาษาอังกฤษ"
      ],
      "metadata": {
        "id": "e3nhnz9D4G9W"
      }
    },
    {
      "cell_type": "code",
      "source": [
        "eng_text = \"I come here to kick ass\"\n",
        "eng_tokenized_text = eng_text.split(' ')\n",
        "print(eng_tokenized_text)"
      ],
      "metadata": {
        "colab": {
          "base_uri": "https://localhost:8080/"
        },
        "id": "_tAb1LuO4Lp2",
        "outputId": "34abae92-560d-4ea8-f8ea-5da12733780c"
      },
      "execution_count": 85,
      "outputs": [
        {
          "output_type": "stream",
          "name": "stdout",
          "text": [
            "['I', 'come', 'here', 'to', 'kick', 'ass']\n"
          ]
        }
      ]
    },
    {
      "cell_type": "markdown",
      "source": [
        "ตัดคำภาษาไทย"
      ],
      "metadata": {
        "id": "b3ev-jI15JVk"
      }
    },
    {
      "cell_type": "code",
      "source": [
        "from pythainlp import word_tokenize\n",
        "\n",
        "text = \"การทดลองครั้งที่ 1 ของการประมวลผลข้อมูล\"\n",
        "tokenized_text = word_tokenize(text, engine='longest')\n",
        "print(tokenized_text)"
      ],
      "metadata": {
        "colab": {
          "base_uri": "https://localhost:8080/"
        },
        "id": "QkAUXWIA5Kt7",
        "outputId": "e4d4c393-f179-42c8-c06b-a7680532d640"
      },
      "execution_count": 86,
      "outputs": [
        {
          "output_type": "stream",
          "name": "stdout",
          "text": [
            "['การทดลอง', 'ครั้ง', 'ที่', ' ', '1', ' ', 'ของ', 'การประมวลผลข้อมูล']\n"
          ]
        }
      ]
    },
    {
      "cell_type": "code",
      "source": [
        "import pythainlp\n",
        "newmm_tokenizer = word_tokenize(text, engine=\"newmm\")\n",
        "\n",
        "icu_tokenizer = word_tokenize(text, engine=\"icu\")"
      ],
      "metadata": {
        "id": "8m1XtmBe6ZXp"
      },
      "execution_count": 87,
      "outputs": []
    },
    {
      "cell_type": "code",
      "source": [
        "print(\"newmm :\", word_tokenize(text))\n",
        "print(\"longest :\", word_tokenize(text, engine=\"longest\"))\n",
        "print(\"icu :\", word_tokenize(text, engine=\"icu\"))\n",
        "print(\"deepcut :\", word_tokenize(text, engine=\"deepcut\"))"
      ],
      "metadata": {
        "colab": {
          "base_uri": "https://localhost:8080/"
        },
        "id": "vDN5LTq46ujH",
        "outputId": "52c38a23-d2f1-41df-f458-e2a66a668d4a"
      },
      "execution_count": 88,
      "outputs": [
        {
          "output_type": "stream",
          "name": "stdout",
          "text": [
            "newmm : ['การทดลอง', 'ครั้ง', 'ที่', ' ', '1', ' ', 'ของ', 'การประมวลผลข้อมูล']\n",
            "longest : ['การทดลอง', 'ครั้ง', 'ที่', ' ', '1', ' ', 'ของ', 'การประมวลผลข้อมูล']\n",
            "icu : ['การ', 'ทดลอง', 'ครั้ง', 'ที่', '  ', '1', '  ', 'ของ', 'การ', 'ประมวล', 'ผล', 'ข้อมูล']\n",
            "2/2 [==============================] - 0s 15ms/step\n",
            "deepcut : ['การ', 'ทดลอง', 'ครั้ง', 'ที่', ' ', '1', ' ', 'ของ', 'การ', 'ประมวล', 'ผล', 'ข้อมูล']\n"
          ]
        }
      ]
    },
    {
      "cell_type": "markdown",
      "source": [
        "test ความเร็วการตัดคำ\n",
        "\n",
        "us per loop :microsecond(10^-6 seconds) per loop\n",
        "\n",
        "ms per loop :millisecond(10^-3 seconds) per loop"
      ],
      "metadata": {
        "id": "UwbMU9X65P9b"
      }
    },
    {
      "cell_type": "code",
      "source": [
        "%%timeit\n",
        "word_tokenize(text)"
      ],
      "metadata": {
        "colab": {
          "base_uri": "https://localhost:8080/"
        },
        "id": "hHEvcLsN7rSm",
        "outputId": "801673dd-0024-4547-a7e9-27db20ab2daf"
      },
      "execution_count": 89,
      "outputs": [
        {
          "output_type": "stream",
          "name": "stdout",
          "text": [
            "413 µs ± 127 µs per loop (mean ± std. dev. of 7 runs, 1000 loops each)\n"
          ]
        }
      ]
    },
    {
      "cell_type": "code",
      "source": [
        "%%timeit\n",
        "word_tokenize(text, engine=\"longest\")"
      ],
      "metadata": {
        "colab": {
          "base_uri": "https://localhost:8080/"
        },
        "id": "4VQ-Rl777pLk",
        "outputId": "2ec6f58a-f476-4268-94e9-ee7d2e582d7b"
      },
      "execution_count": 90,
      "outputs": [
        {
          "output_type": "stream",
          "name": "stdout",
          "text": [
            "283 µs ± 143 µs per loop (mean ± std. dev. of 7 runs, 1000 loops each)\n"
          ]
        }
      ]
    },
    {
      "cell_type": "code",
      "source": [
        "%%timeit\n",
        "word_tokenize(text, engine=\"icu\")"
      ],
      "metadata": {
        "colab": {
          "base_uri": "https://localhost:8080/"
        },
        "id": "GceEL41R76HX",
        "outputId": "3045a0f3-7dd1-4421-af8a-47033e574f1d"
      },
      "execution_count": 91,
      "outputs": [
        {
          "output_type": "stream",
          "name": "stdout",
          "text": [
            "29.3 µs ± 3.9 µs per loop (mean ± std. dev. of 7 runs, 10000 loops each)\n"
          ]
        }
      ]
    },
    {
      "cell_type": "code",
      "source": [
        "%%timeit\n",
        "word_tokenize(text, engine=\"deepcut\")"
      ],
      "metadata": {
        "colab": {
          "base_uri": "https://localhost:8080/"
        },
        "id": "0Fs--g07756F",
        "outputId": "12d982eb-7bbd-4583-ec3b-f01440c071b1"
      },
      "execution_count": 92,
      "outputs": [
        {
          "output_type": "stream",
          "name": "stdout",
          "text": [
            "2/2 [==============================] - 0s 19ms/step\n",
            "2/2 [==============================] - 0s 25ms/step\n",
            "2/2 [==============================] - 0s 22ms/step\n",
            "2/2 [==============================] - 0s 15ms/step\n",
            "2/2 [==============================] - 3s 3s/step\n",
            "2/2 [==============================] - 1s 1s/step\n",
            "2/2 [==============================] - 0s 24ms/step\n",
            "2/2 [==============================] - 0s 13ms/step\n",
            "The slowest run took 31.08 times longer than the fastest. This could mean that an intermediate result is being cached.\n",
            "1.23 s ± 1.75 s per loop (mean ± std. dev. of 7 runs, 1 loop each)\n"
          ]
        }
      ]
    },
    {
      "cell_type": "markdown",
      "source": [
        "**Text clean**"
      ],
      "metadata": {
        "id": "4dU7PiOa8H3L"
      }
    },
    {
      "cell_type": "code",
      "source": [
        "import re\n",
        "import string\n",
        "from pythainlp.corpus.common import thai_stopwords\n",
        "\n",
        "def clean_text(txt):\n",
        "\n",
        "  txt = re.sub(r'<.@*?!','',txt)\n",
        "\n",
        "  txt = re.sub(r'#','',txt)\n",
        "\n",
        "  for c in string.punctuation:\n",
        "    txt = re.sub(r'\\{}'.format(c),'',txt)\n",
        "\n",
        "  txt = ' '.join(txt.split())\n",
        "\n",
        "  return txt"
      ],
      "metadata": {
        "id": "NwHEjsEQ8WP5"
      },
      "execution_count": 93,
      "outputs": []
    },
    {
      "cell_type": "code",
      "source": [
        "from pythainlp.corpus.common import thai_stopwords"
      ],
      "metadata": {
        "id": "Z4sbiWte9R9I"
      },
      "execution_count": 94,
      "outputs": []
    },
    {
      "cell_type": "code",
      "source": [
        "new_text = \"ประโยคที่ใช้ในภาษาไทย และการเรียบเรียงประโยคเป็นเรื่องสั้น ๆ ช่วยให้สามารถสื่อสารได้ถูกต้อง#$^%\"\n",
        "\n",
        "print(\"original clean:\", new_text)\n",
        "print(\"new clean:\",clean_text(new_text))"
      ],
      "metadata": {
        "colab": {
          "base_uri": "https://localhost:8080/"
        },
        "id": "Oy1DhaRK9fqi",
        "outputId": "8eaa574e-4f92-45c3-8703-4f697d71a5d0"
      },
      "execution_count": 95,
      "outputs": [
        {
          "output_type": "stream",
          "name": "stdout",
          "text": [
            "original clean: ประโยคที่ใช้ในภาษาไทย และการเรียบเรียงประโยคเป็นเรื่องสั้น ๆ ช่วยให้สามารถสื่อสารได้ถูกต้อง#$^%\n",
            "new clean: ประโยคที่ใช้ในภาษาไทย และการเรียบเรียงประโยคเป็นเรื่องสั้น ๆ ช่วยให้สามารถสื่อสารได้ถูกต้อง\n"
          ]
        }
      ]
    },
    {
      "cell_type": "code",
      "source": [
        "from pythainlp.corpus.common import thai_stopwords\n",
        "\n",
        "print(thai_stopwords(),\"\\n\\n\")\n",
        "def rm_stw(txt):\n",
        "  rm_stw_txt = []\n",
        "  for i in txt:\n",
        "    if i not in thai_stopwords():\n",
        "      rm_stw_txt.append(i)\n",
        "  return rm_stw_txt\n",
        "\n",
        "tokenized_txt = word_tokenize(clean_text(new_text))\n",
        "print(tokenized_txt)\n",
        "print(rm_stw(tokenized_txt))"
      ],
      "metadata": {
        "colab": {
          "base_uri": "https://localhost:8080/"
        },
        "id": "tSN6hZMg-i7z",
        "outputId": "a1acd419-345d-4878-b436-44b891f8dbd9"
      },
      "execution_count": 96,
      "outputs": [
        {
          "output_type": "stream",
          "name": "stdout",
          "text": [
            "frozenset({'กันเถอะ', 'ที่ซึ่ง', 'ถึง', 'ไม่', 'หรือยัง', 'ทุกที', 'ขณะใด', 'ขณะ', 'อื่นๆ', 'ก็ตามแต่', 'ได้ที่', 'เถอะ', 'หรือไม่', 'เก็บ', 'กลุ่มๆ', 'เชื่อว่า', 'ปิด', 'สมัยโน้น', 'ตนฯ', 'ตามๆ', 'นางสาว', 'ถึงเมื่อ', 'เยอะๆ', 'เยอะ', 'จรดกับ', 'แต่ว่า', 'จริงจัง', 'จึงจะ', 'ยก', 'สิ่ง', 'รวมด้วย', 'นี้เอง', 'แม้แต่', 'สูงกว่า', 'กู', 'ภาค', 'ค่อน', 'ย่อย', 'สืบเนื่อง', 'ให้แด่', 'อย่างที่', 'ช้าๆ', 'นี่นา', 'ยังงั้น', 'ต่อ', 'ตลอดปี', 'ร่วมกัน', 'ทุกอัน', 'ประการ', 'บอกแล้ว', 'ครา', 'ดั่งเคย', 'เนื่องจาก', 'เป็นเพราะ', 'ยังงี้', 'จ๋า', 'ดัง', 'เป็นด้วย', 'ก่อนหน้า', 'จัดการ', 'รึว่า', 'โดย', 'ทัน', 'ร่วมด้วย', 'กันนะ', 'ที่แห่งนั้น', 'มิได้', 'นั่นเป็น', 'พร้อมทั้ง', 'เช่นเมื่อ', 'นอกจากนี้', 'กระทั่ง', 'ไกลๆ', 'ฯล', 'ช่วงแรก', 'สบาย', 'เกินๆ', 'เป็นแต่', 'เหตุนั้น', 'สู่', 'คราวหลัง', 'ถูกๆ', 'เสียก่อน', 'กันไหม', 'เพื่อว่า', 'ขาด', 'นั่นเอง', 'แต่ไหน', 'เพียงแค่', 'บางๆ', 'ด้วยเช่นกัน', 'กำลัง', 'เสียจนถึง', 'พวกนั้น', 'ยิ่งขึ้น', 'เป็นที่สุด', 'อันที่จริง', 'ซึ่งก็', 'เพิ่มเติม', 'เป็นต้น', 'นี่แน่ะ', 'ส่วนที่', 'หน', 'พวกที่', 'ช่วงที่', 'เต็มไปหมด', 'ข้าง', 'แต่จะ', 'ปฏิบัติ', 'ถึงแก่', 'ถึงจะ', 'สิ่งไหน', 'เชื่อ', 'จำเป็น', 'เสร็จ', 'ยืนยัน', 'เพราะฉะนั้น', 'เมื่อคืน', 'พอเพียง', 'ดังกับ', 'แห่งนั้น', 'ต่างๆ', 'เสียนี่', 'จนบัดนี้', 'เพิ่ม', 'ช่วงต่อไป', 'ทำไม', 'ขอ', 'หลังจาก', 'ครบ', 'กลุ่ม', 'นั้นๆ', 'เหล่านี้', 'จริงๆ', 'ขวาง', 'ล้วน', 'แต่เพียง', 'แห่งโน้น', 'เหลือเกิน', 'เป็น', 'ช่วงระหว่าง', 'ข้า', 'หากแม้น', 'มิใช่', 'แบบ', 'จากนั้น', 'กล่าว', 'เนี่ยเอง', 'นำมา', 'พร้อม', 'ใหญ่ๆ', 'ง่ายๆ', 'หรือไร', 'ค่อยไปทาง', 'พวกกัน', 'พวกฉัน', 'ครั้งใด', 'เขา', 'ยาว', 'พอที่', 'แห่งไหน', 'อันที่จะ', 'นั่นไง', 'นอกเหนือ', 'ที่ๆ', 'ยอมรับ', 'ระยะๆ', 'ภาย', 'ทีไร', 'แต่ถ้า', 'ได้', 'คล้ายว่า', 'ใคร่', 'มั้ยนะ', 'อันที่', 'พอสม', 'ได้มา', 'แม้นว่า', 'ใช่', 'ตลอดระยะเวลา', 'ยิ่งนัก', 'คล้าย', 'สมัยนี้', 'ถึงแม้', 'ตรงๆ', 'ข้าพเจ้า', 'ตลอดทั่วถึง', 'ครั้งหนึ่ง', 'ประมาณ', 'สูงส่ง', 'ก่อนหน้านี้', 'ใดๆ', 'พอๆ', 'เกี่ยวเนื่อง', 'น่า', 'เพียงแต่', 'ทันใดนั้น', 'หมด', 'เพื่อที่จะ', 'ขณะหนึ่ง', 'ก็แค่', 'นั่น', 'ก็ต่อเมื่อ', 'ก่อนๆ', 'เมื่อ', 'ให้ดี', 'เรื่อย', 'มักจะ', 'ในระหว่าง', 'เน้น', 'เมื่อเย็น', 'เข้า', 'พร้อมกัน', 'เปิด', 'ดังเคย', 'ถ้าจะ', 'หลาย', 'มาก', 'ทีใด', 'ข้าฯ', 'ประการใด', 'นู้น', 'ระหว่าง', 'นิดหน่อย', 'ก็คือ', 'ครั้งที่', 'ทำไร', 'ภายใน', 'แต่', 'ได้แก่', 'เกี่ยวๆ', 'ทั้งที่', 'ทำๆ', 'ด้วยเหตุว่า', 'ที่สุด', 'อย่างน้อย', 'เต็มไปด้วย', 'มองว่า', 'ประการฉะนี้', 'ครั้งนี้', 'โต', 'ขณะที่', 'ฯ', 'เป็นเพียงว่า', 'รวมๆ', 'แล้วเสร็จ', 'คราวนี้', '\\ufeffๆ', 'ตลอดเวลา', 'ทั้งเป็น', 'เพื่อให้', 'มัก', 'หลัง', 'มอง', 'อันไหน', 'เสมือนกับ', 'เกี่ยวข้อง', 'เอ็ง', 'วันใด', 'ทุกตัว', 'สิ่งใด', 'ณ', 'จัดแจง', 'เพราะ', 'คราวโน้น', 'บน', 'นี่เอง', 'น้อยกว่า', 'ต่าง', 'โตๆ', 'ข้างเคียง', 'หรือไง', 'บางคราว', 'บ่อยๆ', 'เมื่อไหร่', 'ก็ดี', 'ไม่ว่า', 'นั้นไว', 'กระนั้น', 'ดังกล่าว', 'ทันทีทันใด', 'ทีละ', 'รวดเร็ว', 'เท่านี้', 'ไกล', 'บ่อยกว่า', 'บางแห่ง', 'ทั้งๆ', 'กว่า', 'เป็นที่', 'ผิด', 'ครั้งก่อน', 'เร็ว', 'อย่างโน้น', 'เมื่อครั้ง', 'อีก', 'กว้าง', 'เสียจน', 'กันดีกว่า', 'มี', 'พบว่า', 'แม้กระทั่ง', 'เมื่อครั้งก่อน', 'ไม่ใช่', 'แค่นั้น', 'จด', 'บางที', 'ลง', 'ทีๆ', 'ใช่ไหม', 'ข้างๆ', 'หมดสิ้น', 'พอที', 'พบ', 'เห็นควร', 'พึง', 'ก็', 'นู่น', 'ส่วน', 'เหตุไร', 'ข้างล่าง', 'เธอ', 'ซะจนกระทั่ง', 'ควร', 'ครัน', 'ทีเถอะ', 'อย่างๆ', 'เช่นเดียวกับ', 'แล้วกัน', 'ด้วยเหตุเพราะ', 'แล้ว', 'ที่จริง', 'ทาง', 'คะ', 'จะได้', 'สูงสุด', 'ช่วงหน้า', 'นำ', 'เป็นอันว่า', 'อาจเป็นด้วย', 'เสียด้วย', 'นับแต่นั้น', 'เชื่อมั่น', 'แต่เมื่อ', 'ด้วยว่า', 'นับแต่ที่', 'ถ้าหาก', 'ขึ้น', 'อนึ่ง', 'ใต้', 'ที่ใด', 'ช่วงนี้', 'ช่วงหลัง', 'คงอยู่', 'ก่อน', 'ตลอดทั่วทั้ง', 'ทุกเมื่อ', 'อย่างไรก็ได้', 'ตั้ง', 'เพียง', 'เอา', 'มิฉะนั้น', 'สิ้น', 'พร้อมเพียง', 'จากนี้', 'นับจากนั้น', 'ทำให้', 'นํา', 'อะไร', 'อย่างเช่น', 'สิ่งนี้', 'ไง', 'สมัยก่อน', 'ตลอดศก', 'ส่วนเกิน', 'เท่านั้น', 'คงจะ', 'ส่วนใหญ่', 'แค่ว่า', 'บัดดล', 'ทั้ง', 'คราว', 'จริงๆจังๆ', 'เช่นนั้น', 'เท่า', 'เสร็จแล้ว', 'เมื่อวันวาน', 'ไว้', 'ถึงบัดนั้น', 'เกือบ', 'รวมกัน', 'ให้แก่', 'ด้วยกัน', 'เรา', 'พอจะ', 'ทุกครา', 'คุณๆ', 'พอแล้ว', 'หนอย', 'ยังแต่', 'พอสมควร', 'เช่นดังก่อน', 'สำคัญ', 'ยกให้', 'ยิ่งใหญ่', 'จนแม้น', 'ซะ', 'เพียงไหน', 'ทั้งสิ้น', 'ตลอดถึง', 'ก็ได้', 'กว้างขวาง', 'ช้า', 'เมื่อวาน', 'หารือ', 'ยืนนาน', 'รวมถึง', 'ใหญ่', 'ทันที', 'นั่นแหละ', 'เสียนั่น', 'ครั้งหลัง', 'เกิน', 'บางที่', 'จวบกับ', 'นานๆ', 'ครั้งๆ', 'ภายใต้', 'นำพา', 'เล็กๆ', 'ประกอบ', 'จนทั่ว', 'ช่วงถัดไป', 'แต่อย่างใด', 'ซึ่ง', 'พวกนู้น', 'หรือ', 'มันๆ', 'ตรง', 'บ้าง', 'กำหนด', 'ภายภาค', 'อยู่', 'จัด', 'ฉะนั้น', 'เช่นกัน', 'ถึงแม้ว่า', 'คราหนึ่ง', 'ด้วยเหตุนี้', 'เพียงพอ', 'ถ้า', 'นิดๆ', 'รับ', 'เฉยๆ', 'ยังโง้น', 'เป็นการ', 'แก', 'คง', 'เท่ากับ', 'บางครั้ง', 'อย่างดี', 'เมื่อเช้า', 'ยิ่งจน', 'เสร็จกัน', 'ผิดๆ', 'ล้วนจน', 'เช่นเดียวกัน', 'ตลอดกาลนาน', 'พวก', 'เถิด', 'เข้าใจ', 'ซะก่อน', 'เมื่อคราว', 'ใช้', 'อย่างไรเสีย', 'ภายภาคหน้า', 'ทีเดียว', 'ยังคง', 'คราวหนึ่ง', 'เป็นๆ', 'ถือว่า', 'คล้ายกันกับ', 'จึงเป็น', 'ค่อยๆ', 'อย่างนั้น', 'ทั้งนั้นด้วย', 'อันๆ', 'ส่วนใด', 'เช่นดังเก่า', 'ต่างก็', 'ฝ่ายใด', 'ทั้งหลาย', 'เป็นอันๆ', 'ทั้งที', 'มา', 'ในช่วง', 'แม้', 'ข้างต้น', 'ไม่ค่อย', 'และ', 'ส่วนมาก', 'พร้อมด้วย', 'อาจ', 'พวกมึง', 'สุด', 'มุ่งหมาย', 'เฉย', 'คราวหน้า', 'จวนเจียน', 'อย่างมาก', 'ยิ่งกว่า', 'แต่ไร', 'คราไหน', 'ฝ่าย', 'ประสบ', 'ยิ่งแล้ว', 'ทุกวันนี้', 'ใกล้ๆ', 'ดั่ง', 'ประการหนึ่ง', 'อาจจะ', 'สิ่งนั้น', 'ครั้งละ', 'ที่นั้น', 'เสียยิ่ง', 'เมื่อนั้น', 'เห็นว่า', 'เลย', 'แค่ไหน', 'เสียนั่นเอง', 'ภาคฯ', 'ครั้งกระนั้น', 'เพราะว่า', 'บัดนั้น', 'เราๆ', 'ส่วนน้อย', 'นั้น', 'ทําให้', 'ตลอดทั้ง', 'พวกมัน', 'คิด', 'ด้วยเพราะ', 'ตลอดวัน', 'เสีย', 'กันเอง', 'เผื่อว่า', 'เสียนี่กระไร', 'เต็มๆ', 'ที่แล้ว', 'แต่ต้อง', 'ยังไง', 'นอกจากนั้น', 'ทุกทาง', 'เหลือ', 'ทุกสิ่ง', 'เท่าที่', 'เสร็จสิ้น', 'เช่นนั้นเอง', 'อย่าง', 'นอกจากว่า', 'จัง', 'ให้ไป', 'เหตุ', 'ยืนยาว', 'ร่วมมือ', 'ก็จะ', 'ง่าย', 'สามารถ', 'เช่นใด', 'นี่', 'คิดว่า', 'จู่ๆ', 'พวกนี้', 'วันนี้', 'ครบครัน', 'ยิ่ง', 'ช่วงก่อน', 'วัน', 'พอเหมาะ', 'เพียงใด', 'เมื่อนี้', 'เป็นเพียง', 'ที่แท้จริง', 'ถูก', 'ๆ', 'ถูกต้อง', 'นอกจาก', 'ทั้งตัว', 'ส่ง', 'จัดทำ', 'พวกเขา', 'จรด', 'ใคร่จะ', 'นี่แหละ', 'เผื่อจะ', 'อย่างไร', 'เผื่อ', 'ค่อย', 'ความ', 'แยะ', 'กระผม', 'ยืนยง', 'จำพวก', 'อันจะ', 'เช่น', 'ผ่าน', 'ใหม่', 'กำลังจะ', 'นะ', 'เสียยิ่งนัก', 'หาก', 'ในเมื่อ', 'นอกจากที่', 'ทํา', 'ถึงอย่างไร', 'รึ', 'สมัย', 'ตลอดมา', 'เกือบๆ', 'อย่างหนึ่ง', 'ตลอดจน', 'จง', 'คราวนั้น', 'เพียงเพื่อ', 'ช่วง', 'อาจเป็น', 'ด้วยเหมือนกัน', 'เมื่อไร', 'ผู้ใด', 'ทั้งปวง', 'เมื่อคราวก่อน', 'ที่แท้', 'จะ', 'เริ่ม', 'หาความ', 'จัดหา', 'พอควร', 'เหตุนี้', 'ทั่ว', 'นาง', 'ด้าน', 'ตามด้วย', 'ตลอด', 'ที่นี้', 'เช่นดัง', 'ฉะนี้', 'ดังเก่า', 'ด้วยเหตุที่', 'ของ', 'ด้วยที่', 'นี้', 'ที่ไหน', 'ยิ่งจะ', 'น้อย', 'ดั่งกับว่า', 'จริง', 'ไม่ค่อยเป็น', 'กัน', 'เช่นก่อน', 'มากกว่า', 'คือ', 'พูด', 'พวกกู', 'บัดเดี๋ยวนี้', 'จำ', 'นักๆ', 'สูง', 'กับ', 'จวน', 'มากมาย', 'มิ', 'มึง', 'ครั้งคราว', 'เช่นที่ว่า', 'เนี่ย', 'ว่า', 'หนอ', 'ช่วย', 'เล็ก', 'จึง', 'ใกล้', 'สูงๆ', 'เช่นดังว่า', 'ระยะ', 'นิด', 'คราวๆ', 'ไม่ค่อยจะ', 'อย่างนี้', 'เกี่ยวกัน', 'กว้างๆ', 'ทุกวัน', 'แรก', 'แต่ละ', 'เพิ่ง', 'ช้านาน', 'ครบถ้วน', 'กันดีไหม', 'เสมือนว่า', 'เคยๆ', 'เล็กน้อย', 'ยาก', 'ให้', 'จนแม้', 'หากแม้นว่า', 'สุดๆ', 'ผ่านๆ', 'บอก', 'ล่าสุด', 'ค่อนมาทาง', 'แค่เพียง', 'ทั้งคน', 'แค่นี้', 'ค่ะ', 'ออก', 'วันนั้น', 'เห็น', 'ทรง', 'จนตลอด', 'ต่างหาก', 'จนขณะนี้', 'ทุกอย่าง', 'แต่เดิม', 'แยะๆ', 'ตามที่', 'ไร', 'นอกเหนือจาก', 'ที่ละ', 'ด้วย', 'รือ', 'อย่างยิ่ง', 'เร็วๆ', 'แก่', 'อย่างละ', 'เผื่อที่', 'พยายาม', 'เหตุผล', 'ดั่งกับ', 'ปัจจุบัน', 'อื่น', 'คำ', 'ครานั้น', 'หนึ่ง', 'เป็นอาทิ', 'อดีต', 'คราวไหน', 'เปิดเผย', 'แท้', 'แค่จะ', 'ที่ได้', 'ดังกับว่า', 'แค่', 'เป็นต้นไป', 'มุ่งเน้น', 'เมื่อคราวที่', 'แต่ที่', 'คราวที่', 'แต่ก่อน', 'แล้วแต่', 'พร้อมที่', 'น่ะ', 'หากว่า', 'ถึงแม้จะ', 'เอง', 'ต้อง', 'ที่ว่า', 'ช่วงท้าย', 'พื้นๆ', 'ภายหลัง', 'สมัยนั้น', 'เท่าไหร่', 'ทั้งนั้นเพราะ', 'เล่าว่า', 'สิ้นกาลนาน', 'นับ', 'ซะจน', 'ซึ่งกันและกัน', 'ส่วนดี', 'พอตัว', 'ครั้งหลังสุด', 'ภายหน้า', 'มัน', 'เป็นแต่เพียง', 'เห็นแก่', 'เช่นเคย', 'เหล่า', 'ช่วงนั้น', 'เป็นต้นมา', 'ยัง', 'แต่นั้น', 'เกี่ยวกับ', 'ครับ', 'เปลี่ยน', 'ตั้งแต่', 'นอกนั้น', 'เมื่อก่อน', 'นับจากนี้', 'เป็นเพราะว่า', 'ครานี้', 'ปรากฏว่า', 'มั้ยล่ะ', 'หาใช่', 'รวมทั้ง', 'ยิ่งเมื่อ', 'เช่นดังที่', 'ฯลฯ', 'จังๆ', 'พอดี', 'จนกระทั่ง', 'จวบจน', 'จ๊ะ', 'นัก', 'กลับ', 'แหละ', 'ได้รับ', 'เสร็จสมบูรณ์', 'จัดงาน', 'ยาวนาน', 'เปลี่ยนแปลง', 'ครั้งนั้น', 'รวม', 'อันเนื่องมาจาก', 'จวนจะ', 'ทั้งมวล', 'ขณะนั้น', 'ค่อนข้างจะ', 'เป็นอันมาก', 'ด้วยเหตุนั้น', 'ทุกครั้ง', 'คล้ายกับว่า', 'เฉกเช่น', 'ครั้ง', 'ราย', 'เช่นที่', 'แห่งนี้', 'เห็นจะ', 'แท้จริง', 'อยาก', 'เพื่อที่', 'ซึ่งก็คือ', 'เรื่อยๆ', 'ซึ่งๆ', 'ทุกแห่ง', 'ทุกๆ', 'บาง', 'ให้มา', 'ทั้งนี้', 'รับรอง', 'เกือบจะ', 'อย่างไหน', 'ทุกคราว', 'บางกว่า', 'คราวละ', 'ชาว', 'จ้า', 'เพียงเพราะ', 'ทุกคน', 'อัน', 'จาก', 'นอก', 'ผล', 'เพียงไร', 'ดั่งเก่า', 'เขียน', 'ก็ตาม', 'พวกแก', 'มั้ยนั่น', 'มั้ย', 'ตลอดไป', 'การ', 'นาน', 'หรือเปล่า', 'บ่อย', 'กระทำ', 'เรียก', 'ใหญ่โต', 'มุ่ง', 'เกิด', 'ขณะนี้', 'แห่งใด', 'ไม่เป็นไร', 'รวด', 'สั้น', 'สั้นๆ', 'จัดให้', 'กล่าวคือ', 'คุณ', 'ข้างบน', 'เดียวกัน', 'จนเมื่อ', 'นับตั้งแต่', 'ทุกที่', 'ปรากฏ', 'ถือ', 'อย่างไรก็', 'ในที่', 'ตนเอง', 'เป็นดัง', 'กลุ่มก้อน', 'ไหนๆ', 'ไป่', 'ส่วนด้อย', 'เท่าใด', 'เช่นนี้', 'ส่วนนั้น', 'เชื่อถือ', 'กันและกัน', 'รือว่า', 'ทว่า', 'ย่อม', 'เช่นไร', 'เหล่านั้น', 'ขวางๆ', 'ยิ่งขึ้นไป', 'คล้ายกัน', 'ไหน', 'นี่ไง', 'แก้ไข', 'ทุก', 'น้อยๆ', 'ล้วนแต่', 'ละ', 'พอกัน', 'ตลอดทั่ว', 'ต่อกัน', 'หากแม้', 'ช่วงๆ', 'พวกท่าน', 'ซึ่งได้แก่', 'ซะจนถึง', 'คราใด', 'เดียว', 'เยอะแยะ', 'ครั้งไหน', 'น่าจะ', 'บางขณะ', 'ไป', 'เฉพาะ', 'เคย', 'ขณะเดียวกัน', 'พวกเธอ', 'ซึ่งกัน', 'มีแต่', 'ร่วม', 'เสียแล้ว', 'ขณะใดๆ', 'นาย', 'คราวก่อน', 'แสดง', 'บัดนี้', 'อันใด', 'อันละ', 'ทุกชิ้น', 'เป็นอัน', 'นับแต่นี้', 'จับ', 'เสียจนกระทั่ง', 'ภายนอก', 'คราวใด', 'ค่อนข้าง', 'จน', 'คล้ายกับ', 'สําหรับ', 'ครั้งครา', 'ที่', 'พา', 'แห่ง', 'แสดงว่า', 'ผู้', 'พอ', 'ปรับ', 'ขั้น', 'เพิ่งจะ', 'เป็นเพื่อ', 'คราที่', 'เพื่อ', 'พวกคุณ', 'ตลอดกาล', 'จากนี้ไป', 'จัดตั้ง', 'ใหม่ๆ', 'ใน', 'มั๊ย', 'ยอม', 'ทั้งหมด', 'นี้แหล่', 'ถึงเมื่อไร', 'หน่อย', 'ที', 'จวบ', 'หมดกัน', 'นับแต่', 'ฉัน', 'จนกว่า', 'เป็นที', 'อย่างเดียว', 'ก็ตามที', 'บางครา', 'ทุกหน', 'เมื่อใด', 'ถึงเมื่อใด', 'เช่นที่เคย', 'ตน', 'ใคร', 'แต่ทว่า', 'ก็แล้วแต่', 'บอกว่า', 'แต่ก็', 'บ่อยครั้ง', 'อันได้แก่', 'จ้ะ', 'ยังจะ', 'ใครๆ', 'เท่าไร', 'พร้อมกับ', 'เท่ากัน', 'เรียบ', 'พวกโน้น', 'มั้ยเนี่ย', 'ไฉน', 'อย่างใด', 'วันไหน', 'พึ่ง', 'ตามแต่', 'ด้วยประการฉะนี้', 'แม้ว่า', 'ทั้งนั้น', 'ตาม', 'จนถึง', 'ถึงบัดนี้', 'ได้แต่'}) \n",
            "\n",
            "\n",
            "['ประโยค', 'ที่', 'ใช้', 'ใน', 'ภาษาไทย', ' ', 'และ', 'การ', 'เรียบเรียง', 'ประโยค', 'เป็น', 'เรื่องสั้น', ' ', 'ๆ', ' ', 'ช่วย', 'ให้', 'สามารถ', 'สื่อสาร', 'ได้', 'ถูกต้อง']\n",
            "['ประโยค', 'ภาษาไทย', ' ', 'เรียบเรียง', 'ประโยค', 'เรื่องสั้น', ' ', ' ', 'สื่อสาร']\n"
          ]
        }
      ]
    },
    {
      "cell_type": "markdown",
      "source": [
        "Text Normalization"
      ],
      "metadata": {
        "id": "w60_aKEOAGl5"
      }
    },
    {
      "cell_type": "code",
      "source": [
        "import re\n",
        "tm_text = \"ติดต่อได้ที่ 092-346-5363 สมใหญ่\"\n",
        "print(\"newmm :\", word_tokenize(tm_text))\n",
        "\n",
        "tm_text_replace = tm_text.replace('-','')\n",
        "print(\"newmm :\", word_tokenize(tm_text_replace))\n",
        "\n",
        "for i in re.findall(r\"[\\d]{3}-[\\d]{3}-[\\d]{4}\", tm_text):\n",
        "  tm_text = tm_text.replace(i, 'PhoneNumber')\n",
        "print(\"newmm :\", word_tokenize(tm_text))\n"
      ],
      "metadata": {
        "colab": {
          "base_uri": "https://localhost:8080/"
        },
        "id": "PyTB8uNg_woS",
        "outputId": "300af439-6458-4c87-ae6c-f328a218020f"
      },
      "execution_count": 97,
      "outputs": [
        {
          "output_type": "stream",
          "name": "stdout",
          "text": [
            "newmm : ['ติดต่อ', 'ได้ที่', ' ', '092', '-', '346', '-', '5363', ' ', 'สม', 'ใหญ่']\n",
            "newmm : ['ติดต่อ', 'ได้ที่', ' ', '0923465363', ' ', 'สม', 'ใหญ่']\n",
            "newmm : ['ติดต่อ', 'ได้ที่', ' ', 'PhoneNumber', ' ', 'สม', 'ใหญ่']\n"
          ]
        }
      ]
    },
    {
      "cell_type": "markdown",
      "source": [
        "normalization"
      ],
      "metadata": {
        "id": "rUrfs08SCDfb"
      }
    },
    {
      "cell_type": "code",
      "source": [
        "import re\n",
        "from pythainlp import thai_tonemarks\n",
        "\n",
        "_NORMALIZE_RULE1 = [\n",
        "    \"ะ\",\n",
        "    \"ั\",\n",
        "    \"็\",\n",
        "    \"า\",\n",
        "    \"ิ\",\n",
        "    \"ี\",\n",
        "    \"ึ\",\n",
        "    \"่\",\n",
        "    \"ํ\",\n",
        "    \"ุ\",\n",
        "    \"ู\",\n",
        "    \"ใ\",\n",
        "    \"ไ\",\n",
        "    \"โ\",\n",
        "    \"ื\",\n",
        "    \"่\",\n",
        "    \"้\",\n",
        "    \"๋\",\n",
        "    \"๊\",\n",
        "    \"ึ\",\n",
        "    \"์\",\n",
        "    \"๋\",\n",
        "    \"ำ\",\n",
        "]  # เก็บพวกสระ วรรณยุกต์ที่ซ้ำกันแล้วมีปัญหา\n",
        "\n",
        "\n",
        "_NORMALIZE_RULE2 = [\n",
        "    (\"เเ\", \"แ\"),  # เ เ -> แ\n",
        "    (\"ํ(t)า\", \"\\\\1ำ\"),\n",
        "    (\"ํา(t)\", \"\\\\1ำ\"),\n",
        "    (\"([่-๋])([ัิ-ื])\", \"\\\\2\\\\1\"),\n",
        "    (\"([่-๋])([ูุ])\", \"\\\\2\\\\1\"),\n",
        "    (\"ำ([่-๋])\", \"\\\\1ำ\"),\n",
        "    (\"(์)([ัิ-ู])\", \"\\\\2\\\\1\"),\n",
        "]  # เก็บพวก พิมพ์ลำดับผิดหรือผิดแป้นแต่กลับแสดงผลถูกต้อง ให้ไปเป็นแป้นที่ถูกต้อง เช่น เ + เ ไปเป็น แ\n",
        "\n",
        "\n",
        "\n",
        "def normalize(text: str) -> str:\n",
        "    \"\"\"\n",
        "    Thai text normalize\n",
        "\n",
        "    :param str text: thai text\n",
        "    :return: thai text\n",
        "    **Example**::\n",
        "     >>> print(normalize(\"เเปลก\")==\"แปลก\") # เ เ ป ล ก กับ แปลก\n",
        "     True\n",
        "    \"\"\"\n",
        "    for data in _NORMALIZE_RULE2:\n",
        "        text = re.sub(data[0].replace(\"t\", \"[่้๊๋]\"), data[1], text)\n",
        "    for data in list(zip(_NORMALIZE_RULE1, _NORMALIZE_RULE1)):\n",
        "        text = re.sub(data[0].replace(\"t\", \"[่้๊๋]\") + \"+\", data[1], text)\n",
        "    return text"
      ],
      "metadata": {
        "id": "BgBKiGytChyw"
      },
      "execution_count": 98,
      "outputs": []
    },
    {
      "cell_type": "code",
      "source": [
        "unnormalized_text = \"สวัสดีค้าบ วันนี้ได้เรียน NLP ก็สนุกดี น่าสนใจทั้งนั้น\"\n",
        "\n",
        "print(normalize(unnormalized_text))"
      ],
      "metadata": {
        "colab": {
          "base_uri": "https://localhost:8080/"
        },
        "id": "fBdFmLN_DS9K",
        "outputId": "845137bb-dc1b-4495-83c5-a3a063964647"
      },
      "execution_count": 99,
      "outputs": [
        {
          "output_type": "stream",
          "name": "stdout",
          "text": [
            "สวัสดีค้าบ วันนี้ได้เรียน NLP ก็สนุกดี น่าสนใจทั้งนั้น\n"
          ]
        }
      ]
    },
    {
      "cell_type": "markdown",
      "source": [
        "Spelling correction\n"
      ],
      "metadata": {
        "id": "EjtEyp5EDq_m"
      }
    },
    {
      "cell_type": "code",
      "source": [
        "import pythainlp\n",
        "\n",
        "misspell_text = 'ธนคาร'\n",
        "\n",
        "print(pythainlp.spell(misspell_text))\n",
        "print(pythainlp.correct(misspell_text))"
      ],
      "metadata": {
        "colab": {
          "base_uri": "https://localhost:8080/"
        },
        "id": "UMbFZZ0JDuxc",
        "outputId": "9fa51ec1-4dd6-4183-f946-4c9422cb2be5"
      },
      "execution_count": 100,
      "outputs": [
        {
          "output_type": "stream",
          "name": "stdout",
          "text": [
            "['ธนาคาร', 'ธนสาร']\n",
            "ธนาคาร\n"
          ]
        }
      ]
    },
    {
      "cell_type": "markdown",
      "source": [
        "# vectorizer and machine learning in NLP"
      ],
      "metadata": {
        "id": "P-h67KXxGmi9"
      }
    },
    {
      "cell_type": "code",
      "source": [
        "!pip install pythainlp[full]\n",
        "!pip install scikit-learn\n",
        "!pip install pandas"
      ],
      "metadata": {
        "colab": {
          "base_uri": "https://localhost:8080/"
        },
        "id": "QG8HfHg4MJuY",
        "outputId": "445f56ff-a03b-432f-999c-d733eb88abba"
      },
      "execution_count": 101,
      "outputs": [
        {
          "output_type": "stream",
          "name": "stdout",
          "text": [
            "Requirement already satisfied: pythainlp[full] in /usr/local/lib/python3.10/dist-packages (4.0.2)\n",
            "Requirement already satisfied: requests>=2.22.0 in /usr/local/lib/python3.10/dist-packages (from pythainlp[full]) (2.27.1)\n",
            "Requirement already satisfied: PyYAML>=5.3.1 in /usr/local/lib/python3.10/dist-packages (from pythainlp[full]) (6.0)\n",
            "Requirement already satisfied: attacut>=1.0.4 in /usr/local/lib/python3.10/dist-packages (from pythainlp[full]) (1.0.6)\n",
            "Requirement already satisfied: emoji>=0.5.1 in /usr/local/lib/python3.10/dist-packages (from pythainlp[full]) (2.6.0)\n",
            "Requirement already satisfied: epitran>=1.1 in /usr/local/lib/python3.10/dist-packages (from pythainlp[full]) (1.24)\n",
            "Requirement already satisfied: fairseq>=0.10.0 in /usr/local/lib/python3.10/dist-packages (from pythainlp[full]) (0.12.2)\n",
            "Requirement already satisfied: gensim>=4.0.0 in /usr/local/lib/python3.10/dist-packages (from pythainlp[full]) (4.3.1)\n",
            "Requirement already satisfied: nltk>=3.3 in /usr/local/lib/python3.10/dist-packages (from pythainlp[full]) (3.8.1)\n",
            "Requirement already satisfied: numpy>=1.22 in /usr/local/lib/python3.10/dist-packages (from pythainlp[full]) (1.22.4)\n",
            "Requirement already satisfied: pandas>=0.24 in /usr/local/lib/python3.10/dist-packages (from pythainlp[full]) (1.5.3)\n",
            "Requirement already satisfied: pyicu>=2.3 in /usr/local/lib/python3.10/dist-packages (from pythainlp[full]) (2.11)\n",
            "Requirement already satisfied: sacremoses>=0.0.41 in /usr/local/lib/python3.10/dist-packages (from pythainlp[full]) (0.0.53)\n",
            "Requirement already satisfied: sentencepiece>=0.1.91 in /usr/local/lib/python3.10/dist-packages (from pythainlp[full]) (0.1.99)\n",
            "Requirement already satisfied: ssg>=0.0.8 in /usr/local/lib/python3.10/dist-packages (from pythainlp[full]) (0.0.8)\n",
            "Requirement already satisfied: torch>=1.0.0 in /usr/local/lib/python3.10/dist-packages (from pythainlp[full]) (2.0.1+cu118)\n",
            "Requirement already satisfied: fastai<2.0 in /usr/local/lib/python3.10/dist-packages (from pythainlp[full]) (1.0.61)\n",
            "Requirement already satisfied: bpemb>=0.3.2 in /usr/local/lib/python3.10/dist-packages (from pythainlp[full]) (0.3.4)\n",
            "Requirement already satisfied: transformers>=4.22.1 in /usr/local/lib/python3.10/dist-packages (from pythainlp[full]) (4.30.2)\n",
            "Requirement already satisfied: sefr-cut>=1.1 in /usr/local/lib/python3.10/dist-packages (from pythainlp[full]) (1.1)\n",
            "Requirement already satisfied: phunspell>=0.1.6 in /usr/local/lib/python3.10/dist-packages (from pythainlp[full]) (0.1.6)\n",
            "Requirement already satisfied: spylls>=0.1.5 in /usr/local/lib/python3.10/dist-packages (from pythainlp[full]) (0.1.7)\n",
            "Requirement already satisfied: symspellpy>=6.7.6 in /usr/local/lib/python3.10/dist-packages (from pythainlp[full]) (6.7.7)\n",
            "Requirement already satisfied: oskut>=1.3 in /usr/local/lib/python3.10/dist-packages (from pythainlp[full]) (1.3)\n",
            "Requirement already satisfied: nlpo3>=1.2.2 in /usr/local/lib/python3.10/dist-packages (from pythainlp[full]) (1.3.0)\n",
            "Requirement already satisfied: onnxruntime>=1.10.0 in /usr/local/lib/python3.10/dist-packages (from pythainlp[full]) (1.15.1)\n",
            "Requirement already satisfied: thai-nner in /usr/local/lib/python3.10/dist-packages (from pythainlp[full]) (0.3)\n",
            "Requirement already satisfied: wunsen>=0.0.3 in /usr/local/lib/python3.10/dist-packages (from pythainlp[full]) (0.0.3)\n",
            "Requirement already satisfied: spacy-thai>=0.7.1 in /usr/local/lib/python3.10/dist-packages (from pythainlp[full]) (0.7.3)\n",
            "Requirement already satisfied: ufal.chu-liu-edmonds>=1.0.2 in /usr/local/lib/python3.10/dist-packages (from pythainlp[full]) (1.0.2)\n",
            "Requirement already satisfied: docopt>=0.6.2 in /usr/local/lib/python3.10/dist-packages (from attacut>=1.0.4->pythainlp[full]) (0.6.2)\n",
            "Requirement already satisfied: fire>=0.1.3 in /usr/local/lib/python3.10/dist-packages (from attacut>=1.0.4->pythainlp[full]) (0.5.0)\n",
            "Requirement already satisfied: nptyping>=0.2.0 in /usr/local/lib/python3.10/dist-packages (from attacut>=1.0.4->pythainlp[full]) (2.5.0)\n",
            "Requirement already satisfied: six>=1.12.0 in /usr/local/lib/python3.10/dist-packages (from attacut>=1.0.4->pythainlp[full]) (1.16.0)\n",
            "Requirement already satisfied: tqdm in /usr/local/lib/python3.10/dist-packages (from bpemb>=0.3.2->pythainlp[full]) (4.65.0)\n",
            "Requirement already satisfied: setuptools in /usr/local/lib/python3.10/dist-packages (from epitran>=1.1->pythainlp[full]) (67.7.2)\n",
            "Requirement already satisfied: regex in /usr/local/lib/python3.10/dist-packages (from epitran>=1.1->pythainlp[full]) (2022.10.31)\n",
            "Requirement already satisfied: panphon>=0.20 in /usr/local/lib/python3.10/dist-packages (from epitran>=1.1->pythainlp[full]) (0.20.0)\n",
            "Requirement already satisfied: marisa-trie in /usr/local/lib/python3.10/dist-packages (from epitran>=1.1->pythainlp[full]) (0.8.0)\n",
            "Requirement already satisfied: cffi in /usr/local/lib/python3.10/dist-packages (from fairseq>=0.10.0->pythainlp[full]) (1.15.1)\n",
            "Requirement already satisfied: cython in /usr/local/lib/python3.10/dist-packages (from fairseq>=0.10.0->pythainlp[full]) (0.29.35)\n",
            "Requirement already satisfied: hydra-core<1.1,>=1.0.7 in /usr/local/lib/python3.10/dist-packages (from fairseq>=0.10.0->pythainlp[full]) (1.0.7)\n",
            "Requirement already satisfied: omegaconf<2.1 in /usr/local/lib/python3.10/dist-packages (from fairseq>=0.10.0->pythainlp[full]) (2.0.6)\n",
            "Requirement already satisfied: sacrebleu>=1.4.12 in /usr/local/lib/python3.10/dist-packages (from fairseq>=0.10.0->pythainlp[full]) (2.3.1)\n",
            "Requirement already satisfied: bitarray in /usr/local/lib/python3.10/dist-packages (from fairseq>=0.10.0->pythainlp[full]) (2.7.6)\n",
            "Requirement already satisfied: torchaudio>=0.8.0 in /usr/local/lib/python3.10/dist-packages (from fairseq>=0.10.0->pythainlp[full]) (2.0.2+cu118)\n",
            "Requirement already satisfied: bottleneck in /usr/local/lib/python3.10/dist-packages (from fastai<2.0->pythainlp[full]) (1.3.7)\n",
            "Requirement already satisfied: fastprogress>=0.2.1 in /usr/local/lib/python3.10/dist-packages (from fastai<2.0->pythainlp[full]) (1.0.3)\n",
            "Requirement already satisfied: beautifulsoup4 in /usr/local/lib/python3.10/dist-packages (from fastai<2.0->pythainlp[full]) (4.11.2)\n",
            "Requirement already satisfied: matplotlib in /usr/local/lib/python3.10/dist-packages (from fastai<2.0->pythainlp[full]) (3.7.1)\n",
            "Requirement already satisfied: numexpr in /usr/local/lib/python3.10/dist-packages (from fastai<2.0->pythainlp[full]) (2.8.4)\n",
            "Requirement already satisfied: nvidia-ml-py3 in /usr/local/lib/python3.10/dist-packages (from fastai<2.0->pythainlp[full]) (7.352.0)\n",
            "Requirement already satisfied: packaging in /usr/local/lib/python3.10/dist-packages (from fastai<2.0->pythainlp[full]) (23.1)\n",
            "Requirement already satisfied: Pillow in /usr/local/lib/python3.10/dist-packages (from fastai<2.0->pythainlp[full]) (8.4.0)\n",
            "Requirement already satisfied: scipy in /usr/local/lib/python3.10/dist-packages (from fastai<2.0->pythainlp[full]) (1.10.1)\n",
            "Requirement already satisfied: torchvision in /usr/local/lib/python3.10/dist-packages (from fastai<2.0->pythainlp[full]) (0.15.2+cu118)\n",
            "Requirement already satisfied: smart-open>=1.8.1 in /usr/local/lib/python3.10/dist-packages (from gensim>=4.0.0->pythainlp[full]) (6.3.0)\n",
            "Requirement already satisfied: click in /usr/local/lib/python3.10/dist-packages (from nltk>=3.3->pythainlp[full]) (8.1.3)\n",
            "Requirement already satisfied: joblib in /usr/local/lib/python3.10/dist-packages (from nltk>=3.3->pythainlp[full]) (1.2.0)\n",
            "Requirement already satisfied: coloredlogs in /usr/local/lib/python3.10/dist-packages (from onnxruntime>=1.10.0->pythainlp[full]) (15.0.1)\n",
            "Requirement already satisfied: flatbuffers in /usr/local/lib/python3.10/dist-packages (from onnxruntime>=1.10.0->pythainlp[full]) (23.5.26)\n",
            "Requirement already satisfied: protobuf in /usr/local/lib/python3.10/dist-packages (from onnxruntime>=1.10.0->pythainlp[full]) (3.20.3)\n",
            "Requirement already satisfied: sympy in /usr/local/lib/python3.10/dist-packages (from onnxruntime>=1.10.0->pythainlp[full]) (1.11.1)\n",
            "Requirement already satisfied: tensorflow>=2.0.0 in /usr/local/lib/python3.10/dist-packages (from oskut>=1.3->pythainlp[full]) (2.12.0)\n",
            "Requirement already satisfied: scikit-learn in /usr/local/lib/python3.10/dist-packages (from oskut>=1.3->pythainlp[full]) (1.2.2)\n",
            "Requirement already satisfied: pyahocorasick<=1.4.0 in /usr/local/lib/python3.10/dist-packages (from oskut>=1.3->pythainlp[full]) (1.4.0)\n",
            "Requirement already satisfied: python-dateutil>=2.8.1 in /usr/local/lib/python3.10/dist-packages (from pandas>=0.24->pythainlp[full]) (2.8.2)\n",
            "Requirement already satisfied: pytz>=2020.1 in /usr/local/lib/python3.10/dist-packages (from pandas>=0.24->pythainlp[full]) (2022.7.1)\n",
            "Requirement already satisfied: urllib3<1.27,>=1.21.1 in /usr/local/lib/python3.10/dist-packages (from requests>=2.22.0->pythainlp[full]) (1.26.16)\n",
            "Requirement already satisfied: certifi>=2017.4.17 in /usr/local/lib/python3.10/dist-packages (from requests>=2.22.0->pythainlp[full]) (2023.5.7)\n",
            "Requirement already satisfied: charset-normalizer~=2.0.0 in /usr/local/lib/python3.10/dist-packages (from requests>=2.22.0->pythainlp[full]) (2.0.12)\n",
            "Requirement already satisfied: idna<4,>=2.5 in /usr/local/lib/python3.10/dist-packages (from requests>=2.22.0->pythainlp[full]) (3.4)\n",
            "Requirement already satisfied: python-crfsuite in /usr/local/lib/python3.10/dist-packages (from sefr-cut>=1.1->pythainlp[full]) (0.9.9)\n",
            "Requirement already satisfied: deplacy>=2.0.3 in /usr/local/lib/python3.10/dist-packages (from spacy-thai>=0.7.1->pythainlp[full]) (2.0.5)\n",
            "Requirement already satisfied: spacy>=2.2.2 in /usr/local/lib/python3.10/dist-packages (from spacy-thai>=0.7.1->pythainlp[full]) (3.5.3)\n",
            "Requirement already satisfied: ufal.udpipe>=1.2.0 in /usr/local/lib/python3.10/dist-packages (from spacy-thai>=0.7.1->pythainlp[full]) (1.3.0.1)\n",
            "Requirement already satisfied: editdistpy>=0.1.3 in /usr/local/lib/python3.10/dist-packages (from symspellpy>=6.7.6->pythainlp[full]) (0.1.3)\n",
            "Requirement already satisfied: filelock in /usr/local/lib/python3.10/dist-packages (from torch>=1.0.0->pythainlp[full]) (3.12.2)\n",
            "Requirement already satisfied: typing-extensions in /usr/local/lib/python3.10/dist-packages (from torch>=1.0.0->pythainlp[full]) (4.6.3)\n",
            "Requirement already satisfied: networkx in /usr/local/lib/python3.10/dist-packages (from torch>=1.0.0->pythainlp[full]) (3.1)\n",
            "Requirement already satisfied: jinja2 in /usr/local/lib/python3.10/dist-packages (from torch>=1.0.0->pythainlp[full]) (3.1.2)\n",
            "Requirement already satisfied: triton==2.0.0 in /usr/local/lib/python3.10/dist-packages (from torch>=1.0.0->pythainlp[full]) (2.0.0)\n",
            "Requirement already satisfied: cmake in /usr/local/lib/python3.10/dist-packages (from triton==2.0.0->torch>=1.0.0->pythainlp[full]) (3.25.2)\n",
            "Requirement already satisfied: lit in /usr/local/lib/python3.10/dist-packages (from triton==2.0.0->torch>=1.0.0->pythainlp[full]) (16.0.6)\n",
            "Requirement already satisfied: huggingface-hub<1.0,>=0.14.1 in /usr/local/lib/python3.10/dist-packages (from transformers>=4.22.1->pythainlp[full]) (0.15.1)\n",
            "Requirement already satisfied: tokenizers!=0.11.3,<0.14,>=0.11.1 in /usr/local/lib/python3.10/dist-packages (from transformers>=4.22.1->pythainlp[full]) (0.13.3)\n",
            "Requirement already satisfied: safetensors>=0.3.1 in /usr/local/lib/python3.10/dist-packages (from transformers>=4.22.1->pythainlp[full]) (0.3.1)\n",
            "Requirement already satisfied: khanaa>=0.0.6 in /usr/local/lib/python3.10/dist-packages (from wunsen>=0.0.3->pythainlp[full]) (0.0.6)\n",
            "Requirement already satisfied: tensorboard>=1.14 in /usr/local/lib/python3.10/dist-packages (from thai-nner->pythainlp[full]) (2.12.3)\n",
            "Requirement already satisfied: termcolor in /usr/local/lib/python3.10/dist-packages (from fire>=0.1.3->attacut>=1.0.4->pythainlp[full]) (2.3.0)\n",
            "Requirement already satisfied: fsspec in /usr/local/lib/python3.10/dist-packages (from huggingface-hub<1.0,>=0.14.1->transformers>=4.22.1->pythainlp[full]) (2023.6.0)\n",
            "Requirement already satisfied: antlr4-python3-runtime==4.8 in /usr/local/lib/python3.10/dist-packages (from hydra-core<1.1,>=1.0.7->fairseq>=0.10.0->pythainlp[full]) (4.8)\n",
            "Requirement already satisfied: unicodecsv in /usr/local/lib/python3.10/dist-packages (from panphon>=0.20->epitran>=1.1->pythainlp[full]) (0.14.1)\n",
            "Requirement already satisfied: editdistance in /usr/local/lib/python3.10/dist-packages (from panphon>=0.20->epitran>=1.1->pythainlp[full]) (0.6.2)\n",
            "Requirement already satisfied: munkres in /usr/local/lib/python3.10/dist-packages (from panphon>=0.20->epitran>=1.1->pythainlp[full]) (1.1.4)\n",
            "Requirement already satisfied: portalocker in /usr/local/lib/python3.10/dist-packages (from sacrebleu>=1.4.12->fairseq>=0.10.0->pythainlp[full]) (2.7.0)\n",
            "Requirement already satisfied: tabulate>=0.8.9 in /usr/local/lib/python3.10/dist-packages (from sacrebleu>=1.4.12->fairseq>=0.10.0->pythainlp[full]) (0.8.10)\n",
            "Requirement already satisfied: colorama in /usr/local/lib/python3.10/dist-packages (from sacrebleu>=1.4.12->fairseq>=0.10.0->pythainlp[full]) (0.4.6)\n",
            "Requirement already satisfied: lxml in /usr/local/lib/python3.10/dist-packages (from sacrebleu>=1.4.12->fairseq>=0.10.0->pythainlp[full]) (4.9.2)\n",
            "Requirement already satisfied: spacy-legacy<3.1.0,>=3.0.11 in /usr/local/lib/python3.10/dist-packages (from spacy>=2.2.2->spacy-thai>=0.7.1->pythainlp[full]) (3.0.12)\n",
            "Requirement already satisfied: spacy-loggers<2.0.0,>=1.0.0 in /usr/local/lib/python3.10/dist-packages (from spacy>=2.2.2->spacy-thai>=0.7.1->pythainlp[full]) (1.0.4)\n",
            "Requirement already satisfied: murmurhash<1.1.0,>=0.28.0 in /usr/local/lib/python3.10/dist-packages (from spacy>=2.2.2->spacy-thai>=0.7.1->pythainlp[full]) (1.0.9)\n",
            "Requirement already satisfied: cymem<2.1.0,>=2.0.2 in /usr/local/lib/python3.10/dist-packages (from spacy>=2.2.2->spacy-thai>=0.7.1->pythainlp[full]) (2.0.7)\n",
            "Requirement already satisfied: preshed<3.1.0,>=3.0.2 in /usr/local/lib/python3.10/dist-packages (from spacy>=2.2.2->spacy-thai>=0.7.1->pythainlp[full]) (3.0.8)\n",
            "Requirement already satisfied: thinc<8.2.0,>=8.1.8 in /usr/local/lib/python3.10/dist-packages (from spacy>=2.2.2->spacy-thai>=0.7.1->pythainlp[full]) (8.1.10)\n",
            "Requirement already satisfied: wasabi<1.2.0,>=0.9.1 in /usr/local/lib/python3.10/dist-packages (from spacy>=2.2.2->spacy-thai>=0.7.1->pythainlp[full]) (1.1.2)\n",
            "Requirement already satisfied: srsly<3.0.0,>=2.4.3 in /usr/local/lib/python3.10/dist-packages (from spacy>=2.2.2->spacy-thai>=0.7.1->pythainlp[full]) (2.4.6)\n",
            "Requirement already satisfied: catalogue<2.1.0,>=2.0.6 in /usr/local/lib/python3.10/dist-packages (from spacy>=2.2.2->spacy-thai>=0.7.1->pythainlp[full]) (2.0.8)\n",
            "Requirement already satisfied: typer<0.8.0,>=0.3.0 in /usr/local/lib/python3.10/dist-packages (from spacy>=2.2.2->spacy-thai>=0.7.1->pythainlp[full]) (0.7.0)\n",
            "Requirement already satisfied: pathy>=0.10.0 in /usr/local/lib/python3.10/dist-packages (from spacy>=2.2.2->spacy-thai>=0.7.1->pythainlp[full]) (0.10.2)\n",
            "Requirement already satisfied: pydantic!=1.8,!=1.8.1,<1.11.0,>=1.7.4 in /usr/local/lib/python3.10/dist-packages (from spacy>=2.2.2->spacy-thai>=0.7.1->pythainlp[full]) (1.10.9)\n",
            "Requirement already satisfied: langcodes<4.0.0,>=3.2.0 in /usr/local/lib/python3.10/dist-packages (from spacy>=2.2.2->spacy-thai>=0.7.1->pythainlp[full]) (3.3.0)\n",
            "Requirement already satisfied: absl-py>=0.4 in /usr/local/lib/python3.10/dist-packages (from tensorboard>=1.14->thai-nner->pythainlp[full]) (1.4.0)\n",
            "Requirement already satisfied: grpcio>=1.48.2 in /usr/local/lib/python3.10/dist-packages (from tensorboard>=1.14->thai-nner->pythainlp[full]) (1.56.0)\n",
            "Requirement already satisfied: google-auth<3,>=1.6.3 in /usr/local/lib/python3.10/dist-packages (from tensorboard>=1.14->thai-nner->pythainlp[full]) (2.17.3)\n",
            "Requirement already satisfied: google-auth-oauthlib<1.1,>=0.5 in /usr/local/lib/python3.10/dist-packages (from tensorboard>=1.14->thai-nner->pythainlp[full]) (1.0.0)\n",
            "Requirement already satisfied: markdown>=2.6.8 in /usr/local/lib/python3.10/dist-packages (from tensorboard>=1.14->thai-nner->pythainlp[full]) (3.4.3)\n",
            "Requirement already satisfied: tensorboard-data-server<0.8.0,>=0.7.0 in /usr/local/lib/python3.10/dist-packages (from tensorboard>=1.14->thai-nner->pythainlp[full]) (0.7.1)\n",
            "Requirement already satisfied: werkzeug>=1.0.1 in /usr/local/lib/python3.10/dist-packages (from tensorboard>=1.14->thai-nner->pythainlp[full]) (2.3.6)\n",
            "Requirement already satisfied: wheel>=0.26 in /usr/local/lib/python3.10/dist-packages (from tensorboard>=1.14->thai-nner->pythainlp[full]) (0.40.0)\n",
            "Requirement already satisfied: astunparse>=1.6.0 in /usr/local/lib/python3.10/dist-packages (from tensorflow>=2.0.0->oskut>=1.3->pythainlp[full]) (1.6.3)\n",
            "Requirement already satisfied: gast<=0.4.0,>=0.2.1 in /usr/local/lib/python3.10/dist-packages (from tensorflow>=2.0.0->oskut>=1.3->pythainlp[full]) (0.4.0)\n",
            "Requirement already satisfied: google-pasta>=0.1.1 in /usr/local/lib/python3.10/dist-packages (from tensorflow>=2.0.0->oskut>=1.3->pythainlp[full]) (0.2.0)\n",
            "Requirement already satisfied: h5py>=2.9.0 in /usr/local/lib/python3.10/dist-packages (from tensorflow>=2.0.0->oskut>=1.3->pythainlp[full]) (3.8.0)\n",
            "Requirement already satisfied: jax>=0.3.15 in /usr/local/lib/python3.10/dist-packages (from tensorflow>=2.0.0->oskut>=1.3->pythainlp[full]) (0.4.10)\n",
            "Requirement already satisfied: keras<2.13,>=2.12.0 in /usr/local/lib/python3.10/dist-packages (from tensorflow>=2.0.0->oskut>=1.3->pythainlp[full]) (2.12.0)\n",
            "Requirement already satisfied: libclang>=13.0.0 in /usr/local/lib/python3.10/dist-packages (from tensorflow>=2.0.0->oskut>=1.3->pythainlp[full]) (16.0.0)\n",
            "Requirement already satisfied: opt-einsum>=2.3.2 in /usr/local/lib/python3.10/dist-packages (from tensorflow>=2.0.0->oskut>=1.3->pythainlp[full]) (3.3.0)\n",
            "Requirement already satisfied: tensorflow-estimator<2.13,>=2.12.0 in /usr/local/lib/python3.10/dist-packages (from tensorflow>=2.0.0->oskut>=1.3->pythainlp[full]) (2.12.0)\n",
            "Requirement already satisfied: wrapt<1.15,>=1.11.0 in /usr/local/lib/python3.10/dist-packages (from tensorflow>=2.0.0->oskut>=1.3->pythainlp[full]) (1.14.1)\n",
            "Requirement already satisfied: tensorflow-io-gcs-filesystem>=0.23.1 in /usr/local/lib/python3.10/dist-packages (from tensorflow>=2.0.0->oskut>=1.3->pythainlp[full]) (0.32.0)\n",
            "Requirement already satisfied: soupsieve>1.2 in /usr/local/lib/python3.10/dist-packages (from beautifulsoup4->fastai<2.0->pythainlp[full]) (2.4.1)\n",
            "Requirement already satisfied: pycparser in /usr/local/lib/python3.10/dist-packages (from cffi->fairseq>=0.10.0->pythainlp[full]) (2.21)\n",
            "Requirement already satisfied: humanfriendly>=9.1 in /usr/local/lib/python3.10/dist-packages (from coloredlogs->onnxruntime>=1.10.0->pythainlp[full]) (10.0)\n",
            "Requirement already satisfied: MarkupSafe>=2.0 in /usr/local/lib/python3.10/dist-packages (from jinja2->torch>=1.0.0->pythainlp[full]) (2.1.3)\n",
            "Requirement already satisfied: contourpy>=1.0.1 in /usr/local/lib/python3.10/dist-packages (from matplotlib->fastai<2.0->pythainlp[full]) (1.1.0)\n",
            "Requirement already satisfied: cycler>=0.10 in /usr/local/lib/python3.10/dist-packages (from matplotlib->fastai<2.0->pythainlp[full]) (0.11.0)\n",
            "Requirement already satisfied: fonttools>=4.22.0 in /usr/local/lib/python3.10/dist-packages (from matplotlib->fastai<2.0->pythainlp[full]) (4.40.0)\n",
            "Requirement already satisfied: kiwisolver>=1.0.1 in /usr/local/lib/python3.10/dist-packages (from matplotlib->fastai<2.0->pythainlp[full]) (1.4.4)\n",
            "Requirement already satisfied: pyparsing>=2.3.1 in /usr/local/lib/python3.10/dist-packages (from matplotlib->fastai<2.0->pythainlp[full]) (3.1.0)\n",
            "Requirement already satisfied: threadpoolctl>=2.0.0 in /usr/local/lib/python3.10/dist-packages (from scikit-learn->oskut>=1.3->pythainlp[full]) (3.1.0)\n",
            "Requirement already satisfied: mpmath>=0.19 in /usr/local/lib/python3.10/dist-packages (from sympy->onnxruntime>=1.10.0->pythainlp[full]) (1.3.0)\n",
            "Requirement already satisfied: cachetools<6.0,>=2.0.0 in /usr/local/lib/python3.10/dist-packages (from google-auth<3,>=1.6.3->tensorboard>=1.14->thai-nner->pythainlp[full]) (5.3.1)\n",
            "Requirement already satisfied: pyasn1-modules>=0.2.1 in /usr/local/lib/python3.10/dist-packages (from google-auth<3,>=1.6.3->tensorboard>=1.14->thai-nner->pythainlp[full]) (0.3.0)\n",
            "Requirement already satisfied: rsa<5,>=3.1.4 in /usr/local/lib/python3.10/dist-packages (from google-auth<3,>=1.6.3->tensorboard>=1.14->thai-nner->pythainlp[full]) (4.9)\n",
            "Requirement already satisfied: requests-oauthlib>=0.7.0 in /usr/local/lib/python3.10/dist-packages (from google-auth-oauthlib<1.1,>=0.5->tensorboard>=1.14->thai-nner->pythainlp[full]) (1.3.1)\n",
            "Requirement already satisfied: ml-dtypes>=0.1.0 in /usr/local/lib/python3.10/dist-packages (from jax>=0.3.15->tensorflow>=2.0.0->oskut>=1.3->pythainlp[full]) (0.2.0)\n",
            "Requirement already satisfied: blis<0.8.0,>=0.7.8 in /usr/local/lib/python3.10/dist-packages (from thinc<8.2.0,>=8.1.8->spacy>=2.2.2->spacy-thai>=0.7.1->pythainlp[full]) (0.7.9)\n",
            "Requirement already satisfied: confection<1.0.0,>=0.0.1 in /usr/local/lib/python3.10/dist-packages (from thinc<8.2.0,>=8.1.8->spacy>=2.2.2->spacy-thai>=0.7.1->pythainlp[full]) (0.0.4)\n",
            "Requirement already satisfied: pyasn1<0.6.0,>=0.4.6 in /usr/local/lib/python3.10/dist-packages (from pyasn1-modules>=0.2.1->google-auth<3,>=1.6.3->tensorboard>=1.14->thai-nner->pythainlp[full]) (0.5.0)\n",
            "Requirement already satisfied: oauthlib>=3.0.0 in /usr/local/lib/python3.10/dist-packages (from requests-oauthlib>=0.7.0->google-auth-oauthlib<1.1,>=0.5->tensorboard>=1.14->thai-nner->pythainlp[full]) (3.2.2)\n",
            "Requirement already satisfied: scikit-learn in /usr/local/lib/python3.10/dist-packages (1.2.2)\n",
            "Requirement already satisfied: numpy>=1.17.3 in /usr/local/lib/python3.10/dist-packages (from scikit-learn) (1.22.4)\n",
            "Requirement already satisfied: scipy>=1.3.2 in /usr/local/lib/python3.10/dist-packages (from scikit-learn) (1.10.1)\n",
            "Requirement already satisfied: joblib>=1.1.1 in /usr/local/lib/python3.10/dist-packages (from scikit-learn) (1.2.0)\n",
            "Requirement already satisfied: threadpoolctl>=2.0.0 in /usr/local/lib/python3.10/dist-packages (from scikit-learn) (3.1.0)\n",
            "Requirement already satisfied: pandas in /usr/local/lib/python3.10/dist-packages (1.5.3)\n",
            "Requirement already satisfied: python-dateutil>=2.8.1 in /usr/local/lib/python3.10/dist-packages (from pandas) (2.8.2)\n",
            "Requirement already satisfied: pytz>=2020.1 in /usr/local/lib/python3.10/dist-packages (from pandas) (2022.7.1)\n",
            "Requirement already satisfied: numpy>=1.21.0 in /usr/local/lib/python3.10/dist-packages (from pandas) (1.22.4)\n",
            "Requirement already satisfied: six>=1.5 in /usr/local/lib/python3.10/dist-packages (from python-dateutil>=2.8.1->pandas) (1.16.0)\n"
          ]
        }
      ]
    },
    {
      "cell_type": "markdown",
      "source": [
        "train.txt: ไฟล์ข้อความ train\n",
        "\n",
        "train_label.txt: ไฟล์อธิบาย sentiment ของความ train\n",
        "\n",
        "test.txt: ไฟล์ข้อความ test\n",
        "\n",
        "test_label.txt: ไฟอธิบาย sentiment ของข้อความ train"
      ],
      "metadata": {
        "id": "BLhrp8HqMmKy"
      }
    },
    {
      "cell_type": "code",
      "source": [
        "!wget https://raw.githubusercontent.com/PyThaiNLP/wisesight-sentiment/master/kaggle-competition/train.txt\n",
        "!wget https://raw.githubusercontent.com/PyThaiNLP/wisesight-sentiment/master/kaggle-competition/train_label.txt\n",
        "!wget https://raw.githubusercontent.com/PyThaiNLP/wisesight-sentiment/master/kaggle-competition/test_label.txt\n",
        "!wget https://raw.githubusercontent.com/PyThaiNLP/wisesight-sentiment/master/kaggle-competition/test.txt"
      ],
      "metadata": {
        "colab": {
          "base_uri": "https://localhost:8080/"
        },
        "id": "cuGmEzMKMl-b",
        "outputId": "f464143a-4756-47d4-df43-51c6145a8fcb"
      },
      "execution_count": 102,
      "outputs": [
        {
          "output_type": "stream",
          "name": "stdout",
          "text": [
            "--2023-06-29 03:56:27--  https://raw.githubusercontent.com/PyThaiNLP/wisesight-sentiment/master/kaggle-competition/train.txt\n",
            "Resolving raw.githubusercontent.com (raw.githubusercontent.com)... 185.199.111.133, 185.199.108.133, 185.199.110.133, ...\n",
            "Connecting to raw.githubusercontent.com (raw.githubusercontent.com)|185.199.111.133|:443... connected.\n",
            "HTTP request sent, awaiting response... 200 OK\n",
            "Length: 5658270 (5.4M) [text/plain]\n",
            "Saving to: ‘train.txt.1’\n",
            "\n",
            "train.txt.1         100%[===================>]   5.40M  --.-KB/s    in 0.1s    \n",
            "\n",
            "2023-06-29 03:56:28 (37.0 MB/s) - ‘train.txt.1’ saved [5658270/5658270]\n",
            "\n",
            "--2023-06-29 03:56:29--  https://raw.githubusercontent.com/PyThaiNLP/wisesight-sentiment/master/kaggle-competition/train_label.txt\n",
            "Resolving raw.githubusercontent.com (raw.githubusercontent.com)... 185.199.109.133, 185.199.111.133, 185.199.108.133, ...\n",
            "Connecting to raw.githubusercontent.com (raw.githubusercontent.com)|185.199.109.133|:443... connected.\n",
            "HTTP request sent, awaiting response... 200 OK\n",
            "Length: 95216 (93K) [text/plain]\n",
            "Saving to: ‘train_label.txt.1’\n",
            "\n",
            "train_label.txt.1   100%[===================>]  92.98K  --.-KB/s    in 0.01s   \n",
            "\n",
            "2023-06-29 03:56:30 (6.58 MB/s) - ‘train_label.txt.1’ saved [95216/95216]\n",
            "\n",
            "--2023-06-29 03:56:30--  https://raw.githubusercontent.com/PyThaiNLP/wisesight-sentiment/master/kaggle-competition/test_label.txt\n",
            "Resolving raw.githubusercontent.com (raw.githubusercontent.com)... 185.199.111.133, 185.199.108.133, 185.199.110.133, ...\n",
            "Connecting to raw.githubusercontent.com (raw.githubusercontent.com)|185.199.111.133|:443... connected.\n",
            "HTTP request sent, awaiting response... 200 OK\n",
            "Length: 10582 (10K) [text/plain]\n",
            "Saving to: ‘test_label.txt.1’\n",
            "\n",
            "test_label.txt.1    100%[===================>]  10.33K  --.-KB/s    in 0s      \n",
            "\n",
            "2023-06-29 03:56:30 (67.0 MB/s) - ‘test_label.txt.1’ saved [10582/10582]\n",
            "\n",
            "--2023-06-29 03:56:30--  https://raw.githubusercontent.com/PyThaiNLP/wisesight-sentiment/master/kaggle-competition/test.txt\n",
            "Resolving raw.githubusercontent.com (raw.githubusercontent.com)... 185.199.108.133, 185.199.109.133, 185.199.110.133, ...\n",
            "Connecting to raw.githubusercontent.com (raw.githubusercontent.com)|185.199.108.133|:443... connected.\n",
            "HTTP request sent, awaiting response... 200 OK\n",
            "Length: 632776 (618K) [text/plain]\n",
            "Saving to: ‘test.txt.1’\n",
            "\n",
            "test.txt.1          100%[===================>] 617.95K  --.-KB/s    in 0.05s   \n",
            "\n",
            "2023-06-29 03:56:30 (12.0 MB/s) - ‘test.txt.1’ saved [632776/632776]\n",
            "\n"
          ]
        }
      ]
    },
    {
      "cell_type": "markdown",
      "source": [
        "# Data preparation"
      ],
      "metadata": {
        "id": "TTnvBQ3HNeQr"
      }
    },
    {
      "cell_type": "code",
      "source": [
        "import pandas as pd\n",
        "df_train = pd.read_csv('/content/train.txt',header = None, on_bad_lines='skip')\n",
        "df_train_label = pd.read_csv('/content/train_label.txt',header = None, on_bad_lines='skip')\n",
        "\n",
        "\n",
        "df_test = pd.read_csv('/content/test.txt',header = None, on_bad_lines='skip')\n",
        "df_test_label = pd.read_csv('/content/test_label.txt',header = None, on_bad_lines='skip')"
      ],
      "metadata": {
        "id": "EwrmNE-iMbZh"
      },
      "execution_count": 103,
      "outputs": []
    },
    {
      "cell_type": "code",
      "source": [
        "df_train['label'] = df_train_label\n",
        "df_train.columns = ['text','label']\n",
        "df_train.dropna(inplace=True)\n",
        "\n",
        "df_test['label'] = df_test_label\n",
        "df_test.columns = ['text','label']\n"
      ],
      "metadata": {
        "id": "twrt5BeBQPCn"
      },
      "execution_count": 104,
      "outputs": []
    },
    {
      "cell_type": "code",
      "source": [
        "df_train"
      ],
      "metadata": {
        "colab": {
          "base_uri": "https://localhost:8080/",
          "height": 424
        },
        "id": "bQtCR3iW0uwS",
        "outputId": "b86ca0f2-20ee-4d58-d00d-9388841991d5"
      },
      "execution_count": 105,
      "outputs": [
        {
          "output_type": "execute_result",
          "data": {
            "text/plain": [
              "                                                    text label\n",
              "0      ประเทศเราผลิตและส่งออกยาสูบเยอะสุดในโลกจิงป่าวคับ   neu\n",
              "1                                                     คะ   neu\n",
              "2                            อิเหี้ยออมทำกูอยากกินเอ็มเค   neg\n",
              "3                                                    😅😅😅   neu\n",
              "4                                สวัสดีวันพุธ แนน อะไรนะ   neu\n",
              "...                                                  ...   ...\n",
              "23424                                     แม่งควายล้วนนน   neu\n",
              "23425                   ดอยสุเทพน้องง ไปหมดแล้วววว #pm25   neg\n",
              "23426                           ค่าชุดอาจจะแพงกว่าส่วนลด   neu\n",
              "23427                              รัฐต้องการแค่ภาษีครับ   neg\n",
              "23428  ™ ได้พัฒนาระบบเข้าสู่รุ่นที่สองแล้ว มาดูกันสิว...   neg\n",
              "\n",
              "[23429 rows x 2 columns]"
            ],
            "text/html": [
              "\n",
              "  <div id=\"df-06315020-192b-4a6f-890a-c276ca2f1879\">\n",
              "    <div class=\"colab-df-container\">\n",
              "      <div>\n",
              "<style scoped>\n",
              "    .dataframe tbody tr th:only-of-type {\n",
              "        vertical-align: middle;\n",
              "    }\n",
              "\n",
              "    .dataframe tbody tr th {\n",
              "        vertical-align: top;\n",
              "    }\n",
              "\n",
              "    .dataframe thead th {\n",
              "        text-align: right;\n",
              "    }\n",
              "</style>\n",
              "<table border=\"1\" class=\"dataframe\">\n",
              "  <thead>\n",
              "    <tr style=\"text-align: right;\">\n",
              "      <th></th>\n",
              "      <th>text</th>\n",
              "      <th>label</th>\n",
              "    </tr>\n",
              "  </thead>\n",
              "  <tbody>\n",
              "    <tr>\n",
              "      <th>0</th>\n",
              "      <td>ประเทศเราผลิตและส่งออกยาสูบเยอะสุดในโลกจิงป่าวคับ</td>\n",
              "      <td>neu</td>\n",
              "    </tr>\n",
              "    <tr>\n",
              "      <th>1</th>\n",
              "      <td>คะ</td>\n",
              "      <td>neu</td>\n",
              "    </tr>\n",
              "    <tr>\n",
              "      <th>2</th>\n",
              "      <td>อิเหี้ยออมทำกูอยากกินเอ็มเค</td>\n",
              "      <td>neg</td>\n",
              "    </tr>\n",
              "    <tr>\n",
              "      <th>3</th>\n",
              "      <td>😅😅😅</td>\n",
              "      <td>neu</td>\n",
              "    </tr>\n",
              "    <tr>\n",
              "      <th>4</th>\n",
              "      <td>สวัสดีวันพุธ แนน อะไรนะ</td>\n",
              "      <td>neu</td>\n",
              "    </tr>\n",
              "    <tr>\n",
              "      <th>...</th>\n",
              "      <td>...</td>\n",
              "      <td>...</td>\n",
              "    </tr>\n",
              "    <tr>\n",
              "      <th>23424</th>\n",
              "      <td>แม่งควายล้วนนน</td>\n",
              "      <td>neu</td>\n",
              "    </tr>\n",
              "    <tr>\n",
              "      <th>23425</th>\n",
              "      <td>ดอยสุเทพน้องง ไปหมดแล้วววว #pm25</td>\n",
              "      <td>neg</td>\n",
              "    </tr>\n",
              "    <tr>\n",
              "      <th>23426</th>\n",
              "      <td>ค่าชุดอาจจะแพงกว่าส่วนลด</td>\n",
              "      <td>neu</td>\n",
              "    </tr>\n",
              "    <tr>\n",
              "      <th>23427</th>\n",
              "      <td>รัฐต้องการแค่ภาษีครับ</td>\n",
              "      <td>neg</td>\n",
              "    </tr>\n",
              "    <tr>\n",
              "      <th>23428</th>\n",
              "      <td>™ ได้พัฒนาระบบเข้าสู่รุ่นที่สองแล้ว มาดูกันสิว...</td>\n",
              "      <td>neg</td>\n",
              "    </tr>\n",
              "  </tbody>\n",
              "</table>\n",
              "<p>23429 rows × 2 columns</p>\n",
              "</div>\n",
              "      <button class=\"colab-df-convert\" onclick=\"convertToInteractive('df-06315020-192b-4a6f-890a-c276ca2f1879')\"\n",
              "              title=\"Convert this dataframe to an interactive table.\"\n",
              "              style=\"display:none;\">\n",
              "        \n",
              "  <svg xmlns=\"http://www.w3.org/2000/svg\" height=\"24px\"viewBox=\"0 0 24 24\"\n",
              "       width=\"24px\">\n",
              "    <path d=\"M0 0h24v24H0V0z\" fill=\"none\"/>\n",
              "    <path d=\"M18.56 5.44l.94 2.06.94-2.06 2.06-.94-2.06-.94-.94-2.06-.94 2.06-2.06.94zm-11 1L8.5 8.5l.94-2.06 2.06-.94-2.06-.94L8.5 2.5l-.94 2.06-2.06.94zm10 10l.94 2.06.94-2.06 2.06-.94-2.06-.94-.94-2.06-.94 2.06-2.06.94z\"/><path d=\"M17.41 7.96l-1.37-1.37c-.4-.4-.92-.59-1.43-.59-.52 0-1.04.2-1.43.59L10.3 9.45l-7.72 7.72c-.78.78-.78 2.05 0 2.83L4 21.41c.39.39.9.59 1.41.59.51 0 1.02-.2 1.41-.59l7.78-7.78 2.81-2.81c.8-.78.8-2.07 0-2.86zM5.41 20L4 18.59l7.72-7.72 1.47 1.35L5.41 20z\"/>\n",
              "  </svg>\n",
              "      </button>\n",
              "      \n",
              "  <style>\n",
              "    .colab-df-container {\n",
              "      display:flex;\n",
              "      flex-wrap:wrap;\n",
              "      gap: 12px;\n",
              "    }\n",
              "\n",
              "    .colab-df-convert {\n",
              "      background-color: #E8F0FE;\n",
              "      border: none;\n",
              "      border-radius: 50%;\n",
              "      cursor: pointer;\n",
              "      display: none;\n",
              "      fill: #1967D2;\n",
              "      height: 32px;\n",
              "      padding: 0 0 0 0;\n",
              "      width: 32px;\n",
              "    }\n",
              "\n",
              "    .colab-df-convert:hover {\n",
              "      background-color: #E2EBFA;\n",
              "      box-shadow: 0px 1px 2px rgba(60, 64, 67, 0.3), 0px 1px 3px 1px rgba(60, 64, 67, 0.15);\n",
              "      fill: #174EA6;\n",
              "    }\n",
              "\n",
              "    [theme=dark] .colab-df-convert {\n",
              "      background-color: #3B4455;\n",
              "      fill: #D2E3FC;\n",
              "    }\n",
              "\n",
              "    [theme=dark] .colab-df-convert:hover {\n",
              "      background-color: #434B5C;\n",
              "      box-shadow: 0px 1px 3px 1px rgba(0, 0, 0, 0.15);\n",
              "      filter: drop-shadow(0px 1px 2px rgba(0, 0, 0, 0.3));\n",
              "      fill: #FFFFFF;\n",
              "    }\n",
              "  </style>\n",
              "\n",
              "      <script>\n",
              "        const buttonEl =\n",
              "          document.querySelector('#df-06315020-192b-4a6f-890a-c276ca2f1879 button.colab-df-convert');\n",
              "        buttonEl.style.display =\n",
              "          google.colab.kernel.accessAllowed ? 'block' : 'none';\n",
              "\n",
              "        async function convertToInteractive(key) {\n",
              "          const element = document.querySelector('#df-06315020-192b-4a6f-890a-c276ca2f1879');\n",
              "          const dataTable =\n",
              "            await google.colab.kernel.invokeFunction('convertToInteractive',\n",
              "                                                     [key], {});\n",
              "          if (!dataTable) return;\n",
              "\n",
              "          const docLinkHtml = 'Like what you see? Visit the ' +\n",
              "            '<a target=\"_blank\" href=https://colab.research.google.com/notebooks/data_table.ipynb>data table notebook</a>'\n",
              "            + ' to learn more about interactive tables.';\n",
              "          element.innerHTML = '';\n",
              "          dataTable['output_type'] = 'display_data';\n",
              "          await google.colab.output.renderOutput(dataTable, element);\n",
              "          const docLink = document.createElement('div');\n",
              "          docLink.innerHTML = docLinkHtml;\n",
              "          element.appendChild(docLink);\n",
              "        }\n",
              "      </script>\n",
              "    </div>\n",
              "  </div>\n",
              "  "
            ]
          },
          "metadata": {},
          "execution_count": 105
        }
      ]
    },
    {
      "cell_type": "markdown",
      "source": [
        "เซ็ตจำนวน data train test"
      ],
      "metadata": {
        "id": "2VzCs2Fu1AQs"
      }
    },
    {
      "cell_type": "code",
      "source": [
        "print(df_train.shape)\n",
        "print(df_test.shape)"
      ],
      "metadata": {
        "colab": {
          "base_uri": "https://localhost:8080/"
        },
        "id": "01GaJuCY1Gag",
        "outputId": "26c412b4-8488-4105-d994-f0c625eb18d3"
      },
      "execution_count": 106,
      "outputs": [
        {
          "output_type": "stream",
          "name": "stdout",
          "text": [
            "(23429, 2)\n",
            "(2605, 2)\n"
          ]
        }
      ]
    },
    {
      "cell_type": "code",
      "source": [
        "df_all_values = df_train.label.value_counts().to_frame()\n",
        "df_all_values.columns = ['label_train']\n",
        "df_all_values['label_test'] = df_test.label.value_counts()\n",
        "df_all_values['percentage_train'] = df_all_values.label_train.apply(lambda x : x /df_all_values.sum()[0])\n",
        "df_all_values['percentage_test'] = df_all_values.label_test.apply(lambda x : x /df_all_values.sum()[1])\n",
        "df_all_values"
      ],
      "metadata": {
        "colab": {
          "base_uri": "https://localhost:8080/",
          "height": 175
        },
        "id": "iX8jdFCb1vlu",
        "outputId": "49bac2fc-abfd-44db-b4f0-c69861280b8c"
      },
      "execution_count": 107,
      "outputs": [
        {
          "output_type": "execute_result",
          "data": {
            "text/plain": [
              "     label_train  label_test  percentage_train  percentage_test\n",
              "neu        12753        1418          0.544325         0.544338\n",
              "neg         5982         665          0.255325         0.255278\n",
              "pos         4191         465          0.178881         0.178503\n",
              "q            503          57          0.021469         0.021881"
            ],
            "text/html": [
              "\n",
              "  <div id=\"df-2111e720-6d33-4a9c-8486-9853e47884f1\">\n",
              "    <div class=\"colab-df-container\">\n",
              "      <div>\n",
              "<style scoped>\n",
              "    .dataframe tbody tr th:only-of-type {\n",
              "        vertical-align: middle;\n",
              "    }\n",
              "\n",
              "    .dataframe tbody tr th {\n",
              "        vertical-align: top;\n",
              "    }\n",
              "\n",
              "    .dataframe thead th {\n",
              "        text-align: right;\n",
              "    }\n",
              "</style>\n",
              "<table border=\"1\" class=\"dataframe\">\n",
              "  <thead>\n",
              "    <tr style=\"text-align: right;\">\n",
              "      <th></th>\n",
              "      <th>label_train</th>\n",
              "      <th>label_test</th>\n",
              "      <th>percentage_train</th>\n",
              "      <th>percentage_test</th>\n",
              "    </tr>\n",
              "  </thead>\n",
              "  <tbody>\n",
              "    <tr>\n",
              "      <th>neu</th>\n",
              "      <td>12753</td>\n",
              "      <td>1418</td>\n",
              "      <td>0.544325</td>\n",
              "      <td>0.544338</td>\n",
              "    </tr>\n",
              "    <tr>\n",
              "      <th>neg</th>\n",
              "      <td>5982</td>\n",
              "      <td>665</td>\n",
              "      <td>0.255325</td>\n",
              "      <td>0.255278</td>\n",
              "    </tr>\n",
              "    <tr>\n",
              "      <th>pos</th>\n",
              "      <td>4191</td>\n",
              "      <td>465</td>\n",
              "      <td>0.178881</td>\n",
              "      <td>0.178503</td>\n",
              "    </tr>\n",
              "    <tr>\n",
              "      <th>q</th>\n",
              "      <td>503</td>\n",
              "      <td>57</td>\n",
              "      <td>0.021469</td>\n",
              "      <td>0.021881</td>\n",
              "    </tr>\n",
              "  </tbody>\n",
              "</table>\n",
              "</div>\n",
              "      <button class=\"colab-df-convert\" onclick=\"convertToInteractive('df-2111e720-6d33-4a9c-8486-9853e47884f1')\"\n",
              "              title=\"Convert this dataframe to an interactive table.\"\n",
              "              style=\"display:none;\">\n",
              "        \n",
              "  <svg xmlns=\"http://www.w3.org/2000/svg\" height=\"24px\"viewBox=\"0 0 24 24\"\n",
              "       width=\"24px\">\n",
              "    <path d=\"M0 0h24v24H0V0z\" fill=\"none\"/>\n",
              "    <path d=\"M18.56 5.44l.94 2.06.94-2.06 2.06-.94-2.06-.94-.94-2.06-.94 2.06-2.06.94zm-11 1L8.5 8.5l.94-2.06 2.06-.94-2.06-.94L8.5 2.5l-.94 2.06-2.06.94zm10 10l.94 2.06.94-2.06 2.06-.94-2.06-.94-.94-2.06-.94 2.06-2.06.94z\"/><path d=\"M17.41 7.96l-1.37-1.37c-.4-.4-.92-.59-1.43-.59-.52 0-1.04.2-1.43.59L10.3 9.45l-7.72 7.72c-.78.78-.78 2.05 0 2.83L4 21.41c.39.39.9.59 1.41.59.51 0 1.02-.2 1.41-.59l7.78-7.78 2.81-2.81c.8-.78.8-2.07 0-2.86zM5.41 20L4 18.59l7.72-7.72 1.47 1.35L5.41 20z\"/>\n",
              "  </svg>\n",
              "      </button>\n",
              "      \n",
              "  <style>\n",
              "    .colab-df-container {\n",
              "      display:flex;\n",
              "      flex-wrap:wrap;\n",
              "      gap: 12px;\n",
              "    }\n",
              "\n",
              "    .colab-df-convert {\n",
              "      background-color: #E8F0FE;\n",
              "      border: none;\n",
              "      border-radius: 50%;\n",
              "      cursor: pointer;\n",
              "      display: none;\n",
              "      fill: #1967D2;\n",
              "      height: 32px;\n",
              "      padding: 0 0 0 0;\n",
              "      width: 32px;\n",
              "    }\n",
              "\n",
              "    .colab-df-convert:hover {\n",
              "      background-color: #E2EBFA;\n",
              "      box-shadow: 0px 1px 2px rgba(60, 64, 67, 0.3), 0px 1px 3px 1px rgba(60, 64, 67, 0.15);\n",
              "      fill: #174EA6;\n",
              "    }\n",
              "\n",
              "    [theme=dark] .colab-df-convert {\n",
              "      background-color: #3B4455;\n",
              "      fill: #D2E3FC;\n",
              "    }\n",
              "\n",
              "    [theme=dark] .colab-df-convert:hover {\n",
              "      background-color: #434B5C;\n",
              "      box-shadow: 0px 1px 3px 1px rgba(0, 0, 0, 0.15);\n",
              "      filter: drop-shadow(0px 1px 2px rgba(0, 0, 0, 0.3));\n",
              "      fill: #FFFFFF;\n",
              "    }\n",
              "  </style>\n",
              "\n",
              "      <script>\n",
              "        const buttonEl =\n",
              "          document.querySelector('#df-2111e720-6d33-4a9c-8486-9853e47884f1 button.colab-df-convert');\n",
              "        buttonEl.style.display =\n",
              "          google.colab.kernel.accessAllowed ? 'block' : 'none';\n",
              "\n",
              "        async function convertToInteractive(key) {\n",
              "          const element = document.querySelector('#df-2111e720-6d33-4a9c-8486-9853e47884f1');\n",
              "          const dataTable =\n",
              "            await google.colab.kernel.invokeFunction('convertToInteractive',\n",
              "                                                     [key], {});\n",
              "          if (!dataTable) return;\n",
              "\n",
              "          const docLinkHtml = 'Like what you see? Visit the ' +\n",
              "            '<a target=\"_blank\" href=https://colab.research.google.com/notebooks/data_table.ipynb>data table notebook</a>'\n",
              "            + ' to learn more about interactive tables.';\n",
              "          element.innerHTML = '';\n",
              "          dataTable['output_type'] = 'display_data';\n",
              "          await google.colab.output.renderOutput(dataTable, element);\n",
              "          const docLink = document.createElement('div');\n",
              "          docLink.innerHTML = docLinkHtml;\n",
              "          element.appendChild(docLink);\n",
              "        }\n",
              "      </script>\n",
              "    </div>\n",
              "  </div>\n",
              "  "
            ]
          },
          "metadata": {},
          "execution_count": 107
        }
      ]
    },
    {
      "cell_type": "code",
      "source": [
        "df_train.loc[df_train.label == 'q'].sample(5)"
      ],
      "metadata": {
        "colab": {
          "base_uri": "https://localhost:8080/",
          "height": 206
        },
        "id": "FOUMJGn026Ah",
        "outputId": "5e3a6ce1-eeb2-479c-d94b-22309596e71a"
      },
      "execution_count": 108,
      "outputs": [
        {
          "output_type": "execute_result",
          "data": {
            "text/plain": [
              "                                                    text label\n",
              "15802                 แต่อินนิสฟรีไม่แถมของง่ะ ข้ามๆปัยย     q\n",
              "9054                     บัตร RED CARD ราคา 99 บาทค่ะ ^^     q\n",
              "16726  อะ แล้วแต่อะ กูโพสต์บอกอยากแดกเบียร์ทีไร เอาด้...     q\n",
              "339                              รอ MG6 ตัวใหม่ อย่างหรู     q\n",
              "7697   ลุ้นตั๋วหนังฟรีด่วนๆ กับ #Happymeal ชุด Buildi...     q"
            ],
            "text/html": [
              "\n",
              "  <div id=\"df-5f70d3cf-7cd9-430d-9c1e-e35e202f2278\">\n",
              "    <div class=\"colab-df-container\">\n",
              "      <div>\n",
              "<style scoped>\n",
              "    .dataframe tbody tr th:only-of-type {\n",
              "        vertical-align: middle;\n",
              "    }\n",
              "\n",
              "    .dataframe tbody tr th {\n",
              "        vertical-align: top;\n",
              "    }\n",
              "\n",
              "    .dataframe thead th {\n",
              "        text-align: right;\n",
              "    }\n",
              "</style>\n",
              "<table border=\"1\" class=\"dataframe\">\n",
              "  <thead>\n",
              "    <tr style=\"text-align: right;\">\n",
              "      <th></th>\n",
              "      <th>text</th>\n",
              "      <th>label</th>\n",
              "    </tr>\n",
              "  </thead>\n",
              "  <tbody>\n",
              "    <tr>\n",
              "      <th>15802</th>\n",
              "      <td>แต่อินนิสฟรีไม่แถมของง่ะ ข้ามๆปัยย</td>\n",
              "      <td>q</td>\n",
              "    </tr>\n",
              "    <tr>\n",
              "      <th>9054</th>\n",
              "      <td>บัตร RED CARD ราคา 99 บาทค่ะ ^^</td>\n",
              "      <td>q</td>\n",
              "    </tr>\n",
              "    <tr>\n",
              "      <th>16726</th>\n",
              "      <td>อะ แล้วแต่อะ กูโพสต์บอกอยากแดกเบียร์ทีไร เอาด้...</td>\n",
              "      <td>q</td>\n",
              "    </tr>\n",
              "    <tr>\n",
              "      <th>339</th>\n",
              "      <td>รอ MG6 ตัวใหม่ อย่างหรู</td>\n",
              "      <td>q</td>\n",
              "    </tr>\n",
              "    <tr>\n",
              "      <th>7697</th>\n",
              "      <td>ลุ้นตั๋วหนังฟรีด่วนๆ กับ #Happymeal ชุด Buildi...</td>\n",
              "      <td>q</td>\n",
              "    </tr>\n",
              "  </tbody>\n",
              "</table>\n",
              "</div>\n",
              "      <button class=\"colab-df-convert\" onclick=\"convertToInteractive('df-5f70d3cf-7cd9-430d-9c1e-e35e202f2278')\"\n",
              "              title=\"Convert this dataframe to an interactive table.\"\n",
              "              style=\"display:none;\">\n",
              "        \n",
              "  <svg xmlns=\"http://www.w3.org/2000/svg\" height=\"24px\"viewBox=\"0 0 24 24\"\n",
              "       width=\"24px\">\n",
              "    <path d=\"M0 0h24v24H0V0z\" fill=\"none\"/>\n",
              "    <path d=\"M18.56 5.44l.94 2.06.94-2.06 2.06-.94-2.06-.94-.94-2.06-.94 2.06-2.06.94zm-11 1L8.5 8.5l.94-2.06 2.06-.94-2.06-.94L8.5 2.5l-.94 2.06-2.06.94zm10 10l.94 2.06.94-2.06 2.06-.94-2.06-.94-.94-2.06-.94 2.06-2.06.94z\"/><path d=\"M17.41 7.96l-1.37-1.37c-.4-.4-.92-.59-1.43-.59-.52 0-1.04.2-1.43.59L10.3 9.45l-7.72 7.72c-.78.78-.78 2.05 0 2.83L4 21.41c.39.39.9.59 1.41.59.51 0 1.02-.2 1.41-.59l7.78-7.78 2.81-2.81c.8-.78.8-2.07 0-2.86zM5.41 20L4 18.59l7.72-7.72 1.47 1.35L5.41 20z\"/>\n",
              "  </svg>\n",
              "      </button>\n",
              "      \n",
              "  <style>\n",
              "    .colab-df-container {\n",
              "      display:flex;\n",
              "      flex-wrap:wrap;\n",
              "      gap: 12px;\n",
              "    }\n",
              "\n",
              "    .colab-df-convert {\n",
              "      background-color: #E8F0FE;\n",
              "      border: none;\n",
              "      border-radius: 50%;\n",
              "      cursor: pointer;\n",
              "      display: none;\n",
              "      fill: #1967D2;\n",
              "      height: 32px;\n",
              "      padding: 0 0 0 0;\n",
              "      width: 32px;\n",
              "    }\n",
              "\n",
              "    .colab-df-convert:hover {\n",
              "      background-color: #E2EBFA;\n",
              "      box-shadow: 0px 1px 2px rgba(60, 64, 67, 0.3), 0px 1px 3px 1px rgba(60, 64, 67, 0.15);\n",
              "      fill: #174EA6;\n",
              "    }\n",
              "\n",
              "    [theme=dark] .colab-df-convert {\n",
              "      background-color: #3B4455;\n",
              "      fill: #D2E3FC;\n",
              "    }\n",
              "\n",
              "    [theme=dark] .colab-df-convert:hover {\n",
              "      background-color: #434B5C;\n",
              "      box-shadow: 0px 1px 3px 1px rgba(0, 0, 0, 0.15);\n",
              "      filter: drop-shadow(0px 1px 2px rgba(0, 0, 0, 0.3));\n",
              "      fill: #FFFFFF;\n",
              "    }\n",
              "  </style>\n",
              "\n",
              "      <script>\n",
              "        const buttonEl =\n",
              "          document.querySelector('#df-5f70d3cf-7cd9-430d-9c1e-e35e202f2278 button.colab-df-convert');\n",
              "        buttonEl.style.display =\n",
              "          google.colab.kernel.accessAllowed ? 'block' : 'none';\n",
              "\n",
              "        async function convertToInteractive(key) {\n",
              "          const element = document.querySelector('#df-5f70d3cf-7cd9-430d-9c1e-e35e202f2278');\n",
              "          const dataTable =\n",
              "            await google.colab.kernel.invokeFunction('convertToInteractive',\n",
              "                                                     [key], {});\n",
              "          if (!dataTable) return;\n",
              "\n",
              "          const docLinkHtml = 'Like what you see? Visit the ' +\n",
              "            '<a target=\"_blank\" href=https://colab.research.google.com/notebooks/data_table.ipynb>data table notebook</a>'\n",
              "            + ' to learn more about interactive tables.';\n",
              "          element.innerHTML = '';\n",
              "          dataTable['output_type'] = 'display_data';\n",
              "          await google.colab.output.renderOutput(dataTable, element);\n",
              "          const docLink = document.createElement('div');\n",
              "          docLink.innerHTML = docLinkHtml;\n",
              "          element.appendChild(docLink);\n",
              "        }\n",
              "      </script>\n",
              "    </div>\n",
              "  </div>\n",
              "  "
            ]
          },
          "metadata": {},
          "execution_count": 108
        }
      ]
    },
    {
      "cell_type": "code",
      "source": [
        "df_train.loc[df_train.label == 'pos'].sample(5)"
      ],
      "metadata": {
        "colab": {
          "base_uri": "https://localhost:8080/",
          "height": 206
        },
        "id": "T8Ch0GmW3LiI",
        "outputId": "76c64934-36a9-493c-c8f2-5c74277c2ed8"
      },
      "execution_count": 109,
      "outputs": [
        {
          "output_type": "execute_result",
          "data": {
            "text/plain": [
              "                                                    text label\n",
              "21145                       เคๆ กูพูดเล่น มึงก็จริงจัง55   pos\n",
              "22620                           ทำ ANESSA หาย เสียใจมาก😢   pos\n",
              "3783   สวยแบบ World Class! ลุคใหม่ของสาวสิงห์ ที่ดูดี...   pos\n",
              "10791                                กลัวบุหรี่ขายไม่ได้   pos\n",
              "13029                                            จริงอ่ะ   pos"
            ],
            "text/html": [
              "\n",
              "  <div id=\"df-d118ac80-9951-4e11-b7b0-04f558128c79\">\n",
              "    <div class=\"colab-df-container\">\n",
              "      <div>\n",
              "<style scoped>\n",
              "    .dataframe tbody tr th:only-of-type {\n",
              "        vertical-align: middle;\n",
              "    }\n",
              "\n",
              "    .dataframe tbody tr th {\n",
              "        vertical-align: top;\n",
              "    }\n",
              "\n",
              "    .dataframe thead th {\n",
              "        text-align: right;\n",
              "    }\n",
              "</style>\n",
              "<table border=\"1\" class=\"dataframe\">\n",
              "  <thead>\n",
              "    <tr style=\"text-align: right;\">\n",
              "      <th></th>\n",
              "      <th>text</th>\n",
              "      <th>label</th>\n",
              "    </tr>\n",
              "  </thead>\n",
              "  <tbody>\n",
              "    <tr>\n",
              "      <th>21145</th>\n",
              "      <td>เคๆ กูพูดเล่น มึงก็จริงจัง55</td>\n",
              "      <td>pos</td>\n",
              "    </tr>\n",
              "    <tr>\n",
              "      <th>22620</th>\n",
              "      <td>ทำ ANESSA หาย เสียใจมาก😢</td>\n",
              "      <td>pos</td>\n",
              "    </tr>\n",
              "    <tr>\n",
              "      <th>3783</th>\n",
              "      <td>สวยแบบ World Class! ลุคใหม่ของสาวสิงห์ ที่ดูดี...</td>\n",
              "      <td>pos</td>\n",
              "    </tr>\n",
              "    <tr>\n",
              "      <th>10791</th>\n",
              "      <td>กลัวบุหรี่ขายไม่ได้</td>\n",
              "      <td>pos</td>\n",
              "    </tr>\n",
              "    <tr>\n",
              "      <th>13029</th>\n",
              "      <td>จริงอ่ะ</td>\n",
              "      <td>pos</td>\n",
              "    </tr>\n",
              "  </tbody>\n",
              "</table>\n",
              "</div>\n",
              "      <button class=\"colab-df-convert\" onclick=\"convertToInteractive('df-d118ac80-9951-4e11-b7b0-04f558128c79')\"\n",
              "              title=\"Convert this dataframe to an interactive table.\"\n",
              "              style=\"display:none;\">\n",
              "        \n",
              "  <svg xmlns=\"http://www.w3.org/2000/svg\" height=\"24px\"viewBox=\"0 0 24 24\"\n",
              "       width=\"24px\">\n",
              "    <path d=\"M0 0h24v24H0V0z\" fill=\"none\"/>\n",
              "    <path d=\"M18.56 5.44l.94 2.06.94-2.06 2.06-.94-2.06-.94-.94-2.06-.94 2.06-2.06.94zm-11 1L8.5 8.5l.94-2.06 2.06-.94-2.06-.94L8.5 2.5l-.94 2.06-2.06.94zm10 10l.94 2.06.94-2.06 2.06-.94-2.06-.94-.94-2.06-.94 2.06-2.06.94z\"/><path d=\"M17.41 7.96l-1.37-1.37c-.4-.4-.92-.59-1.43-.59-.52 0-1.04.2-1.43.59L10.3 9.45l-7.72 7.72c-.78.78-.78 2.05 0 2.83L4 21.41c.39.39.9.59 1.41.59.51 0 1.02-.2 1.41-.59l7.78-7.78 2.81-2.81c.8-.78.8-2.07 0-2.86zM5.41 20L4 18.59l7.72-7.72 1.47 1.35L5.41 20z\"/>\n",
              "  </svg>\n",
              "      </button>\n",
              "      \n",
              "  <style>\n",
              "    .colab-df-container {\n",
              "      display:flex;\n",
              "      flex-wrap:wrap;\n",
              "      gap: 12px;\n",
              "    }\n",
              "\n",
              "    .colab-df-convert {\n",
              "      background-color: #E8F0FE;\n",
              "      border: none;\n",
              "      border-radius: 50%;\n",
              "      cursor: pointer;\n",
              "      display: none;\n",
              "      fill: #1967D2;\n",
              "      height: 32px;\n",
              "      padding: 0 0 0 0;\n",
              "      width: 32px;\n",
              "    }\n",
              "\n",
              "    .colab-df-convert:hover {\n",
              "      background-color: #E2EBFA;\n",
              "      box-shadow: 0px 1px 2px rgba(60, 64, 67, 0.3), 0px 1px 3px 1px rgba(60, 64, 67, 0.15);\n",
              "      fill: #174EA6;\n",
              "    }\n",
              "\n",
              "    [theme=dark] .colab-df-convert {\n",
              "      background-color: #3B4455;\n",
              "      fill: #D2E3FC;\n",
              "    }\n",
              "\n",
              "    [theme=dark] .colab-df-convert:hover {\n",
              "      background-color: #434B5C;\n",
              "      box-shadow: 0px 1px 3px 1px rgba(0, 0, 0, 0.15);\n",
              "      filter: drop-shadow(0px 1px 2px rgba(0, 0, 0, 0.3));\n",
              "      fill: #FFFFFF;\n",
              "    }\n",
              "  </style>\n",
              "\n",
              "      <script>\n",
              "        const buttonEl =\n",
              "          document.querySelector('#df-d118ac80-9951-4e11-b7b0-04f558128c79 button.colab-df-convert');\n",
              "        buttonEl.style.display =\n",
              "          google.colab.kernel.accessAllowed ? 'block' : 'none';\n",
              "\n",
              "        async function convertToInteractive(key) {\n",
              "          const element = document.querySelector('#df-d118ac80-9951-4e11-b7b0-04f558128c79');\n",
              "          const dataTable =\n",
              "            await google.colab.kernel.invokeFunction('convertToInteractive',\n",
              "                                                     [key], {});\n",
              "          if (!dataTable) return;\n",
              "\n",
              "          const docLinkHtml = 'Like what you see? Visit the ' +\n",
              "            '<a target=\"_blank\" href=https://colab.research.google.com/notebooks/data_table.ipynb>data table notebook</a>'\n",
              "            + ' to learn more about interactive tables.';\n",
              "          element.innerHTML = '';\n",
              "          dataTable['output_type'] = 'display_data';\n",
              "          await google.colab.output.renderOutput(dataTable, element);\n",
              "          const docLink = document.createElement('div');\n",
              "          docLink.innerHTML = docLinkHtml;\n",
              "          element.appendChild(docLink);\n",
              "        }\n",
              "      </script>\n",
              "    </div>\n",
              "  </div>\n",
              "  "
            ]
          },
          "metadata": {},
          "execution_count": 109
        }
      ]
    },
    {
      "cell_type": "code",
      "source": [
        "df_train.loc[df_train.label == 'neg'].sample(5)"
      ],
      "metadata": {
        "colab": {
          "base_uri": "https://localhost:8080/",
          "height": 206
        },
        "id": "caXuw_ox3QZD",
        "outputId": "f52605df-74a1-4109-8717-dc1061f29d85"
      },
      "execution_count": 110,
      "outputs": [
        {
          "output_type": "execute_result",
          "data": {
            "text/plain": [
              "                                                    text label\n",
              "14053  ทำไมเขาไม่ไปประท้วงสิงห์ ช้างเลิกผลิตเบียร์ตรง...   neg\n",
              "15860  โปรดช่วยเหลือชะนี ก่อนที่จะกลายเป็นนก?! ชะนีเป...   neg\n",
              "3811   เราเคยเจอเรียกแล้วไม่มา 3 คันติด เหมือนมันแรนด...   neg\n",
              "11261  ร่วมสนุกค่ะ.. ท้าคนมือไวหยุด มิตซูบิชิ ปาเจโรส...   neg\n",
              "14686  ชงเหล้าให้ไคฟ์และตัวเอง “ดื่มแบล็คไปก่อนนะไคฟ์...   neg"
            ],
            "text/html": [
              "\n",
              "  <div id=\"df-1b575037-8927-4b46-b4f7-5462ed032022\">\n",
              "    <div class=\"colab-df-container\">\n",
              "      <div>\n",
              "<style scoped>\n",
              "    .dataframe tbody tr th:only-of-type {\n",
              "        vertical-align: middle;\n",
              "    }\n",
              "\n",
              "    .dataframe tbody tr th {\n",
              "        vertical-align: top;\n",
              "    }\n",
              "\n",
              "    .dataframe thead th {\n",
              "        text-align: right;\n",
              "    }\n",
              "</style>\n",
              "<table border=\"1\" class=\"dataframe\">\n",
              "  <thead>\n",
              "    <tr style=\"text-align: right;\">\n",
              "      <th></th>\n",
              "      <th>text</th>\n",
              "      <th>label</th>\n",
              "    </tr>\n",
              "  </thead>\n",
              "  <tbody>\n",
              "    <tr>\n",
              "      <th>14053</th>\n",
              "      <td>ทำไมเขาไม่ไปประท้วงสิงห์ ช้างเลิกผลิตเบียร์ตรง...</td>\n",
              "      <td>neg</td>\n",
              "    </tr>\n",
              "    <tr>\n",
              "      <th>15860</th>\n",
              "      <td>โปรดช่วยเหลือชะนี ก่อนที่จะกลายเป็นนก?! ชะนีเป...</td>\n",
              "      <td>neg</td>\n",
              "    </tr>\n",
              "    <tr>\n",
              "      <th>3811</th>\n",
              "      <td>เราเคยเจอเรียกแล้วไม่มา 3 คันติด เหมือนมันแรนด...</td>\n",
              "      <td>neg</td>\n",
              "    </tr>\n",
              "    <tr>\n",
              "      <th>11261</th>\n",
              "      <td>ร่วมสนุกค่ะ.. ท้าคนมือไวหยุด มิตซูบิชิ ปาเจโรส...</td>\n",
              "      <td>neg</td>\n",
              "    </tr>\n",
              "    <tr>\n",
              "      <th>14686</th>\n",
              "      <td>ชงเหล้าให้ไคฟ์และตัวเอง “ดื่มแบล็คไปก่อนนะไคฟ์...</td>\n",
              "      <td>neg</td>\n",
              "    </tr>\n",
              "  </tbody>\n",
              "</table>\n",
              "</div>\n",
              "      <button class=\"colab-df-convert\" onclick=\"convertToInteractive('df-1b575037-8927-4b46-b4f7-5462ed032022')\"\n",
              "              title=\"Convert this dataframe to an interactive table.\"\n",
              "              style=\"display:none;\">\n",
              "        \n",
              "  <svg xmlns=\"http://www.w3.org/2000/svg\" height=\"24px\"viewBox=\"0 0 24 24\"\n",
              "       width=\"24px\">\n",
              "    <path d=\"M0 0h24v24H0V0z\" fill=\"none\"/>\n",
              "    <path d=\"M18.56 5.44l.94 2.06.94-2.06 2.06-.94-2.06-.94-.94-2.06-.94 2.06-2.06.94zm-11 1L8.5 8.5l.94-2.06 2.06-.94-2.06-.94L8.5 2.5l-.94 2.06-2.06.94zm10 10l.94 2.06.94-2.06 2.06-.94-2.06-.94-.94-2.06-.94 2.06-2.06.94z\"/><path d=\"M17.41 7.96l-1.37-1.37c-.4-.4-.92-.59-1.43-.59-.52 0-1.04.2-1.43.59L10.3 9.45l-7.72 7.72c-.78.78-.78 2.05 0 2.83L4 21.41c.39.39.9.59 1.41.59.51 0 1.02-.2 1.41-.59l7.78-7.78 2.81-2.81c.8-.78.8-2.07 0-2.86zM5.41 20L4 18.59l7.72-7.72 1.47 1.35L5.41 20z\"/>\n",
              "  </svg>\n",
              "      </button>\n",
              "      \n",
              "  <style>\n",
              "    .colab-df-container {\n",
              "      display:flex;\n",
              "      flex-wrap:wrap;\n",
              "      gap: 12px;\n",
              "    }\n",
              "\n",
              "    .colab-df-convert {\n",
              "      background-color: #E8F0FE;\n",
              "      border: none;\n",
              "      border-radius: 50%;\n",
              "      cursor: pointer;\n",
              "      display: none;\n",
              "      fill: #1967D2;\n",
              "      height: 32px;\n",
              "      padding: 0 0 0 0;\n",
              "      width: 32px;\n",
              "    }\n",
              "\n",
              "    .colab-df-convert:hover {\n",
              "      background-color: #E2EBFA;\n",
              "      box-shadow: 0px 1px 2px rgba(60, 64, 67, 0.3), 0px 1px 3px 1px rgba(60, 64, 67, 0.15);\n",
              "      fill: #174EA6;\n",
              "    }\n",
              "\n",
              "    [theme=dark] .colab-df-convert {\n",
              "      background-color: #3B4455;\n",
              "      fill: #D2E3FC;\n",
              "    }\n",
              "\n",
              "    [theme=dark] .colab-df-convert:hover {\n",
              "      background-color: #434B5C;\n",
              "      box-shadow: 0px 1px 3px 1px rgba(0, 0, 0, 0.15);\n",
              "      filter: drop-shadow(0px 1px 2px rgba(0, 0, 0, 0.3));\n",
              "      fill: #FFFFFF;\n",
              "    }\n",
              "  </style>\n",
              "\n",
              "      <script>\n",
              "        const buttonEl =\n",
              "          document.querySelector('#df-1b575037-8927-4b46-b4f7-5462ed032022 button.colab-df-convert');\n",
              "        buttonEl.style.display =\n",
              "          google.colab.kernel.accessAllowed ? 'block' : 'none';\n",
              "\n",
              "        async function convertToInteractive(key) {\n",
              "          const element = document.querySelector('#df-1b575037-8927-4b46-b4f7-5462ed032022');\n",
              "          const dataTable =\n",
              "            await google.colab.kernel.invokeFunction('convertToInteractive',\n",
              "                                                     [key], {});\n",
              "          if (!dataTable) return;\n",
              "\n",
              "          const docLinkHtml = 'Like what you see? Visit the ' +\n",
              "            '<a target=\"_blank\" href=https://colab.research.google.com/notebooks/data_table.ipynb>data table notebook</a>'\n",
              "            + ' to learn more about interactive tables.';\n",
              "          element.innerHTML = '';\n",
              "          dataTable['output_type'] = 'display_data';\n",
              "          await google.colab.output.renderOutput(dataTable, element);\n",
              "          const docLink = document.createElement('div');\n",
              "          docLink.innerHTML = docLinkHtml;\n",
              "          element.appendChild(docLink);\n",
              "        }\n",
              "      </script>\n",
              "    </div>\n",
              "  </div>\n",
              "  "
            ]
          },
          "metadata": {},
          "execution_count": 110
        }
      ]
    },
    {
      "cell_type": "code",
      "source": [
        "df_train.loc[df_train.label == 'neg'].sample(5)"
      ],
      "metadata": {
        "colab": {
          "base_uri": "https://localhost:8080/",
          "height": 206
        },
        "id": "MX1firVd3UI4",
        "outputId": "660580f8-1f52-4795-9dcc-179822a76b04"
      },
      "execution_count": 111,
      "outputs": [
        {
          "output_type": "execute_result",
          "data": {
            "text/plain": [
              "                                                 text label\n",
              "19277                               องุ่น ฅน ถ่าย รูป   neg\n",
              "21929  เชฟโรเลต ชูโกลบอลมาร์เก็ตติ้ง ขับเคลื่อนองค์กร   neg\n",
              "10510                                   ทำหน้าแบ๊วใส่   neg\n",
              "18533                          เอาแค่ MG3 ตัวท๊อบกะพอ   neg\n",
              "6538                                        ป่ะๆๆๆๆๆๆ   neg"
            ],
            "text/html": [
              "\n",
              "  <div id=\"df-db338854-39e2-4e31-af30-67a26dc35086\">\n",
              "    <div class=\"colab-df-container\">\n",
              "      <div>\n",
              "<style scoped>\n",
              "    .dataframe tbody tr th:only-of-type {\n",
              "        vertical-align: middle;\n",
              "    }\n",
              "\n",
              "    .dataframe tbody tr th {\n",
              "        vertical-align: top;\n",
              "    }\n",
              "\n",
              "    .dataframe thead th {\n",
              "        text-align: right;\n",
              "    }\n",
              "</style>\n",
              "<table border=\"1\" class=\"dataframe\">\n",
              "  <thead>\n",
              "    <tr style=\"text-align: right;\">\n",
              "      <th></th>\n",
              "      <th>text</th>\n",
              "      <th>label</th>\n",
              "    </tr>\n",
              "  </thead>\n",
              "  <tbody>\n",
              "    <tr>\n",
              "      <th>19277</th>\n",
              "      <td>องุ่น ฅน ถ่าย รูป</td>\n",
              "      <td>neg</td>\n",
              "    </tr>\n",
              "    <tr>\n",
              "      <th>21929</th>\n",
              "      <td>เชฟโรเลต ชูโกลบอลมาร์เก็ตติ้ง ขับเคลื่อนองค์กร</td>\n",
              "      <td>neg</td>\n",
              "    </tr>\n",
              "    <tr>\n",
              "      <th>10510</th>\n",
              "      <td>ทำหน้าแบ๊วใส่</td>\n",
              "      <td>neg</td>\n",
              "    </tr>\n",
              "    <tr>\n",
              "      <th>18533</th>\n",
              "      <td>เอาแค่ MG3 ตัวท๊อบกะพอ</td>\n",
              "      <td>neg</td>\n",
              "    </tr>\n",
              "    <tr>\n",
              "      <th>6538</th>\n",
              "      <td>ป่ะๆๆๆๆๆๆ</td>\n",
              "      <td>neg</td>\n",
              "    </tr>\n",
              "  </tbody>\n",
              "</table>\n",
              "</div>\n",
              "      <button class=\"colab-df-convert\" onclick=\"convertToInteractive('df-db338854-39e2-4e31-af30-67a26dc35086')\"\n",
              "              title=\"Convert this dataframe to an interactive table.\"\n",
              "              style=\"display:none;\">\n",
              "        \n",
              "  <svg xmlns=\"http://www.w3.org/2000/svg\" height=\"24px\"viewBox=\"0 0 24 24\"\n",
              "       width=\"24px\">\n",
              "    <path d=\"M0 0h24v24H0V0z\" fill=\"none\"/>\n",
              "    <path d=\"M18.56 5.44l.94 2.06.94-2.06 2.06-.94-2.06-.94-.94-2.06-.94 2.06-2.06.94zm-11 1L8.5 8.5l.94-2.06 2.06-.94-2.06-.94L8.5 2.5l-.94 2.06-2.06.94zm10 10l.94 2.06.94-2.06 2.06-.94-2.06-.94-.94-2.06-.94 2.06-2.06.94z\"/><path d=\"M17.41 7.96l-1.37-1.37c-.4-.4-.92-.59-1.43-.59-.52 0-1.04.2-1.43.59L10.3 9.45l-7.72 7.72c-.78.78-.78 2.05 0 2.83L4 21.41c.39.39.9.59 1.41.59.51 0 1.02-.2 1.41-.59l7.78-7.78 2.81-2.81c.8-.78.8-2.07 0-2.86zM5.41 20L4 18.59l7.72-7.72 1.47 1.35L5.41 20z\"/>\n",
              "  </svg>\n",
              "      </button>\n",
              "      \n",
              "  <style>\n",
              "    .colab-df-container {\n",
              "      display:flex;\n",
              "      flex-wrap:wrap;\n",
              "      gap: 12px;\n",
              "    }\n",
              "\n",
              "    .colab-df-convert {\n",
              "      background-color: #E8F0FE;\n",
              "      border: none;\n",
              "      border-radius: 50%;\n",
              "      cursor: pointer;\n",
              "      display: none;\n",
              "      fill: #1967D2;\n",
              "      height: 32px;\n",
              "      padding: 0 0 0 0;\n",
              "      width: 32px;\n",
              "    }\n",
              "\n",
              "    .colab-df-convert:hover {\n",
              "      background-color: #E2EBFA;\n",
              "      box-shadow: 0px 1px 2px rgba(60, 64, 67, 0.3), 0px 1px 3px 1px rgba(60, 64, 67, 0.15);\n",
              "      fill: #174EA6;\n",
              "    }\n",
              "\n",
              "    [theme=dark] .colab-df-convert {\n",
              "      background-color: #3B4455;\n",
              "      fill: #D2E3FC;\n",
              "    }\n",
              "\n",
              "    [theme=dark] .colab-df-convert:hover {\n",
              "      background-color: #434B5C;\n",
              "      box-shadow: 0px 1px 3px 1px rgba(0, 0, 0, 0.15);\n",
              "      filter: drop-shadow(0px 1px 2px rgba(0, 0, 0, 0.3));\n",
              "      fill: #FFFFFF;\n",
              "    }\n",
              "  </style>\n",
              "\n",
              "      <script>\n",
              "        const buttonEl =\n",
              "          document.querySelector('#df-db338854-39e2-4e31-af30-67a26dc35086 button.colab-df-convert');\n",
              "        buttonEl.style.display =\n",
              "          google.colab.kernel.accessAllowed ? 'block' : 'none';\n",
              "\n",
              "        async function convertToInteractive(key) {\n",
              "          const element = document.querySelector('#df-db338854-39e2-4e31-af30-67a26dc35086');\n",
              "          const dataTable =\n",
              "            await google.colab.kernel.invokeFunction('convertToInteractive',\n",
              "                                                     [key], {});\n",
              "          if (!dataTable) return;\n",
              "\n",
              "          const docLinkHtml = 'Like what you see? Visit the ' +\n",
              "            '<a target=\"_blank\" href=https://colab.research.google.com/notebooks/data_table.ipynb>data table notebook</a>'\n",
              "            + ' to learn more about interactive tables.';\n",
              "          element.innerHTML = '';\n",
              "          dataTable['output_type'] = 'display_data';\n",
              "          await google.colab.output.renderOutput(dataTable, element);\n",
              "          const docLink = document.createElement('div');\n",
              "          docLink.innerHTML = docLinkHtml;\n",
              "          element.appendChild(docLink);\n",
              "        }\n",
              "      </script>\n",
              "    </div>\n",
              "  </div>\n",
              "  "
            ]
          },
          "metadata": {},
          "execution_count": 111
        }
      ]
    },
    {
      "cell_type": "markdown",
      "source": [
        "# feature extraction bag-of-words(BOW) model"
      ],
      "metadata": {
        "id": "V21OENz73Yhl"
      }
    },
    {
      "cell_type": "markdown",
      "source": [
        "Count Vectorizer"
      ],
      "metadata": {
        "id": "m-1kwqn03lRZ"
      }
    },
    {
      "cell_type": "code",
      "source": [
        "from sklearn.feature_extraction.text import CountVectorizer\n",
        "import pythainlp\n",
        "\n",
        "count_vec = CountVectorizer(tokenizer = pythainlp.tokenize.word_tokenize)\n",
        "cvec = count_vec.fit_transform(df_train.text)\n",
        "cvec_df = pd.DataFrame(cvec.toarray())\n",
        "print(cvec_df.shape)"
      ],
      "metadata": {
        "colab": {
          "base_uri": "https://localhost:8080/"
        },
        "id": "QdlDHxsJ3pil",
        "outputId": "ffa4d748-7f6e-4649-ac98-fea344887abe"
      },
      "execution_count": 112,
      "outputs": [
        {
          "output_type": "stream",
          "name": "stderr",
          "text": [
            "/usr/local/lib/python3.10/dist-packages/sklearn/feature_extraction/text.py:528: UserWarning: The parameter 'token_pattern' will not be used since 'tokenizer' is not None'\n",
            "  warnings.warn(\n"
          ]
        },
        {
          "output_type": "stream",
          "name": "stdout",
          "text": [
            "(23429, 26528)\n"
          ]
        }
      ]
    },
    {
      "cell_type": "code",
      "source": [
        "cvec_df.columns = count_vec.vocabulary_.keys()\n",
        "\n",
        "cvec_df"
      ],
      "metadata": {
        "colab": {
          "base_uri": "https://localhost:8080/",
          "height": 485
        },
        "id": "7kf4NYqr4cuj",
        "outputId": "4e8cd956-8af5-4bda-adad-92ee48ddd9d6"
      },
      "execution_count": 113,
      "outputs": [
        {
          "output_type": "execute_result",
          "data": {
            "text/plain": [
              "       ประเทศ  เรา  ผลิต  และ  ส่งออก  ยาสูบ  เยอะ  สุด  ใน  โลก  ...  บิ้วท์  \\\n",
              "0           0    0     0    0       0      0     0    0   0    0  ...       0   \n",
              "1           0    0     0    0       0      0     0    0   0    0  ...       0   \n",
              "2           0    0     0    0       0      0     0    0   0    0  ...       0   \n",
              "3           0    0     0    0       0      0     0    0   0    0  ...       0   \n",
              "4           0    0     0    0       0      2     0    0   0    0  ...       0   \n",
              "...       ...  ...   ...  ...     ...    ...   ...  ...  ..  ...  ...     ...   \n",
              "23424       0    0     0    0       0      0     0    0   0    0  ...       0   \n",
              "23425       0    0     0    0       0      2     0    0   0    0  ...       0   \n",
              "23426       0    0     0    0       0      0     0    0   0    0  ...       0   \n",
              "23427       0    0     0    0       0      0     0    0   0    0  ...       0   \n",
              "23428       0    0     0    0       0      5     0    0   0    0  ...       0   \n",
              "\n",
              "       sit  tobeno  pak  บวง  tnt  ชนะใจ  า😊  ลดราวาศอก  ผิดพวก  \n",
              "0        0       0    0    0    0      0   0          0       0  \n",
              "1        0       0    0    0    0      0   0          0       0  \n",
              "2        0       0    0    0    0      0   0          0       0  \n",
              "3        0       0    0    0    0      0   0          0       0  \n",
              "4        0       0    0    0    0      0   0          0       0  \n",
              "...    ...     ...  ...  ...  ...    ...  ..        ...     ...  \n",
              "23424    0       0    0    0    0      0   0          0       0  \n",
              "23425    0       0    0    0    0      0   0          0       0  \n",
              "23426    0       0    0    0    0      0   0          0       0  \n",
              "23427    0       0    0    0    0      0   0          0       0  \n",
              "23428    0       0    0    0    0      0   0          0       0  \n",
              "\n",
              "[23429 rows x 26528 columns]"
            ],
            "text/html": [
              "\n",
              "  <div id=\"df-7ed28246-af9b-4f45-9c11-2eadee78b33a\">\n",
              "    <div class=\"colab-df-container\">\n",
              "      <div>\n",
              "<style scoped>\n",
              "    .dataframe tbody tr th:only-of-type {\n",
              "        vertical-align: middle;\n",
              "    }\n",
              "\n",
              "    .dataframe tbody tr th {\n",
              "        vertical-align: top;\n",
              "    }\n",
              "\n",
              "    .dataframe thead th {\n",
              "        text-align: right;\n",
              "    }\n",
              "</style>\n",
              "<table border=\"1\" class=\"dataframe\">\n",
              "  <thead>\n",
              "    <tr style=\"text-align: right;\">\n",
              "      <th></th>\n",
              "      <th>ประเทศ</th>\n",
              "      <th>เรา</th>\n",
              "      <th>ผลิต</th>\n",
              "      <th>และ</th>\n",
              "      <th>ส่งออก</th>\n",
              "      <th>ยาสูบ</th>\n",
              "      <th>เยอะ</th>\n",
              "      <th>สุด</th>\n",
              "      <th>ใน</th>\n",
              "      <th>โลก</th>\n",
              "      <th>...</th>\n",
              "      <th>บิ้วท์</th>\n",
              "      <th>sit</th>\n",
              "      <th>tobeno</th>\n",
              "      <th>pak</th>\n",
              "      <th>บวง</th>\n",
              "      <th>tnt</th>\n",
              "      <th>ชนะใจ</th>\n",
              "      <th>า😊</th>\n",
              "      <th>ลดราวาศอก</th>\n",
              "      <th>ผิดพวก</th>\n",
              "    </tr>\n",
              "  </thead>\n",
              "  <tbody>\n",
              "    <tr>\n",
              "      <th>0</th>\n",
              "      <td>0</td>\n",
              "      <td>0</td>\n",
              "      <td>0</td>\n",
              "      <td>0</td>\n",
              "      <td>0</td>\n",
              "      <td>0</td>\n",
              "      <td>0</td>\n",
              "      <td>0</td>\n",
              "      <td>0</td>\n",
              "      <td>0</td>\n",
              "      <td>...</td>\n",
              "      <td>0</td>\n",
              "      <td>0</td>\n",
              "      <td>0</td>\n",
              "      <td>0</td>\n",
              "      <td>0</td>\n",
              "      <td>0</td>\n",
              "      <td>0</td>\n",
              "      <td>0</td>\n",
              "      <td>0</td>\n",
              "      <td>0</td>\n",
              "    </tr>\n",
              "    <tr>\n",
              "      <th>1</th>\n",
              "      <td>0</td>\n",
              "      <td>0</td>\n",
              "      <td>0</td>\n",
              "      <td>0</td>\n",
              "      <td>0</td>\n",
              "      <td>0</td>\n",
              "      <td>0</td>\n",
              "      <td>0</td>\n",
              "      <td>0</td>\n",
              "      <td>0</td>\n",
              "      <td>...</td>\n",
              "      <td>0</td>\n",
              "      <td>0</td>\n",
              "      <td>0</td>\n",
              "      <td>0</td>\n",
              "      <td>0</td>\n",
              "      <td>0</td>\n",
              "      <td>0</td>\n",
              "      <td>0</td>\n",
              "      <td>0</td>\n",
              "      <td>0</td>\n",
              "    </tr>\n",
              "    <tr>\n",
              "      <th>2</th>\n",
              "      <td>0</td>\n",
              "      <td>0</td>\n",
              "      <td>0</td>\n",
              "      <td>0</td>\n",
              "      <td>0</td>\n",
              "      <td>0</td>\n",
              "      <td>0</td>\n",
              "      <td>0</td>\n",
              "      <td>0</td>\n",
              "      <td>0</td>\n",
              "      <td>...</td>\n",
              "      <td>0</td>\n",
              "      <td>0</td>\n",
              "      <td>0</td>\n",
              "      <td>0</td>\n",
              "      <td>0</td>\n",
              "      <td>0</td>\n",
              "      <td>0</td>\n",
              "      <td>0</td>\n",
              "      <td>0</td>\n",
              "      <td>0</td>\n",
              "    </tr>\n",
              "    <tr>\n",
              "      <th>3</th>\n",
              "      <td>0</td>\n",
              "      <td>0</td>\n",
              "      <td>0</td>\n",
              "      <td>0</td>\n",
              "      <td>0</td>\n",
              "      <td>0</td>\n",
              "      <td>0</td>\n",
              "      <td>0</td>\n",
              "      <td>0</td>\n",
              "      <td>0</td>\n",
              "      <td>...</td>\n",
              "      <td>0</td>\n",
              "      <td>0</td>\n",
              "      <td>0</td>\n",
              "      <td>0</td>\n",
              "      <td>0</td>\n",
              "      <td>0</td>\n",
              "      <td>0</td>\n",
              "      <td>0</td>\n",
              "      <td>0</td>\n",
              "      <td>0</td>\n",
              "    </tr>\n",
              "    <tr>\n",
              "      <th>4</th>\n",
              "      <td>0</td>\n",
              "      <td>0</td>\n",
              "      <td>0</td>\n",
              "      <td>0</td>\n",
              "      <td>0</td>\n",
              "      <td>2</td>\n",
              "      <td>0</td>\n",
              "      <td>0</td>\n",
              "      <td>0</td>\n",
              "      <td>0</td>\n",
              "      <td>...</td>\n",
              "      <td>0</td>\n",
              "      <td>0</td>\n",
              "      <td>0</td>\n",
              "      <td>0</td>\n",
              "      <td>0</td>\n",
              "      <td>0</td>\n",
              "      <td>0</td>\n",
              "      <td>0</td>\n",
              "      <td>0</td>\n",
              "      <td>0</td>\n",
              "    </tr>\n",
              "    <tr>\n",
              "      <th>...</th>\n",
              "      <td>...</td>\n",
              "      <td>...</td>\n",
              "      <td>...</td>\n",
              "      <td>...</td>\n",
              "      <td>...</td>\n",
              "      <td>...</td>\n",
              "      <td>...</td>\n",
              "      <td>...</td>\n",
              "      <td>...</td>\n",
              "      <td>...</td>\n",
              "      <td>...</td>\n",
              "      <td>...</td>\n",
              "      <td>...</td>\n",
              "      <td>...</td>\n",
              "      <td>...</td>\n",
              "      <td>...</td>\n",
              "      <td>...</td>\n",
              "      <td>...</td>\n",
              "      <td>...</td>\n",
              "      <td>...</td>\n",
              "      <td>...</td>\n",
              "    </tr>\n",
              "    <tr>\n",
              "      <th>23424</th>\n",
              "      <td>0</td>\n",
              "      <td>0</td>\n",
              "      <td>0</td>\n",
              "      <td>0</td>\n",
              "      <td>0</td>\n",
              "      <td>0</td>\n",
              "      <td>0</td>\n",
              "      <td>0</td>\n",
              "      <td>0</td>\n",
              "      <td>0</td>\n",
              "      <td>...</td>\n",
              "      <td>0</td>\n",
              "      <td>0</td>\n",
              "      <td>0</td>\n",
              "      <td>0</td>\n",
              "      <td>0</td>\n",
              "      <td>0</td>\n",
              "      <td>0</td>\n",
              "      <td>0</td>\n",
              "      <td>0</td>\n",
              "      <td>0</td>\n",
              "    </tr>\n",
              "    <tr>\n",
              "      <th>23425</th>\n",
              "      <td>0</td>\n",
              "      <td>0</td>\n",
              "      <td>0</td>\n",
              "      <td>0</td>\n",
              "      <td>0</td>\n",
              "      <td>2</td>\n",
              "      <td>0</td>\n",
              "      <td>0</td>\n",
              "      <td>0</td>\n",
              "      <td>0</td>\n",
              "      <td>...</td>\n",
              "      <td>0</td>\n",
              "      <td>0</td>\n",
              "      <td>0</td>\n",
              "      <td>0</td>\n",
              "      <td>0</td>\n",
              "      <td>0</td>\n",
              "      <td>0</td>\n",
              "      <td>0</td>\n",
              "      <td>0</td>\n",
              "      <td>0</td>\n",
              "    </tr>\n",
              "    <tr>\n",
              "      <th>23426</th>\n",
              "      <td>0</td>\n",
              "      <td>0</td>\n",
              "      <td>0</td>\n",
              "      <td>0</td>\n",
              "      <td>0</td>\n",
              "      <td>0</td>\n",
              "      <td>0</td>\n",
              "      <td>0</td>\n",
              "      <td>0</td>\n",
              "      <td>0</td>\n",
              "      <td>...</td>\n",
              "      <td>0</td>\n",
              "      <td>0</td>\n",
              "      <td>0</td>\n",
              "      <td>0</td>\n",
              "      <td>0</td>\n",
              "      <td>0</td>\n",
              "      <td>0</td>\n",
              "      <td>0</td>\n",
              "      <td>0</td>\n",
              "      <td>0</td>\n",
              "    </tr>\n",
              "    <tr>\n",
              "      <th>23427</th>\n",
              "      <td>0</td>\n",
              "      <td>0</td>\n",
              "      <td>0</td>\n",
              "      <td>0</td>\n",
              "      <td>0</td>\n",
              "      <td>0</td>\n",
              "      <td>0</td>\n",
              "      <td>0</td>\n",
              "      <td>0</td>\n",
              "      <td>0</td>\n",
              "      <td>...</td>\n",
              "      <td>0</td>\n",
              "      <td>0</td>\n",
              "      <td>0</td>\n",
              "      <td>0</td>\n",
              "      <td>0</td>\n",
              "      <td>0</td>\n",
              "      <td>0</td>\n",
              "      <td>0</td>\n",
              "      <td>0</td>\n",
              "      <td>0</td>\n",
              "    </tr>\n",
              "    <tr>\n",
              "      <th>23428</th>\n",
              "      <td>0</td>\n",
              "      <td>0</td>\n",
              "      <td>0</td>\n",
              "      <td>0</td>\n",
              "      <td>0</td>\n",
              "      <td>5</td>\n",
              "      <td>0</td>\n",
              "      <td>0</td>\n",
              "      <td>0</td>\n",
              "      <td>0</td>\n",
              "      <td>...</td>\n",
              "      <td>0</td>\n",
              "      <td>0</td>\n",
              "      <td>0</td>\n",
              "      <td>0</td>\n",
              "      <td>0</td>\n",
              "      <td>0</td>\n",
              "      <td>0</td>\n",
              "      <td>0</td>\n",
              "      <td>0</td>\n",
              "      <td>0</td>\n",
              "    </tr>\n",
              "  </tbody>\n",
              "</table>\n",
              "<p>23429 rows × 26528 columns</p>\n",
              "</div>\n",
              "      <button class=\"colab-df-convert\" onclick=\"convertToInteractive('df-7ed28246-af9b-4f45-9c11-2eadee78b33a')\"\n",
              "              title=\"Convert this dataframe to an interactive table.\"\n",
              "              style=\"display:none;\">\n",
              "        \n",
              "  <svg xmlns=\"http://www.w3.org/2000/svg\" height=\"24px\"viewBox=\"0 0 24 24\"\n",
              "       width=\"24px\">\n",
              "    <path d=\"M0 0h24v24H0V0z\" fill=\"none\"/>\n",
              "    <path d=\"M18.56 5.44l.94 2.06.94-2.06 2.06-.94-2.06-.94-.94-2.06-.94 2.06-2.06.94zm-11 1L8.5 8.5l.94-2.06 2.06-.94-2.06-.94L8.5 2.5l-.94 2.06-2.06.94zm10 10l.94 2.06.94-2.06 2.06-.94-2.06-.94-.94-2.06-.94 2.06-2.06.94z\"/><path d=\"M17.41 7.96l-1.37-1.37c-.4-.4-.92-.59-1.43-.59-.52 0-1.04.2-1.43.59L10.3 9.45l-7.72 7.72c-.78.78-.78 2.05 0 2.83L4 21.41c.39.39.9.59 1.41.59.51 0 1.02-.2 1.41-.59l7.78-7.78 2.81-2.81c.8-.78.8-2.07 0-2.86zM5.41 20L4 18.59l7.72-7.72 1.47 1.35L5.41 20z\"/>\n",
              "  </svg>\n",
              "      </button>\n",
              "      \n",
              "  <style>\n",
              "    .colab-df-container {\n",
              "      display:flex;\n",
              "      flex-wrap:wrap;\n",
              "      gap: 12px;\n",
              "    }\n",
              "\n",
              "    .colab-df-convert {\n",
              "      background-color: #E8F0FE;\n",
              "      border: none;\n",
              "      border-radius: 50%;\n",
              "      cursor: pointer;\n",
              "      display: none;\n",
              "      fill: #1967D2;\n",
              "      height: 32px;\n",
              "      padding: 0 0 0 0;\n",
              "      width: 32px;\n",
              "    }\n",
              "\n",
              "    .colab-df-convert:hover {\n",
              "      background-color: #E2EBFA;\n",
              "      box-shadow: 0px 1px 2px rgba(60, 64, 67, 0.3), 0px 1px 3px 1px rgba(60, 64, 67, 0.15);\n",
              "      fill: #174EA6;\n",
              "    }\n",
              "\n",
              "    [theme=dark] .colab-df-convert {\n",
              "      background-color: #3B4455;\n",
              "      fill: #D2E3FC;\n",
              "    }\n",
              "\n",
              "    [theme=dark] .colab-df-convert:hover {\n",
              "      background-color: #434B5C;\n",
              "      box-shadow: 0px 1px 3px 1px rgba(0, 0, 0, 0.15);\n",
              "      filter: drop-shadow(0px 1px 2px rgba(0, 0, 0, 0.3));\n",
              "      fill: #FFFFFF;\n",
              "    }\n",
              "  </style>\n",
              "\n",
              "      <script>\n",
              "        const buttonEl =\n",
              "          document.querySelector('#df-7ed28246-af9b-4f45-9c11-2eadee78b33a button.colab-df-convert');\n",
              "        buttonEl.style.display =\n",
              "          google.colab.kernel.accessAllowed ? 'block' : 'none';\n",
              "\n",
              "        async function convertToInteractive(key) {\n",
              "          const element = document.querySelector('#df-7ed28246-af9b-4f45-9c11-2eadee78b33a');\n",
              "          const dataTable =\n",
              "            await google.colab.kernel.invokeFunction('convertToInteractive',\n",
              "                                                     [key], {});\n",
              "          if (!dataTable) return;\n",
              "\n",
              "          const docLinkHtml = 'Like what you see? Visit the ' +\n",
              "            '<a target=\"_blank\" href=https://colab.research.google.com/notebooks/data_table.ipynb>data table notebook</a>'\n",
              "            + ' to learn more about interactive tables.';\n",
              "          element.innerHTML = '';\n",
              "          dataTable['output_type'] = 'display_data';\n",
              "          await google.colab.output.renderOutput(dataTable, element);\n",
              "          const docLink = document.createElement('div');\n",
              "          docLink.innerHTML = docLinkHtml;\n",
              "          element.appendChild(docLink);\n",
              "        }\n",
              "      </script>\n",
              "    </div>\n",
              "  </div>\n",
              "  "
            ]
          },
          "metadata": {},
          "execution_count": 113
        }
      ]
    },
    {
      "cell_type": "markdown",
      "source": [
        "TF-IDF vectorizer"
      ],
      "metadata": {
        "id": "MH6cCijES6YK"
      }
    },
    {
      "cell_type": "code",
      "source": [
        "from sklearn.feature_extraction.text import TfidfVectorizer\n",
        "tfidf = TfidfVectorizer(tokenizer = pythainlp.tokenize.word_tokenize)\n",
        "tfidf_vec = tfidf.fit_transform(df_train.text).toarray()\n",
        "tfidf_df = pd.DataFrame(tfidf_vec)\n",
        "tfidf_vec.shape"
      ],
      "metadata": {
        "colab": {
          "base_uri": "https://localhost:8080/"
        },
        "id": "_sDVl5OWS-zr",
        "outputId": "d417a0a7-d944-43ee-e077-7a83e83f19b6"
      },
      "execution_count": 114,
      "outputs": [
        {
          "output_type": "stream",
          "name": "stderr",
          "text": [
            "/usr/local/lib/python3.10/dist-packages/sklearn/feature_extraction/text.py:528: UserWarning: The parameter 'token_pattern' will not be used since 'tokenizer' is not None'\n",
            "  warnings.warn(\n"
          ]
        },
        {
          "output_type": "execute_result",
          "data": {
            "text/plain": [
              "(23429, 26528)"
            ]
          },
          "metadata": {},
          "execution_count": 114
        }
      ]
    },
    {
      "cell_type": "code",
      "source": [
        "tfidf_df.columns = tfidf.vocabulary_.keys()\n",
        "tfidf_df"
      ],
      "metadata": {
        "colab": {
          "base_uri": "https://localhost:8080/",
          "height": 502
        },
        "id": "UG5114tKTI4j",
        "outputId": "be7b6f35-589a-4b5a-e19a-e35fa9e05ae7"
      },
      "execution_count": 115,
      "outputs": [
        {
          "output_type": "execute_result",
          "data": {
            "text/plain": [
              "       ประเทศ  เรา  ผลิต  และ  ส่งออก     ยาสูบ  เยอะ  สุด   ใน  โลก  ...  \\\n",
              "0         0.0  0.0   0.0  0.0     0.0  0.000000   0.0  0.0  0.0  0.0  ...   \n",
              "1         0.0  0.0   0.0  0.0     0.0  0.000000   0.0  0.0  0.0  0.0  ...   \n",
              "2         0.0  0.0   0.0  0.0     0.0  0.000000   0.0  0.0  0.0  0.0  ...   \n",
              "3         0.0  0.0   0.0  0.0     0.0  0.000000   0.0  0.0  0.0  0.0  ...   \n",
              "4         0.0  0.0   0.0  0.0     0.0  0.183858   0.0  0.0  0.0  0.0  ...   \n",
              "...       ...  ...   ...  ...     ...       ...   ...  ...  ...  ...  ...   \n",
              "23424     0.0  0.0   0.0  0.0     0.0  0.000000   0.0  0.0  0.0  0.0  ...   \n",
              "23425     0.0  0.0   0.0  0.0     0.0  0.141667   0.0  0.0  0.0  0.0  ...   \n",
              "23426     0.0  0.0   0.0  0.0     0.0  0.000000   0.0  0.0  0.0  0.0  ...   \n",
              "23427     0.0  0.0   0.0  0.0     0.0  0.000000   0.0  0.0  0.0  0.0  ...   \n",
              "23428     0.0  0.0   0.0  0.0     0.0  0.243627   0.0  0.0  0.0  0.0  ...   \n",
              "\n",
              "       บิ้วท์  sit  tobeno  pak  บวง  tnt  ชนะใจ   า😊  ลดราวาศอก  ผิดพวก  \n",
              "0         0.0  0.0     0.0  0.0  0.0  0.0    0.0  0.0        0.0     0.0  \n",
              "1         0.0  0.0     0.0  0.0  0.0  0.0    0.0  0.0        0.0     0.0  \n",
              "2         0.0  0.0     0.0  0.0  0.0  0.0    0.0  0.0        0.0     0.0  \n",
              "3         0.0  0.0     0.0  0.0  0.0  0.0    0.0  0.0        0.0     0.0  \n",
              "4         0.0  0.0     0.0  0.0  0.0  0.0    0.0  0.0        0.0     0.0  \n",
              "...       ...  ...     ...  ...  ...  ...    ...  ...        ...     ...  \n",
              "23424     0.0  0.0     0.0  0.0  0.0  0.0    0.0  0.0        0.0     0.0  \n",
              "23425     0.0  0.0     0.0  0.0  0.0  0.0    0.0  0.0        0.0     0.0  \n",
              "23426     0.0  0.0     0.0  0.0  0.0  0.0    0.0  0.0        0.0     0.0  \n",
              "23427     0.0  0.0     0.0  0.0  0.0  0.0    0.0  0.0        0.0     0.0  \n",
              "23428     0.0  0.0     0.0  0.0  0.0  0.0    0.0  0.0        0.0     0.0  \n",
              "\n",
              "[23429 rows x 26528 columns]"
            ],
            "text/html": [
              "\n",
              "  <div id=\"df-89312eb2-13e0-4658-84ac-5a19cdf07928\">\n",
              "    <div class=\"colab-df-container\">\n",
              "      <div>\n",
              "<style scoped>\n",
              "    .dataframe tbody tr th:only-of-type {\n",
              "        vertical-align: middle;\n",
              "    }\n",
              "\n",
              "    .dataframe tbody tr th {\n",
              "        vertical-align: top;\n",
              "    }\n",
              "\n",
              "    .dataframe thead th {\n",
              "        text-align: right;\n",
              "    }\n",
              "</style>\n",
              "<table border=\"1\" class=\"dataframe\">\n",
              "  <thead>\n",
              "    <tr style=\"text-align: right;\">\n",
              "      <th></th>\n",
              "      <th>ประเทศ</th>\n",
              "      <th>เรา</th>\n",
              "      <th>ผลิต</th>\n",
              "      <th>และ</th>\n",
              "      <th>ส่งออก</th>\n",
              "      <th>ยาสูบ</th>\n",
              "      <th>เยอะ</th>\n",
              "      <th>สุด</th>\n",
              "      <th>ใน</th>\n",
              "      <th>โลก</th>\n",
              "      <th>...</th>\n",
              "      <th>บิ้วท์</th>\n",
              "      <th>sit</th>\n",
              "      <th>tobeno</th>\n",
              "      <th>pak</th>\n",
              "      <th>บวง</th>\n",
              "      <th>tnt</th>\n",
              "      <th>ชนะใจ</th>\n",
              "      <th>า😊</th>\n",
              "      <th>ลดราวาศอก</th>\n",
              "      <th>ผิดพวก</th>\n",
              "    </tr>\n",
              "  </thead>\n",
              "  <tbody>\n",
              "    <tr>\n",
              "      <th>0</th>\n",
              "      <td>0.0</td>\n",
              "      <td>0.0</td>\n",
              "      <td>0.0</td>\n",
              "      <td>0.0</td>\n",
              "      <td>0.0</td>\n",
              "      <td>0.000000</td>\n",
              "      <td>0.0</td>\n",
              "      <td>0.0</td>\n",
              "      <td>0.0</td>\n",
              "      <td>0.0</td>\n",
              "      <td>...</td>\n",
              "      <td>0.0</td>\n",
              "      <td>0.0</td>\n",
              "      <td>0.0</td>\n",
              "      <td>0.0</td>\n",
              "      <td>0.0</td>\n",
              "      <td>0.0</td>\n",
              "      <td>0.0</td>\n",
              "      <td>0.0</td>\n",
              "      <td>0.0</td>\n",
              "      <td>0.0</td>\n",
              "    </tr>\n",
              "    <tr>\n",
              "      <th>1</th>\n",
              "      <td>0.0</td>\n",
              "      <td>0.0</td>\n",
              "      <td>0.0</td>\n",
              "      <td>0.0</td>\n",
              "      <td>0.0</td>\n",
              "      <td>0.000000</td>\n",
              "      <td>0.0</td>\n",
              "      <td>0.0</td>\n",
              "      <td>0.0</td>\n",
              "      <td>0.0</td>\n",
              "      <td>...</td>\n",
              "      <td>0.0</td>\n",
              "      <td>0.0</td>\n",
              "      <td>0.0</td>\n",
              "      <td>0.0</td>\n",
              "      <td>0.0</td>\n",
              "      <td>0.0</td>\n",
              "      <td>0.0</td>\n",
              "      <td>0.0</td>\n",
              "      <td>0.0</td>\n",
              "      <td>0.0</td>\n",
              "    </tr>\n",
              "    <tr>\n",
              "      <th>2</th>\n",
              "      <td>0.0</td>\n",
              "      <td>0.0</td>\n",
              "      <td>0.0</td>\n",
              "      <td>0.0</td>\n",
              "      <td>0.0</td>\n",
              "      <td>0.000000</td>\n",
              "      <td>0.0</td>\n",
              "      <td>0.0</td>\n",
              "      <td>0.0</td>\n",
              "      <td>0.0</td>\n",
              "      <td>...</td>\n",
              "      <td>0.0</td>\n",
              "      <td>0.0</td>\n",
              "      <td>0.0</td>\n",
              "      <td>0.0</td>\n",
              "      <td>0.0</td>\n",
              "      <td>0.0</td>\n",
              "      <td>0.0</td>\n",
              "      <td>0.0</td>\n",
              "      <td>0.0</td>\n",
              "      <td>0.0</td>\n",
              "    </tr>\n",
              "    <tr>\n",
              "      <th>3</th>\n",
              "      <td>0.0</td>\n",
              "      <td>0.0</td>\n",
              "      <td>0.0</td>\n",
              "      <td>0.0</td>\n",
              "      <td>0.0</td>\n",
              "      <td>0.000000</td>\n",
              "      <td>0.0</td>\n",
              "      <td>0.0</td>\n",
              "      <td>0.0</td>\n",
              "      <td>0.0</td>\n",
              "      <td>...</td>\n",
              "      <td>0.0</td>\n",
              "      <td>0.0</td>\n",
              "      <td>0.0</td>\n",
              "      <td>0.0</td>\n",
              "      <td>0.0</td>\n",
              "      <td>0.0</td>\n",
              "      <td>0.0</td>\n",
              "      <td>0.0</td>\n",
              "      <td>0.0</td>\n",
              "      <td>0.0</td>\n",
              "    </tr>\n",
              "    <tr>\n",
              "      <th>4</th>\n",
              "      <td>0.0</td>\n",
              "      <td>0.0</td>\n",
              "      <td>0.0</td>\n",
              "      <td>0.0</td>\n",
              "      <td>0.0</td>\n",
              "      <td>0.183858</td>\n",
              "      <td>0.0</td>\n",
              "      <td>0.0</td>\n",
              "      <td>0.0</td>\n",
              "      <td>0.0</td>\n",
              "      <td>...</td>\n",
              "      <td>0.0</td>\n",
              "      <td>0.0</td>\n",
              "      <td>0.0</td>\n",
              "      <td>0.0</td>\n",
              "      <td>0.0</td>\n",
              "      <td>0.0</td>\n",
              "      <td>0.0</td>\n",
              "      <td>0.0</td>\n",
              "      <td>0.0</td>\n",
              "      <td>0.0</td>\n",
              "    </tr>\n",
              "    <tr>\n",
              "      <th>...</th>\n",
              "      <td>...</td>\n",
              "      <td>...</td>\n",
              "      <td>...</td>\n",
              "      <td>...</td>\n",
              "      <td>...</td>\n",
              "      <td>...</td>\n",
              "      <td>...</td>\n",
              "      <td>...</td>\n",
              "      <td>...</td>\n",
              "      <td>...</td>\n",
              "      <td>...</td>\n",
              "      <td>...</td>\n",
              "      <td>...</td>\n",
              "      <td>...</td>\n",
              "      <td>...</td>\n",
              "      <td>...</td>\n",
              "      <td>...</td>\n",
              "      <td>...</td>\n",
              "      <td>...</td>\n",
              "      <td>...</td>\n",
              "      <td>...</td>\n",
              "    </tr>\n",
              "    <tr>\n",
              "      <th>23424</th>\n",
              "      <td>0.0</td>\n",
              "      <td>0.0</td>\n",
              "      <td>0.0</td>\n",
              "      <td>0.0</td>\n",
              "      <td>0.0</td>\n",
              "      <td>0.000000</td>\n",
              "      <td>0.0</td>\n",
              "      <td>0.0</td>\n",
              "      <td>0.0</td>\n",
              "      <td>0.0</td>\n",
              "      <td>...</td>\n",
              "      <td>0.0</td>\n",
              "      <td>0.0</td>\n",
              "      <td>0.0</td>\n",
              "      <td>0.0</td>\n",
              "      <td>0.0</td>\n",
              "      <td>0.0</td>\n",
              "      <td>0.0</td>\n",
              "      <td>0.0</td>\n",
              "      <td>0.0</td>\n",
              "      <td>0.0</td>\n",
              "    </tr>\n",
              "    <tr>\n",
              "      <th>23425</th>\n",
              "      <td>0.0</td>\n",
              "      <td>0.0</td>\n",
              "      <td>0.0</td>\n",
              "      <td>0.0</td>\n",
              "      <td>0.0</td>\n",
              "      <td>0.141667</td>\n",
              "      <td>0.0</td>\n",
              "      <td>0.0</td>\n",
              "      <td>0.0</td>\n",
              "      <td>0.0</td>\n",
              "      <td>...</td>\n",
              "      <td>0.0</td>\n",
              "      <td>0.0</td>\n",
              "      <td>0.0</td>\n",
              "      <td>0.0</td>\n",
              "      <td>0.0</td>\n",
              "      <td>0.0</td>\n",
              "      <td>0.0</td>\n",
              "      <td>0.0</td>\n",
              "      <td>0.0</td>\n",
              "      <td>0.0</td>\n",
              "    </tr>\n",
              "    <tr>\n",
              "      <th>23426</th>\n",
              "      <td>0.0</td>\n",
              "      <td>0.0</td>\n",
              "      <td>0.0</td>\n",
              "      <td>0.0</td>\n",
              "      <td>0.0</td>\n",
              "      <td>0.000000</td>\n",
              "      <td>0.0</td>\n",
              "      <td>0.0</td>\n",
              "      <td>0.0</td>\n",
              "      <td>0.0</td>\n",
              "      <td>...</td>\n",
              "      <td>0.0</td>\n",
              "      <td>0.0</td>\n",
              "      <td>0.0</td>\n",
              "      <td>0.0</td>\n",
              "      <td>0.0</td>\n",
              "      <td>0.0</td>\n",
              "      <td>0.0</td>\n",
              "      <td>0.0</td>\n",
              "      <td>0.0</td>\n",
              "      <td>0.0</td>\n",
              "    </tr>\n",
              "    <tr>\n",
              "      <th>23427</th>\n",
              "      <td>0.0</td>\n",
              "      <td>0.0</td>\n",
              "      <td>0.0</td>\n",
              "      <td>0.0</td>\n",
              "      <td>0.0</td>\n",
              "      <td>0.000000</td>\n",
              "      <td>0.0</td>\n",
              "      <td>0.0</td>\n",
              "      <td>0.0</td>\n",
              "      <td>0.0</td>\n",
              "      <td>...</td>\n",
              "      <td>0.0</td>\n",
              "      <td>0.0</td>\n",
              "      <td>0.0</td>\n",
              "      <td>0.0</td>\n",
              "      <td>0.0</td>\n",
              "      <td>0.0</td>\n",
              "      <td>0.0</td>\n",
              "      <td>0.0</td>\n",
              "      <td>0.0</td>\n",
              "      <td>0.0</td>\n",
              "    </tr>\n",
              "    <tr>\n",
              "      <th>23428</th>\n",
              "      <td>0.0</td>\n",
              "      <td>0.0</td>\n",
              "      <td>0.0</td>\n",
              "      <td>0.0</td>\n",
              "      <td>0.0</td>\n",
              "      <td>0.243627</td>\n",
              "      <td>0.0</td>\n",
              "      <td>0.0</td>\n",
              "      <td>0.0</td>\n",
              "      <td>0.0</td>\n",
              "      <td>...</td>\n",
              "      <td>0.0</td>\n",
              "      <td>0.0</td>\n",
              "      <td>0.0</td>\n",
              "      <td>0.0</td>\n",
              "      <td>0.0</td>\n",
              "      <td>0.0</td>\n",
              "      <td>0.0</td>\n",
              "      <td>0.0</td>\n",
              "      <td>0.0</td>\n",
              "      <td>0.0</td>\n",
              "    </tr>\n",
              "  </tbody>\n",
              "</table>\n",
              "<p>23429 rows × 26528 columns</p>\n",
              "</div>\n",
              "      <button class=\"colab-df-convert\" onclick=\"convertToInteractive('df-89312eb2-13e0-4658-84ac-5a19cdf07928')\"\n",
              "              title=\"Convert this dataframe to an interactive table.\"\n",
              "              style=\"display:none;\">\n",
              "        \n",
              "  <svg xmlns=\"http://www.w3.org/2000/svg\" height=\"24px\"viewBox=\"0 0 24 24\"\n",
              "       width=\"24px\">\n",
              "    <path d=\"M0 0h24v24H0V0z\" fill=\"none\"/>\n",
              "    <path d=\"M18.56 5.44l.94 2.06.94-2.06 2.06-.94-2.06-.94-.94-2.06-.94 2.06-2.06.94zm-11 1L8.5 8.5l.94-2.06 2.06-.94-2.06-.94L8.5 2.5l-.94 2.06-2.06.94zm10 10l.94 2.06.94-2.06 2.06-.94-2.06-.94-.94-2.06-.94 2.06-2.06.94z\"/><path d=\"M17.41 7.96l-1.37-1.37c-.4-.4-.92-.59-1.43-.59-.52 0-1.04.2-1.43.59L10.3 9.45l-7.72 7.72c-.78.78-.78 2.05 0 2.83L4 21.41c.39.39.9.59 1.41.59.51 0 1.02-.2 1.41-.59l7.78-7.78 2.81-2.81c.8-.78.8-2.07 0-2.86zM5.41 20L4 18.59l7.72-7.72 1.47 1.35L5.41 20z\"/>\n",
              "  </svg>\n",
              "      </button>\n",
              "      \n",
              "  <style>\n",
              "    .colab-df-container {\n",
              "      display:flex;\n",
              "      flex-wrap:wrap;\n",
              "      gap: 12px;\n",
              "    }\n",
              "\n",
              "    .colab-df-convert {\n",
              "      background-color: #E8F0FE;\n",
              "      border: none;\n",
              "      border-radius: 50%;\n",
              "      cursor: pointer;\n",
              "      display: none;\n",
              "      fill: #1967D2;\n",
              "      height: 32px;\n",
              "      padding: 0 0 0 0;\n",
              "      width: 32px;\n",
              "    }\n",
              "\n",
              "    .colab-df-convert:hover {\n",
              "      background-color: #E2EBFA;\n",
              "      box-shadow: 0px 1px 2px rgba(60, 64, 67, 0.3), 0px 1px 3px 1px rgba(60, 64, 67, 0.15);\n",
              "      fill: #174EA6;\n",
              "    }\n",
              "\n",
              "    [theme=dark] .colab-df-convert {\n",
              "      background-color: #3B4455;\n",
              "      fill: #D2E3FC;\n",
              "    }\n",
              "\n",
              "    [theme=dark] .colab-df-convert:hover {\n",
              "      background-color: #434B5C;\n",
              "      box-shadow: 0px 1px 3px 1px rgba(0, 0, 0, 0.15);\n",
              "      filter: drop-shadow(0px 1px 2px rgba(0, 0, 0, 0.3));\n",
              "      fill: #FFFFFF;\n",
              "    }\n",
              "  </style>\n",
              "\n",
              "      <script>\n",
              "        const buttonEl =\n",
              "          document.querySelector('#df-89312eb2-13e0-4658-84ac-5a19cdf07928 button.colab-df-convert');\n",
              "        buttonEl.style.display =\n",
              "          google.colab.kernel.accessAllowed ? 'block' : 'none';\n",
              "\n",
              "        async function convertToInteractive(key) {\n",
              "          const element = document.querySelector('#df-89312eb2-13e0-4658-84ac-5a19cdf07928');\n",
              "          const dataTable =\n",
              "            await google.colab.kernel.invokeFunction('convertToInteractive',\n",
              "                                                     [key], {});\n",
              "          if (!dataTable) return;\n",
              "\n",
              "          const docLinkHtml = 'Like what you see? Visit the ' +\n",
              "            '<a target=\"_blank\" href=https://colab.research.google.com/notebooks/data_table.ipynb>data table notebook</a>'\n",
              "            + ' to learn more about interactive tables.';\n",
              "          element.innerHTML = '';\n",
              "          dataTable['output_type'] = 'display_data';\n",
              "          await google.colab.output.renderOutput(dataTable, element);\n",
              "          const docLink = document.createElement('div');\n",
              "          docLink.innerHTML = docLinkHtml;\n",
              "          element.appendChild(docLink);\n",
              "        }\n",
              "      </script>\n",
              "    </div>\n",
              "  </div>\n",
              "  "
            ]
          },
          "metadata": {},
          "execution_count": 115
        }
      ]
    },
    {
      "cell_type": "markdown",
      "source": [
        "# supervised Machine Learning in NLP"
      ],
      "metadata": {
        "id": "7Y4Ua1NgF2G4"
      }
    },
    {
      "cell_type": "markdown",
      "source": [
        "text classification"
      ],
      "metadata": {
        "id": "M78T4ilgF8th"
      }
    },
    {
      "cell_type": "code",
      "source": [
        "from sklearn.model_selection import train_test_split\n",
        "from sklearn.feature_extraction.text import CountVectorizer\n",
        "from sklearn.feature_extraction.text import TfidfTransformer\n",
        "from sklearn.naive_bayes import MultinomialNB\n",
        "\n",
        "X_train, X_test, y_train, y_test = train_test_split(df_train['text'], df_train['label'], random_state = 0)\n",
        "count_vect = CountVectorizer()\n",
        "X_train_counts = count_vect.fit_transform(X_train)\n",
        "tfidf_transformer = TfidfTransformer()\n",
        "X_train_tfidf = tfidf_transformer.fit_transform(X_train_counts)\n",
        "clf = MultinomialNB().fit(X_train_tfidf, y_train)\n"
      ],
      "metadata": {
        "id": "sbMOsuHvF0BV"
      },
      "execution_count": 116,
      "outputs": []
    },
    {
      "cell_type": "code",
      "source": [
        "from sklearn.linear_model import LogisticRegression #\n",
        "from sklearn.ensemble import RandomForestClassifier\n",
        "from sklearn.svm import LinearSVC\n",
        "from sklearn.model_selection import cross_val_score\n",
        "import matplotlib.pyplot as plt\n",
        "import seaborn as sns\n",
        "\n",
        "models1 = [\n",
        "    RandomForestClassifier(n_estimators = 200, max_depth = 3, random_state = 0),\n",
        "    LinearSVC(random_state = 0),\n",
        "    MultinomialNB(),\n",
        "    LogisticRegression(random_state = 0)#\n",
        "]\n",
        "CV = 10\n",
        "cv_df = pd.DataFrame(index = range(CV * len(models1)))\n",
        "entries = []\n",
        "for model in models1:\n",
        "  model_name = model.__class__.__name__\n",
        "  accuracies = cross_val_score(model, count_vec.transform(df_test['text']), df_test['label'], scoring = 'accuracy', cv = CV)\n",
        "  for fold_idx, accuracy in enumerate(accuracies):\n",
        "    entries.append((model_name, fold_idx, accuracy))\n",
        "cv_df = pd.DataFrame(entries, columns=['model_name','fold_idx', 'accuracy'])\n",
        "\n",
        "sns.boxplot(x='model_name', y='accuracy', data= cv_df)\n",
        "sns.stripplot (x='model_name', y='accuracy', data= cv_df, size = 8, jitter = True, edgecolor = \"gray\", linewidth = 2)\n",
        "plt.show()\n"
      ],
      "metadata": {
        "colab": {
          "base_uri": "https://localhost:8080/",
          "height": 1000
        },
        "id": "gBKENiyFHo6z",
        "outputId": "fb16e457-f2ee-442d-c04f-dcd135de02fb"
      },
      "execution_count": 117,
      "outputs": [
        {
          "output_type": "stream",
          "name": "stderr",
          "text": [
            "/usr/local/lib/python3.10/dist-packages/sklearn/svm/_base.py:1244: ConvergenceWarning: Liblinear failed to converge, increase the number of iterations.\n",
            "  warnings.warn(\n",
            "/usr/local/lib/python3.10/dist-packages/sklearn/svm/_base.py:1244: ConvergenceWarning: Liblinear failed to converge, increase the number of iterations.\n",
            "  warnings.warn(\n",
            "/usr/local/lib/python3.10/dist-packages/sklearn/svm/_base.py:1244: ConvergenceWarning: Liblinear failed to converge, increase the number of iterations.\n",
            "  warnings.warn(\n",
            "/usr/local/lib/python3.10/dist-packages/sklearn/svm/_base.py:1244: ConvergenceWarning: Liblinear failed to converge, increase the number of iterations.\n",
            "  warnings.warn(\n",
            "/usr/local/lib/python3.10/dist-packages/sklearn/svm/_base.py:1244: ConvergenceWarning: Liblinear failed to converge, increase the number of iterations.\n",
            "  warnings.warn(\n",
            "/usr/local/lib/python3.10/dist-packages/sklearn/svm/_base.py:1244: ConvergenceWarning: Liblinear failed to converge, increase the number of iterations.\n",
            "  warnings.warn(\n",
            "/usr/local/lib/python3.10/dist-packages/sklearn/svm/_base.py:1244: ConvergenceWarning: Liblinear failed to converge, increase the number of iterations.\n",
            "  warnings.warn(\n",
            "/usr/local/lib/python3.10/dist-packages/sklearn/svm/_base.py:1244: ConvergenceWarning: Liblinear failed to converge, increase the number of iterations.\n",
            "  warnings.warn(\n",
            "/usr/local/lib/python3.10/dist-packages/sklearn/svm/_base.py:1244: ConvergenceWarning: Liblinear failed to converge, increase the number of iterations.\n",
            "  warnings.warn(\n",
            "/usr/local/lib/python3.10/dist-packages/sklearn/linear_model/_logistic.py:458: ConvergenceWarning: lbfgs failed to converge (status=1):\n",
            "STOP: TOTAL NO. of ITERATIONS REACHED LIMIT.\n",
            "\n",
            "Increase the number of iterations (max_iter) or scale the data as shown in:\n",
            "    https://scikit-learn.org/stable/modules/preprocessing.html\n",
            "Please also refer to the documentation for alternative solver options:\n",
            "    https://scikit-learn.org/stable/modules/linear_model.html#logistic-regression\n",
            "  n_iter_i = _check_optimize_result(\n",
            "/usr/local/lib/python3.10/dist-packages/sklearn/linear_model/_logistic.py:458: ConvergenceWarning: lbfgs failed to converge (status=1):\n",
            "STOP: TOTAL NO. of ITERATIONS REACHED LIMIT.\n",
            "\n",
            "Increase the number of iterations (max_iter) or scale the data as shown in:\n",
            "    https://scikit-learn.org/stable/modules/preprocessing.html\n",
            "Please also refer to the documentation for alternative solver options:\n",
            "    https://scikit-learn.org/stable/modules/linear_model.html#logistic-regression\n",
            "  n_iter_i = _check_optimize_result(\n",
            "/usr/local/lib/python3.10/dist-packages/sklearn/linear_model/_logistic.py:458: ConvergenceWarning: lbfgs failed to converge (status=1):\n",
            "STOP: TOTAL NO. of ITERATIONS REACHED LIMIT.\n",
            "\n",
            "Increase the number of iterations (max_iter) or scale the data as shown in:\n",
            "    https://scikit-learn.org/stable/modules/preprocessing.html\n",
            "Please also refer to the documentation for alternative solver options:\n",
            "    https://scikit-learn.org/stable/modules/linear_model.html#logistic-regression\n",
            "  n_iter_i = _check_optimize_result(\n",
            "/usr/local/lib/python3.10/dist-packages/sklearn/linear_model/_logistic.py:458: ConvergenceWarning: lbfgs failed to converge (status=1):\n",
            "STOP: TOTAL NO. of ITERATIONS REACHED LIMIT.\n",
            "\n",
            "Increase the number of iterations (max_iter) or scale the data as shown in:\n",
            "    https://scikit-learn.org/stable/modules/preprocessing.html\n",
            "Please also refer to the documentation for alternative solver options:\n",
            "    https://scikit-learn.org/stable/modules/linear_model.html#logistic-regression\n",
            "  n_iter_i = _check_optimize_result(\n",
            "/usr/local/lib/python3.10/dist-packages/sklearn/linear_model/_logistic.py:458: ConvergenceWarning: lbfgs failed to converge (status=1):\n",
            "STOP: TOTAL NO. of ITERATIONS REACHED LIMIT.\n",
            "\n",
            "Increase the number of iterations (max_iter) or scale the data as shown in:\n",
            "    https://scikit-learn.org/stable/modules/preprocessing.html\n",
            "Please also refer to the documentation for alternative solver options:\n",
            "    https://scikit-learn.org/stable/modules/linear_model.html#logistic-regression\n",
            "  n_iter_i = _check_optimize_result(\n",
            "/usr/local/lib/python3.10/dist-packages/sklearn/linear_model/_logistic.py:458: ConvergenceWarning: lbfgs failed to converge (status=1):\n",
            "STOP: TOTAL NO. of ITERATIONS REACHED LIMIT.\n",
            "\n",
            "Increase the number of iterations (max_iter) or scale the data as shown in:\n",
            "    https://scikit-learn.org/stable/modules/preprocessing.html\n",
            "Please also refer to the documentation for alternative solver options:\n",
            "    https://scikit-learn.org/stable/modules/linear_model.html#logistic-regression\n",
            "  n_iter_i = _check_optimize_result(\n",
            "/usr/local/lib/python3.10/dist-packages/sklearn/linear_model/_logistic.py:458: ConvergenceWarning: lbfgs failed to converge (status=1):\n",
            "STOP: TOTAL NO. of ITERATIONS REACHED LIMIT.\n",
            "\n",
            "Increase the number of iterations (max_iter) or scale the data as shown in:\n",
            "    https://scikit-learn.org/stable/modules/preprocessing.html\n",
            "Please also refer to the documentation for alternative solver options:\n",
            "    https://scikit-learn.org/stable/modules/linear_model.html#logistic-regression\n",
            "  n_iter_i = _check_optimize_result(\n",
            "/usr/local/lib/python3.10/dist-packages/sklearn/linear_model/_logistic.py:458: ConvergenceWarning: lbfgs failed to converge (status=1):\n",
            "STOP: TOTAL NO. of ITERATIONS REACHED LIMIT.\n",
            "\n",
            "Increase the number of iterations (max_iter) or scale the data as shown in:\n",
            "    https://scikit-learn.org/stable/modules/preprocessing.html\n",
            "Please also refer to the documentation for alternative solver options:\n",
            "    https://scikit-learn.org/stable/modules/linear_model.html#logistic-regression\n",
            "  n_iter_i = _check_optimize_result(\n"
          ]
        },
        {
          "output_type": "display_data",
          "data": {
            "text/plain": [
              "<Figure size 640x480 with 1 Axes>"
            ],
            "image/png": "[encoded data removed]"
          },
          "metadata": {}
        }
      ]
    },
    {
      "cell_type": "markdown",
      "source": [
        "ดู accuracy โดยรวมของทุกๆ model"
      ],
      "metadata": {
        "id": "8QNYyo46MTE2"
      }
    },
    {
      "cell_type": "code",
      "source": [
        "cv_df.groupby('model_name').accuracy.mean().sort_values(ascending = False)\n"
      ],
      "metadata": {
        "colab": {
          "base_uri": "https://localhost:8080/"
        },
        "id": "4TaiexeGMS32",
        "outputId": "fac14ff2-8be4-4354-bdec-530ffdea08b8"
      },
      "execution_count": 118,
      "outputs": [
        {
          "output_type": "execute_result",
          "data": {
            "text/plain": [
              "model_name\n",
              "RandomForestClassifier    0.544341\n",
              "MultinomialNB             0.541263\n",
              "LogisticRegression        0.454106\n",
              "LinearSVC                 0.398453\n",
              "Name: accuracy, dtype: float64"
            ]
          },
          "metadata": {},
          "execution_count": 118
        }
      ]
    },
    {
      "cell_type": "code",
      "source": [
        "from sklearn.svm import LinearSVC\n",
        "import matplotlib.pyplot as plt\n",
        "from sklearn.metrics import confusion_matrix\n",
        "import seaborn as sns\n",
        "\n",
        "model = LinearSVC(random_state = 0)\n",
        "\n",
        "model.fit(tfidf_vec, df_train.label)\n",
        "\n",
        "X_test = count_vec.transform(df_test['text'])\n",
        "\n",
        "y_pred = model.predict(X_test)\n",
        "y_test = df_test.label\n",
        "conf_mat = confusion_matrix(y_test, y_pred)\n",
        "fig, ax = plt.subplots(figsize = (10,10))\n",
        "label_name = list(df_train.label.unique())\n",
        "\n",
        "sns.heatmap(conf_mat, annot = True, fmt = 'd', vmin = 0, vmax = 500, xticklabels= label_name, yticklabels= label_name)\n",
        "plt.ylabel('Actual')\n",
        "plt.xlabel('Predicted')\n",
        "plt.show()"
      ],
      "metadata": {
        "colab": {
          "base_uri": "https://localhost:8080/",
          "height": 867
        },
        "id": "GHympH3jMpUx",
        "outputId": "32d35f2b-bfa1-43e4-dc14-ec02874f8b71"
      },
      "execution_count": 119,
      "outputs": [
        {
          "output_type": "display_data",
          "data": {
            "text/plain": [
              "<Figure size 1000x1000 with 2 Axes>"
            ],
            "image/png": "[encoded data removed]"
          },
          "metadata": {}
        }
      ]
    },
    {
      "cell_type": "code",
      "source": [
        "from sklearn import metrics\n",
        "print(metrics.classification_report(df_test.label, y_pred))"
      ],
      "metadata": {
        "colab": {
          "base_uri": "https://localhost:8080/"
        },
        "id": "ypKLD2ptTf6i",
        "outputId": "c8745351-bb1d-4868-a509-92651ce461cc"
      },
      "execution_count": 120,
      "outputs": [
        {
          "output_type": "stream",
          "name": "stdout",
          "text": [
            "              precision    recall  f1-score   support\n",
            "\n",
            "         neg       0.27      0.29      0.28       665\n",
            "         neu       0.55      0.46      0.50      1418\n",
            "         pos       0.18      0.18      0.18       465\n",
            "           q       0.02      0.09      0.03        57\n",
            "\n",
            "    accuracy                           0.36      2605\n",
            "   macro avg       0.25      0.25      0.25      2605\n",
            "weighted avg       0.40      0.36      0.38      2605\n",
            "\n"
          ]
        }
      ]
    },
    {
      "cell_type": "markdown",
      "source": [
        "# Unsupervised Machine learning in NLP\n"
      ],
      "metadata": {
        "id": "tQJ2g2TNTvG6"
      }
    },
    {
      "cell_type": "code",
      "source": [
        "from sklearn.feature_extraction.text import TfidfVectorizer, CountVectorizer\n",
        "from sklearn.decomposition import NMF, LatentDirichletAllocation\n",
        "\n",
        "no_features = 1000\n",
        "\n",
        "#NMF is able to use tf-idf\n",
        "tfidf_vectorizer = TfidfVectorizer(tokenizer = pythainlp.tokenize.word_tokenize, max_df=0.95, min_df=2, max_features=no_features, stop_words='english')\n",
        "tfidf = tfidf_vectorizer.fit_transform(df_train.text)\n",
        "tfidf_feature_names = tfidf_vectorizer.get_feature_names_out()\n",
        "\n",
        "\n",
        "\n",
        "# LDA can only use raw term counts for LDA because it is a probabilistic graphical model\n",
        "tf_vectorizer = CountVectorizer(tokenizer = pythainlp.tokenize.word_tokenize, max_df=0.95, min_df=2, max_features=no_features, stop_words='english')\n",
        "tf = tf_vectorizer.fit_transform(df_train.text)\n",
        "tf_feature_names = tf_vectorizer.get_feature_names_out()\n",
        "\n",
        "\n",
        "no_topics = 20\n",
        "nmf = NMF(n_components=no_topics, random_state=1, l1_ratio=.5, init='nndsvd').fit(tfidf)\n",
        "lda = LatentDirichletAllocation(n_components=no_topics, max_iter=5, learning_method='online', learning_offset=50.,random_state=0).fit(tf)"
      ],
      "metadata": {
        "colab": {
          "base_uri": "https://localhost:8080/"
        },
        "id": "uJrGqpj-Tuq7",
        "outputId": "65f138c6-cca6-40f9-ef18-f3f30c526b4f"
      },
      "execution_count": 121,
      "outputs": [
        {
          "output_type": "stream",
          "name": "stderr",
          "text": [
            "/usr/local/lib/python3.10/dist-packages/sklearn/feature_extraction/text.py:528: UserWarning: The parameter 'token_pattern' will not be used since 'tokenizer' is not None'\n",
            "  warnings.warn(\n"
          ]
        }
      ]
    },
    {
      "cell_type": "code",
      "source": [
        "def display_topics(model, feature_names, no_top_words):\n",
        "    for topic_idx, topic in enumerate(model.components_):\n",
        "        print(\"Topic {}:\".format(topic_idx))\n",
        "        print(\" \".join([feature_names[i] for i in topic.argsort()[:-no_top_words - 1:-1]]))\n",
        "\n",
        "\n",
        "no_top_words = 10\n"
      ],
      "metadata": {
        "id": "cW3SglRwUji_"
      },
      "execution_count": 122,
      "outputs": []
    },
    {
      "cell_type": "code",
      "source": [
        "display_topics(nmf, tfidf_feature_names, no_top_words)"
      ],
      "metadata": {
        "colab": {
          "base_uri": "https://localhost:8080/"
        },
        "id": "dmKCo6J-aC58",
        "outputId": "a21a5065-7cda-41a2-fc11-3bc368671e86"
      },
      "execution_count": 123,
      "outputs": [
        {
          "output_type": "stream",
          "name": "stdout",
          "text": [
            "Topic 0:\n",
            "  - ใน 2 ( ) และ ที่ 3 กับ\n",
            "Topic 1:\n",
            "จะ ก็ ที่ มัน ว่า เป็น ให้ ได้ แต่ ของ\n",
            "Topic 2:\n",
            "กิน ลีโอ เค จะ เอ็ม พา 5555 ช้าง นน mk\n",
            "Topic 3:\n",
            "ไป พา กัน หน่อย กินกัน ไหน ด้วย ก่อน เอา หมด\n",
            "Topic 4:\n",
            "# ! สวย ท้า   ที่ กัน แป้ง ดี แดด\n",
            "Topic 5:\n",
            "ครับ ผม ขอ สู้ มาสด้า รถ นิสสัน หน่อย เท่าไหร่ ร่า\n",
            "Topic 6:\n",
            "ค่ะ ^^ สาขา ขอ นะคะ ร่วม มาก รายการ โลตัส ลูกค้า\n",
            "Topic 7:\n",
            "เบียร์ ช้าง สิงห์ ลีโอ ขวด แดก ยู พี่ ละ ดื่ม\n",
            "Topic 8:\n",
            "ๆ มาก สู้ กัน คับ พี่ ดี สุด ชอบ เฉย\n",
            "Topic 9:\n",
            "เลย มาก หิว นี้ เห็น ยัง ยย เหมือน นี่ จ้า\n",
            "Topic 10:\n",
            "มี สาขา มั้ย ที่ บ้าง โปร ไหน ตัง แต่ ด้วย\n",
            "Topic 11:\n",
            "อยาก กก จัง ลอง อ่ะ ให้ แดก กู เค้า ก\n",
            "Topic 12:\n",
            "นะ ด้วย คับ รอ นี้ ก่อน คร้าบ ขอ แต่ ดี\n",
            "Topic 13:\n",
            "ไม่ ได้ ยัง ใช่ แต่ ชอบ อ่ะ อร่อย เคย เอา\n",
            "Topic 14:\n",
            "555 เลี้ยง หิว แดก สิ ตัง มึง + ก่อน กว่า\n",
            "Topic 15:\n",
            ". / :// https www com th - http =\n",
            "Topic 16:\n",
            "ไหม คะ มั้ย ได้ คับ เท่าไหร่ ? ขอ ดี นี้\n",
            "Topic 17:\n",
            "จัด ต้อง 5555 นี้ วัน ให้ สิ ดิ วันนี้ มั้ย\n",
            "Topic 18:\n",
            "ก้อน บาบี พี่ น เลี้ยง บา บิ บี คร้าบ หมู\n",
            "Topic 19:\n",
            "มา แล้ว เอา กก ลอง รอ ซื้อ หมด วัน กัน\n"
          ]
        }
      ]
    },
    {
      "cell_type": "markdown",
      "source": [
        "# Text visualization"
      ],
      "metadata": {
        "id": "8cG8U38vEfUv"
      }
    },
    {
      "cell_type": "code",
      "source": [
        "!wget https://raw.githubusercontent.com/JagerV3/sentiment_analysis_thai/master/trainingdataset/burgerking-UTF8-traindataset-1.csv\n",
        "!wget https://raw.githubusercontent.com/JagerV3/sentiment_analysis_thai/master/trainingdataset/burgerking-UTF8-traindataset-2.csv\n",
        "!wget https://raw.githubusercontent.com/JagerV3/sentiment_analysis_thai/master/trainingdataset/burgerking-UTF8-traindataset-3.csv\n",
        "\n",
        "!pip install pythainlp[full]"
      ],
      "metadata": {
        "colab": {
          "base_uri": "https://localhost:8080/"
        },
        "id": "yzO0-ZlSEkIF",
        "outputId": "beedc477-7867-4138-f410-fb5325616a94"
      },
      "execution_count": 124,
      "outputs": [
        {
          "output_type": "stream",
          "name": "stdout",
          "text": [
            "--2023-06-29 03:59:52--  https://raw.githubusercontent.com/JagerV3/sentiment_analysis_thai/master/trainingdataset/burgerking-UTF8-traindataset-1.csv\n",
            "Resolving raw.githubusercontent.com (raw.githubusercontent.com)... 185.199.108.133, 185.199.109.133, 185.199.110.133, ...\n",
            "Connecting to raw.githubusercontent.com (raw.githubusercontent.com)|185.199.108.133|:443... connected.\n",
            "HTTP request sent, awaiting response... 200 OK\n",
            "Length: 19609 (19K) [text/plain]\n",
            "Saving to: ‘burgerking-UTF8-traindataset-1.csv.1’\n",
            "\n",
            "burgerking-UTF8-tra 100%[===================>]  19.15K  --.-KB/s    in 0.002s  \n",
            "\n",
            "2023-06-29 03:59:52 (10.8 MB/s) - ‘burgerking-UTF8-traindataset-1.csv.1’ saved [19609/19609]\n",
            "\n",
            "--2023-06-29 03:59:52--  https://raw.githubusercontent.com/JagerV3/sentiment_analysis_thai/master/trainingdataset/burgerking-UTF8-traindataset-2.csv\n",
            "Resolving raw.githubusercontent.com (raw.githubusercontent.com)... 185.199.108.133, 185.199.110.133, 185.199.109.133, ...\n",
            "Connecting to raw.githubusercontent.com (raw.githubusercontent.com)|185.199.108.133|:443... connected.\n",
            "HTTP request sent, awaiting response... 200 OK\n",
            "Length: 24962 (24K) [text/plain]\n",
            "Saving to: ‘burgerking-UTF8-traindataset-2.csv.1’\n",
            "\n",
            "burgerking-UTF8-tra 100%[===================>]  24.38K  --.-KB/s    in 0.002s  \n",
            "\n",
            "2023-06-29 03:59:52 (15.4 MB/s) - ‘burgerking-UTF8-traindataset-2.csv.1’ saved [24962/24962]\n",
            "\n",
            "--2023-06-29 03:59:52--  https://raw.githubusercontent.com/JagerV3/sentiment_analysis_thai/master/trainingdataset/burgerking-UTF8-traindataset-3.csv\n",
            "Resolving raw.githubusercontent.com (raw.githubusercontent.com)... 185.199.108.133, 185.199.109.133, 185.199.110.133, ...\n",
            "Connecting to raw.githubusercontent.com (raw.githubusercontent.com)|185.199.108.133|:443... connected.\n",
            "HTTP request sent, awaiting response... 200 OK\n",
            "Length: 31895 (31K) [text/plain]\n",
            "Saving to: ‘burgerking-UTF8-traindataset-3.csv.1’\n",
            "\n",
            "burgerking-UTF8-tra 100%[===================>]  31.15K  --.-KB/s    in 0.002s  \n",
            "\n",
            "2023-06-29 03:59:52 (12.7 MB/s) - ‘burgerking-UTF8-traindataset-3.csv.1’ saved [31895/31895]\n",
            "\n",
            "Requirement already satisfied: pythainlp[full] in /usr/local/lib/python3.10/dist-packages (4.0.2)\n",
            "Requirement already satisfied: requests>=2.22.0 in /usr/local/lib/python3.10/dist-packages (from pythainlp[full]) (2.27.1)\n",
            "Requirement already satisfied: PyYAML>=5.3.1 in /usr/local/lib/python3.10/dist-packages (from pythainlp[full]) (6.0)\n",
            "Requirement already satisfied: attacut>=1.0.4 in /usr/local/lib/python3.10/dist-packages (from pythainlp[full]) (1.0.6)\n",
            "Requirement already satisfied: emoji>=0.5.1 in /usr/local/lib/python3.10/dist-packages (from pythainlp[full]) (2.6.0)\n",
            "Requirement already satisfied: epitran>=1.1 in /usr/local/lib/python3.10/dist-packages (from pythainlp[full]) (1.24)\n",
            "Requirement already satisfied: fairseq>=0.10.0 in /usr/local/lib/python3.10/dist-packages (from pythainlp[full]) (0.12.2)\n",
            "Requirement already satisfied: gensim>=4.0.0 in /usr/local/lib/python3.10/dist-packages (from pythainlp[full]) (4.3.1)\n",
            "Requirement already satisfied: nltk>=3.3 in /usr/local/lib/python3.10/dist-packages (from pythainlp[full]) (3.8.1)\n",
            "Requirement already satisfied: numpy>=1.22 in /usr/local/lib/python3.10/dist-packages (from pythainlp[full]) (1.22.4)\n",
            "Requirement already satisfied: pandas>=0.24 in /usr/local/lib/python3.10/dist-packages (from pythainlp[full]) (1.5.3)\n",
            "Requirement already satisfied: pyicu>=2.3 in /usr/local/lib/python3.10/dist-packages (from pythainlp[full]) (2.11)\n",
            "Requirement already satisfied: sacremoses>=0.0.41 in /usr/local/lib/python3.10/dist-packages (from pythainlp[full]) (0.0.53)\n",
            "Requirement already satisfied: sentencepiece>=0.1.91 in /usr/local/lib/python3.10/dist-packages (from pythainlp[full]) (0.1.99)\n",
            "Requirement already satisfied: ssg>=0.0.8 in /usr/local/lib/python3.10/dist-packages (from pythainlp[full]) (0.0.8)\n",
            "Requirement already satisfied: torch>=1.0.0 in /usr/local/lib/python3.10/dist-packages (from pythainlp[full]) (2.0.1+cu118)\n",
            "Requirement already satisfied: fastai<2.0 in /usr/local/lib/python3.10/dist-packages (from pythainlp[full]) (1.0.61)\n",
            "Requirement already satisfied: bpemb>=0.3.2 in /usr/local/lib/python3.10/dist-packages (from pythainlp[full]) (0.3.4)\n",
            "Requirement already satisfied: transformers>=4.22.1 in /usr/local/lib/python3.10/dist-packages (from pythainlp[full]) (4.30.2)\n",
            "Requirement already satisfied: sefr-cut>=1.1 in /usr/local/lib/python3.10/dist-packages (from pythainlp[full]) (1.1)\n",
            "Requirement already satisfied: phunspell>=0.1.6 in /usr/local/lib/python3.10/dist-packages (from pythainlp[full]) (0.1.6)\n",
            "Requirement already satisfied: spylls>=0.1.5 in /usr/local/lib/python3.10/dist-packages (from pythainlp[full]) (0.1.7)\n",
            "Requirement already satisfied: symspellpy>=6.7.6 in /usr/local/lib/python3.10/dist-packages (from pythainlp[full]) (6.7.7)\n",
            "Requirement already satisfied: oskut>=1.3 in /usr/local/lib/python3.10/dist-packages (from pythainlp[full]) (1.3)\n",
            "Requirement already satisfied: nlpo3>=1.2.2 in /usr/local/lib/python3.10/dist-packages (from pythainlp[full]) (1.3.0)\n",
            "Requirement already satisfied: onnxruntime>=1.10.0 in /usr/local/lib/python3.10/dist-packages (from pythainlp[full]) (1.15.1)\n",
            "Requirement already satisfied: thai-nner in /usr/local/lib/python3.10/dist-packages (from pythainlp[full]) (0.3)\n",
            "Requirement already satisfied: wunsen>=0.0.3 in /usr/local/lib/python3.10/dist-packages (from pythainlp[full]) (0.0.3)\n",
            "Requirement already satisfied: spacy-thai>=0.7.1 in /usr/local/lib/python3.10/dist-packages (from pythainlp[full]) (0.7.3)\n",
            "Requirement already satisfied: ufal.chu-liu-edmonds>=1.0.2 in /usr/local/lib/python3.10/dist-packages (from pythainlp[full]) (1.0.2)\n",
            "Requirement already satisfied: docopt>=0.6.2 in /usr/local/lib/python3.10/dist-packages (from attacut>=1.0.4->pythainlp[full]) (0.6.2)\n",
            "Requirement already satisfied: fire>=0.1.3 in /usr/local/lib/python3.10/dist-packages (from attacut>=1.0.4->pythainlp[full]) (0.5.0)\n",
            "Requirement already satisfied: nptyping>=0.2.0 in /usr/local/lib/python3.10/dist-packages (from attacut>=1.0.4->pythainlp[full]) (2.5.0)\n",
            "Requirement already satisfied: six>=1.12.0 in /usr/local/lib/python3.10/dist-packages (from attacut>=1.0.4->pythainlp[full]) (1.16.0)\n",
            "Requirement already satisfied: tqdm in /usr/local/lib/python3.10/dist-packages (from bpemb>=0.3.2->pythainlp[full]) (4.65.0)\n",
            "Requirement already satisfied: setuptools in /usr/local/lib/python3.10/dist-packages (from epitran>=1.1->pythainlp[full]) (67.7.2)\n",
            "Requirement already satisfied: regex in /usr/local/lib/python3.10/dist-packages (from epitran>=1.1->pythainlp[full]) (2022.10.31)\n",
            "Requirement already satisfied: panphon>=0.20 in /usr/local/lib/python3.10/dist-packages (from epitran>=1.1->pythainlp[full]) (0.20.0)\n",
            "Requirement already satisfied: marisa-trie in /usr/local/lib/python3.10/dist-packages (from epitran>=1.1->pythainlp[full]) (0.8.0)\n",
            "Requirement already satisfied: cffi in /usr/local/lib/python3.10/dist-packages (from fairseq>=0.10.0->pythainlp[full]) (1.15.1)\n",
            "Requirement already satisfied: cython in /usr/local/lib/python3.10/dist-packages (from fairseq>=0.10.0->pythainlp[full]) (0.29.35)\n",
            "Requirement already satisfied: hydra-core<1.1,>=1.0.7 in /usr/local/lib/python3.10/dist-packages (from fairseq>=0.10.0->pythainlp[full]) (1.0.7)\n",
            "Requirement already satisfied: omegaconf<2.1 in /usr/local/lib/python3.10/dist-packages (from fairseq>=0.10.0->pythainlp[full]) (2.0.6)\n",
            "Requirement already satisfied: sacrebleu>=1.4.12 in /usr/local/lib/python3.10/dist-packages (from fairseq>=0.10.0->pythainlp[full]) (2.3.1)\n",
            "Requirement already satisfied: bitarray in /usr/local/lib/python3.10/dist-packages (from fairseq>=0.10.0->pythainlp[full]) (2.7.6)\n",
            "Requirement already satisfied: torchaudio>=0.8.0 in /usr/local/lib/python3.10/dist-packages (from fairseq>=0.10.0->pythainlp[full]) (2.0.2+cu118)\n",
            "Requirement already satisfied: bottleneck in /usr/local/lib/python3.10/dist-packages (from fastai<2.0->pythainlp[full]) (1.3.7)\n",
            "Requirement already satisfied: fastprogress>=0.2.1 in /usr/local/lib/python3.10/dist-packages (from fastai<2.0->pythainlp[full]) (1.0.3)\n",
            "Requirement already satisfied: beautifulsoup4 in /usr/local/lib/python3.10/dist-packages (from fastai<2.0->pythainlp[full]) (4.11.2)\n",
            "Requirement already satisfied: matplotlib in /usr/local/lib/python3.10/dist-packages (from fastai<2.0->pythainlp[full]) (3.7.1)\n",
            "Requirement already satisfied: numexpr in /usr/local/lib/python3.10/dist-packages (from fastai<2.0->pythainlp[full]) (2.8.4)\n",
            "Requirement already satisfied: nvidia-ml-py3 in /usr/local/lib/python3.10/dist-packages (from fastai<2.0->pythainlp[full]) (7.352.0)\n",
            "Requirement already satisfied: packaging in /usr/local/lib/python3.10/dist-packages (from fastai<2.0->pythainlp[full]) (23.1)\n",
            "Requirement already satisfied: Pillow in /usr/local/lib/python3.10/dist-packages (from fastai<2.0->pythainlp[full]) (8.4.0)\n",
            "Requirement already satisfied: scipy in /usr/local/lib/python3.10/dist-packages (from fastai<2.0->pythainlp[full]) (1.10.1)\n",
            "Requirement already satisfied: torchvision in /usr/local/lib/python3.10/dist-packages (from fastai<2.0->pythainlp[full]) (0.15.2+cu118)\n",
            "Requirement already satisfied: smart-open>=1.8.1 in /usr/local/lib/python3.10/dist-packages (from gensim>=4.0.0->pythainlp[full]) (6.3.0)\n",
            "Requirement already satisfied: click in /usr/local/lib/python3.10/dist-packages (from nltk>=3.3->pythainlp[full]) (8.1.3)\n",
            "Requirement already satisfied: joblib in /usr/local/lib/python3.10/dist-packages (from nltk>=3.3->pythainlp[full]) (1.2.0)\n",
            "Requirement already satisfied: coloredlogs in /usr/local/lib/python3.10/dist-packages (from onnxruntime>=1.10.0->pythainlp[full]) (15.0.1)\n",
            "Requirement already satisfied: flatbuffers in /usr/local/lib/python3.10/dist-packages (from onnxruntime>=1.10.0->pythainlp[full]) (23.5.26)\n",
            "Requirement already satisfied: protobuf in /usr/local/lib/python3.10/dist-packages (from onnxruntime>=1.10.0->pythainlp[full]) (3.20.3)\n",
            "Requirement already satisfied: sympy in /usr/local/lib/python3.10/dist-packages (from onnxruntime>=1.10.0->pythainlp[full]) (1.11.1)\n",
            "Requirement already satisfied: tensorflow>=2.0.0 in /usr/local/lib/python3.10/dist-packages (from oskut>=1.3->pythainlp[full]) (2.12.0)\n",
            "Requirement already satisfied: scikit-learn in /usr/local/lib/python3.10/dist-packages (from oskut>=1.3->pythainlp[full]) (1.2.2)\n",
            "Requirement already satisfied: pyahocorasick<=1.4.0 in /usr/local/lib/python3.10/dist-packages (from oskut>=1.3->pythainlp[full]) (1.4.0)\n",
            "Requirement already satisfied: python-dateutil>=2.8.1 in /usr/local/lib/python3.10/dist-packages (from pandas>=0.24->pythainlp[full]) (2.8.2)\n",
            "Requirement already satisfied: pytz>=2020.1 in /usr/local/lib/python3.10/dist-packages (from pandas>=0.24->pythainlp[full]) (2022.7.1)\n",
            "Requirement already satisfied: urllib3<1.27,>=1.21.1 in /usr/local/lib/python3.10/dist-packages (from requests>=2.22.0->pythainlp[full]) (1.26.16)\n",
            "Requirement already satisfied: certifi>=2017.4.17 in /usr/local/lib/python3.10/dist-packages (from requests>=2.22.0->pythainlp[full]) (2023.5.7)\n",
            "Requirement already satisfied: charset-normalizer~=2.0.0 in /usr/local/lib/python3.10/dist-packages (from requests>=2.22.0->pythainlp[full]) (2.0.12)\n",
            "Requirement already satisfied: idna<4,>=2.5 in /usr/local/lib/python3.10/dist-packages (from requests>=2.22.0->pythainlp[full]) (3.4)\n",
            "Requirement already satisfied: python-crfsuite in /usr/local/lib/python3.10/dist-packages (from sefr-cut>=1.1->pythainlp[full]) (0.9.9)\n",
            "Requirement already satisfied: deplacy>=2.0.3 in /usr/local/lib/python3.10/dist-packages (from spacy-thai>=0.7.1->pythainlp[full]) (2.0.5)\n",
            "Requirement already satisfied: spacy>=2.2.2 in /usr/local/lib/python3.10/dist-packages (from spacy-thai>=0.7.1->pythainlp[full]) (3.5.3)\n",
            "Requirement already satisfied: ufal.udpipe>=1.2.0 in /usr/local/lib/python3.10/dist-packages (from spacy-thai>=0.7.1->pythainlp[full]) (1.3.0.1)\n",
            "Requirement already satisfied: editdistpy>=0.1.3 in /usr/local/lib/python3.10/dist-packages (from symspellpy>=6.7.6->pythainlp[full]) (0.1.3)\n",
            "Requirement already satisfied: filelock in /usr/local/lib/python3.10/dist-packages (from torch>=1.0.0->pythainlp[full]) (3.12.2)\n",
            "Requirement already satisfied: typing-extensions in /usr/local/lib/python3.10/dist-packages (from torch>=1.0.0->pythainlp[full]) (4.6.3)\n",
            "Requirement already satisfied: networkx in /usr/local/lib/python3.10/dist-packages (from torch>=1.0.0->pythainlp[full]) (3.1)\n",
            "Requirement already satisfied: jinja2 in /usr/local/lib/python3.10/dist-packages (from torch>=1.0.0->pythainlp[full]) (3.1.2)\n",
            "Requirement already satisfied: triton==2.0.0 in /usr/local/lib/python3.10/dist-packages (from torch>=1.0.0->pythainlp[full]) (2.0.0)\n",
            "Requirement already satisfied: cmake in /usr/local/lib/python3.10/dist-packages (from triton==2.0.0->torch>=1.0.0->pythainlp[full]) (3.25.2)\n",
            "Requirement already satisfied: lit in /usr/local/lib/python3.10/dist-packages (from triton==2.0.0->torch>=1.0.0->pythainlp[full]) (16.0.6)\n",
            "Requirement already satisfied: huggingface-hub<1.0,>=0.14.1 in /usr/local/lib/python3.10/dist-packages (from transformers>=4.22.1->pythainlp[full]) (0.15.1)\n",
            "Requirement already satisfied: tokenizers!=0.11.3,<0.14,>=0.11.1 in /usr/local/lib/python3.10/dist-packages (from transformers>=4.22.1->pythainlp[full]) (0.13.3)\n",
            "Requirement already satisfied: safetensors>=0.3.1 in /usr/local/lib/python3.10/dist-packages (from transformers>=4.22.1->pythainlp[full]) (0.3.1)\n",
            "Requirement already satisfied: khanaa>=0.0.6 in /usr/local/lib/python3.10/dist-packages (from wunsen>=0.0.3->pythainlp[full]) (0.0.6)\n",
            "Requirement already satisfied: tensorboard>=1.14 in /usr/local/lib/python3.10/dist-packages (from thai-nner->pythainlp[full]) (2.12.3)\n",
            "Requirement already satisfied: termcolor in /usr/local/lib/python3.10/dist-packages (from fire>=0.1.3->attacut>=1.0.4->pythainlp[full]) (2.3.0)\n",
            "Requirement already satisfied: fsspec in /usr/local/lib/python3.10/dist-packages (from huggingface-hub<1.0,>=0.14.1->transformers>=4.22.1->pythainlp[full]) (2023.6.0)\n",
            "Requirement already satisfied: antlr4-python3-runtime==4.8 in /usr/local/lib/python3.10/dist-packages (from hydra-core<1.1,>=1.0.7->fairseq>=0.10.0->pythainlp[full]) (4.8)\n",
            "Requirement already satisfied: unicodecsv in /usr/local/lib/python3.10/dist-packages (from panphon>=0.20->epitran>=1.1->pythainlp[full]) (0.14.1)\n",
            "Requirement already satisfied: editdistance in /usr/local/lib/python3.10/dist-packages (from panphon>=0.20->epitran>=1.1->pythainlp[full]) (0.6.2)\n",
            "Requirement already satisfied: munkres in /usr/local/lib/python3.10/dist-packages (from panphon>=0.20->epitran>=1.1->pythainlp[full]) (1.1.4)\n",
            "Requirement already satisfied: portalocker in /usr/local/lib/python3.10/dist-packages (from sacrebleu>=1.4.12->fairseq>=0.10.0->pythainlp[full]) (2.7.0)\n",
            "Requirement already satisfied: tabulate>=0.8.9 in /usr/local/lib/python3.10/dist-packages (from sacrebleu>=1.4.12->fairseq>=0.10.0->pythainlp[full]) (0.8.10)\n",
            "Requirement already satisfied: colorama in /usr/local/lib/python3.10/dist-packages (from sacrebleu>=1.4.12->fairseq>=0.10.0->pythainlp[full]) (0.4.6)\n",
            "Requirement already satisfied: lxml in /usr/local/lib/python3.10/dist-packages (from sacrebleu>=1.4.12->fairseq>=0.10.0->pythainlp[full]) (4.9.2)\n",
            "Requirement already satisfied: spacy-legacy<3.1.0,>=3.0.11 in /usr/local/lib/python3.10/dist-packages (from spacy>=2.2.2->spacy-thai>=0.7.1->pythainlp[full]) (3.0.12)\n",
            "Requirement already satisfied: spacy-loggers<2.0.0,>=1.0.0 in /usr/local/lib/python3.10/dist-packages (from spacy>=2.2.2->spacy-thai>=0.7.1->pythainlp[full]) (1.0.4)\n",
            "Requirement already satisfied: murmurhash<1.1.0,>=0.28.0 in /usr/local/lib/python3.10/dist-packages (from spacy>=2.2.2->spacy-thai>=0.7.1->pythainlp[full]) (1.0.9)\n",
            "Requirement already satisfied: cymem<2.1.0,>=2.0.2 in /usr/local/lib/python3.10/dist-packages (from spacy>=2.2.2->spacy-thai>=0.7.1->pythainlp[full]) (2.0.7)\n",
            "Requirement already satisfied: preshed<3.1.0,>=3.0.2 in /usr/local/lib/python3.10/dist-packages (from spacy>=2.2.2->spacy-thai>=0.7.1->pythainlp[full]) (3.0.8)\n",
            "Requirement already satisfied: thinc<8.2.0,>=8.1.8 in /usr/local/lib/python3.10/dist-packages (from spacy>=2.2.2->spacy-thai>=0.7.1->pythainlp[full]) (8.1.10)\n",
            "Requirement already satisfied: wasabi<1.2.0,>=0.9.1 in /usr/local/lib/python3.10/dist-packages (from spacy>=2.2.2->spacy-thai>=0.7.1->pythainlp[full]) (1.1.2)\n",
            "Requirement already satisfied: srsly<3.0.0,>=2.4.3 in /usr/local/lib/python3.10/dist-packages (from spacy>=2.2.2->spacy-thai>=0.7.1->pythainlp[full]) (2.4.6)\n",
            "Requirement already satisfied: catalogue<2.1.0,>=2.0.6 in /usr/local/lib/python3.10/dist-packages (from spacy>=2.2.2->spacy-thai>=0.7.1->pythainlp[full]) (2.0.8)\n",
            "Requirement already satisfied: typer<0.8.0,>=0.3.0 in /usr/local/lib/python3.10/dist-packages (from spacy>=2.2.2->spacy-thai>=0.7.1->pythainlp[full]) (0.7.0)\n",
            "Requirement already satisfied: pathy>=0.10.0 in /usr/local/lib/python3.10/dist-packages (from spacy>=2.2.2->spacy-thai>=0.7.1->pythainlp[full]) (0.10.2)\n",
            "Requirement already satisfied: pydantic!=1.8,!=1.8.1,<1.11.0,>=1.7.4 in /usr/local/lib/python3.10/dist-packages (from spacy>=2.2.2->spacy-thai>=0.7.1->pythainlp[full]) (1.10.9)\n",
            "Requirement already satisfied: langcodes<4.0.0,>=3.2.0 in /usr/local/lib/python3.10/dist-packages (from spacy>=2.2.2->spacy-thai>=0.7.1->pythainlp[full]) (3.3.0)\n",
            "Requirement already satisfied: absl-py>=0.4 in /usr/local/lib/python3.10/dist-packages (from tensorboard>=1.14->thai-nner->pythainlp[full]) (1.4.0)\n",
            "Requirement already satisfied: grpcio>=1.48.2 in /usr/local/lib/python3.10/dist-packages (from tensorboard>=1.14->thai-nner->pythainlp[full]) (1.56.0)\n",
            "Requirement already satisfied: google-auth<3,>=1.6.3 in /usr/local/lib/python3.10/dist-packages (from tensorboard>=1.14->thai-nner->pythainlp[full]) (2.17.3)\n",
            "Requirement already satisfied: google-auth-oauthlib<1.1,>=0.5 in /usr/local/lib/python3.10/dist-packages (from tensorboard>=1.14->thai-nner->pythainlp[full]) (1.0.0)\n",
            "Requirement already satisfied: markdown>=2.6.8 in /usr/local/lib/python3.10/dist-packages (from tensorboard>=1.14->thai-nner->pythainlp[full]) (3.4.3)\n",
            "Requirement already satisfied: tensorboard-data-server<0.8.0,>=0.7.0 in /usr/local/lib/python3.10/dist-packages (from tensorboard>=1.14->thai-nner->pythainlp[full]) (0.7.1)\n",
            "Requirement already satisfied: werkzeug>=1.0.1 in /usr/local/lib/python3.10/dist-packages (from tensorboard>=1.14->thai-nner->pythainlp[full]) (2.3.6)\n",
            "Requirement already satisfied: wheel>=0.26 in /usr/local/lib/python3.10/dist-packages (from tensorboard>=1.14->thai-nner->pythainlp[full]) (0.40.0)\n",
            "Requirement already satisfied: astunparse>=1.6.0 in /usr/local/lib/python3.10/dist-packages (from tensorflow>=2.0.0->oskut>=1.3->pythainlp[full]) (1.6.3)\n",
            "Requirement already satisfied: gast<=0.4.0,>=0.2.1 in /usr/local/lib/python3.10/dist-packages (from tensorflow>=2.0.0->oskut>=1.3->pythainlp[full]) (0.4.0)\n",
            "Requirement already satisfied: google-pasta>=0.1.1 in /usr/local/lib/python3.10/dist-packages (from tensorflow>=2.0.0->oskut>=1.3->pythainlp[full]) (0.2.0)\n",
            "Requirement already satisfied: h5py>=2.9.0 in /usr/local/lib/python3.10/dist-packages (from tensorflow>=2.0.0->oskut>=1.3->pythainlp[full]) (3.8.0)\n",
            "Requirement already satisfied: jax>=0.3.15 in /usr/local/lib/python3.10/dist-packages (from tensorflow>=2.0.0->oskut>=1.3->pythainlp[full]) (0.4.10)\n",
            "Requirement already satisfied: keras<2.13,>=2.12.0 in /usr/local/lib/python3.10/dist-packages (from tensorflow>=2.0.0->oskut>=1.3->pythainlp[full]) (2.12.0)\n",
            "Requirement already satisfied: libclang>=13.0.0 in /usr/local/lib/python3.10/dist-packages (from tensorflow>=2.0.0->oskut>=1.3->pythainlp[full]) (16.0.0)\n",
            "Requirement already satisfied: opt-einsum>=2.3.2 in /usr/local/lib/python3.10/dist-packages (from tensorflow>=2.0.0->oskut>=1.3->pythainlp[full]) (3.3.0)\n",
            "Requirement already satisfied: tensorflow-estimator<2.13,>=2.12.0 in /usr/local/lib/python3.10/dist-packages (from tensorflow>=2.0.0->oskut>=1.3->pythainlp[full]) (2.12.0)\n",
            "Requirement already satisfied: wrapt<1.15,>=1.11.0 in /usr/local/lib/python3.10/dist-packages (from tensorflow>=2.0.0->oskut>=1.3->pythainlp[full]) (1.14.1)\n",
            "Requirement already satisfied: tensorflow-io-gcs-filesystem>=0.23.1 in /usr/local/lib/python3.10/dist-packages (from tensorflow>=2.0.0->oskut>=1.3->pythainlp[full]) (0.32.0)\n",
            "Requirement already satisfied: soupsieve>1.2 in /usr/local/lib/python3.10/dist-packages (from beautifulsoup4->fastai<2.0->pythainlp[full]) (2.4.1)\n",
            "Requirement already satisfied: pycparser in /usr/local/lib/python3.10/dist-packages (from cffi->fairseq>=0.10.0->pythainlp[full]) (2.21)\n",
            "Requirement already satisfied: humanfriendly>=9.1 in /usr/local/lib/python3.10/dist-packages (from coloredlogs->onnxruntime>=1.10.0->pythainlp[full]) (10.0)\n",
            "Requirement already satisfied: MarkupSafe>=2.0 in /usr/local/lib/python3.10/dist-packages (from jinja2->torch>=1.0.0->pythainlp[full]) (2.1.3)\n",
            "Requirement already satisfied: contourpy>=1.0.1 in /usr/local/lib/python3.10/dist-packages (from matplotlib->fastai<2.0->pythainlp[full]) (1.1.0)\n",
            "Requirement already satisfied: cycler>=0.10 in /usr/local/lib/python3.10/dist-packages (from matplotlib->fastai<2.0->pythainlp[full]) (0.11.0)\n",
            "Requirement already satisfied: fonttools>=4.22.0 in /usr/local/lib/python3.10/dist-packages (from matplotlib->fastai<2.0->pythainlp[full]) (4.40.0)\n",
            "Requirement already satisfied: kiwisolver>=1.0.1 in /usr/local/lib/python3.10/dist-packages (from matplotlib->fastai<2.0->pythainlp[full]) (1.4.4)\n",
            "Requirement already satisfied: pyparsing>=2.3.1 in /usr/local/lib/python3.10/dist-packages (from matplotlib->fastai<2.0->pythainlp[full]) (3.1.0)\n",
            "Requirement already satisfied: threadpoolctl>=2.0.0 in /usr/local/lib/python3.10/dist-packages (from scikit-learn->oskut>=1.3->pythainlp[full]) (3.1.0)\n",
            "Requirement already satisfied: mpmath>=0.19 in /usr/local/lib/python3.10/dist-packages (from sympy->onnxruntime>=1.10.0->pythainlp[full]) (1.3.0)\n",
            "Requirement already satisfied: cachetools<6.0,>=2.0.0 in /usr/local/lib/python3.10/dist-packages (from google-auth<3,>=1.6.3->tensorboard>=1.14->thai-nner->pythainlp[full]) (5.3.1)\n",
            "Requirement already satisfied: pyasn1-modules>=0.2.1 in /usr/local/lib/python3.10/dist-packages (from google-auth<3,>=1.6.3->tensorboard>=1.14->thai-nner->pythainlp[full]) (0.3.0)\n",
            "Requirement already satisfied: rsa<5,>=3.1.4 in /usr/local/lib/python3.10/dist-packages (from google-auth<3,>=1.6.3->tensorboard>=1.14->thai-nner->pythainlp[full]) (4.9)\n",
            "Requirement already satisfied: requests-oauthlib>=0.7.0 in /usr/local/lib/python3.10/dist-packages (from google-auth-oauthlib<1.1,>=0.5->tensorboard>=1.14->thai-nner->pythainlp[full]) (1.3.1)\n",
            "Requirement already satisfied: ml-dtypes>=0.1.0 in /usr/local/lib/python3.10/dist-packages (from jax>=0.3.15->tensorflow>=2.0.0->oskut>=1.3->pythainlp[full]) (0.2.0)\n",
            "Requirement already satisfied: blis<0.8.0,>=0.7.8 in /usr/local/lib/python3.10/dist-packages (from thinc<8.2.0,>=8.1.8->spacy>=2.2.2->spacy-thai>=0.7.1->pythainlp[full]) (0.7.9)\n",
            "Requirement already satisfied: confection<1.0.0,>=0.0.1 in /usr/local/lib/python3.10/dist-packages (from thinc<8.2.0,>=8.1.8->spacy>=2.2.2->spacy-thai>=0.7.1->pythainlp[full]) (0.0.4)\n",
            "Requirement already satisfied: pyasn1<0.6.0,>=0.4.6 in /usr/local/lib/python3.10/dist-packages (from pyasn1-modules>=0.2.1->google-auth<3,>=1.6.3->tensorboard>=1.14->thai-nner->pythainlp[full]) (0.5.0)\n",
            "Requirement already satisfied: oauthlib>=3.0.0 in /usr/local/lib/python3.10/dist-packages (from requests-oauthlib>=0.7.0->google-auth-oauthlib<1.1,>=0.5->tensorboard>=1.14->thai-nner->pythainlp[full]) (3.2.2)\n"
          ]
        }
      ]
    },
    {
      "cell_type": "code",
      "source": [
        "import pandas as pd\n",
        "import matplotlib.pyplot as plt\n",
        "\n",
        "import re\n",
        "import string\n",
        "from pythainlp.corpus import thai_stopwords"
      ],
      "metadata": {
        "id": "L6h2hrbhEqSv"
      },
      "execution_count": 128,
      "outputs": []
    },
    {
      "cell_type": "code",
      "source": [
        "df = pd.read_csv('burgerking-UTF8-traindataset-1.csv')\n",
        "\n",
        "import re\n",
        "import string\n",
        "from pythainlp.corpus.common import thai_stopwords\n",
        "\n",
        "def clean_text(txt):\n",
        "\n",
        "\n",
        "    # ลบ text ที่อยู่ในวงเล็บ <> ทั้งหมด\n",
        "    txt = re.sub(r'<.@*?!>','', txt)\n",
        "\n",
        "    # ลบ hashtag\n",
        "    txt = re.sub(r'#','',txt)\n",
        "\n",
        "    # ลบ space\n",
        "    txt = re.sub(r' ','',txt)\n",
        "\n",
        "    #ลบ เลข\n",
        "    txt = re.sub(\"(\\d)\", \"\",txt)\n",
        "\n",
        "    # ลบ เครื่องหมายคำพูด (punctuation)\n",
        "    for c in string.punctuation:\n",
        "        txt = re.sub(r'\\{}'.format(c),'',txt)\n",
        "\n",
        "    # ลบ separator เช่น \\n \\t\n",
        "    txt = ' '.join(txt.split())\n",
        "\n",
        "\n",
        "    return txt\n",
        "\n",
        "df.message = df.message.apply(clean_text)"
      ],
      "metadata": {
        "id": "dt9ZXqGnFGy5"
      },
      "execution_count": 129,
      "outputs": []
    },
    {
      "cell_type": "code",
      "source": [
        "df.columns = ['label','message']\n",
        "df[\"label\"].replace({0: \"negative\", 1: \"postive\"}, inplace=True)"
      ],
      "metadata": {
        "id": "Xy_km2BYFSIt"
      },
      "execution_count": 130,
      "outputs": []
    },
    {
      "cell_type": "markdown",
      "source": [
        "# understand Data with exploratory data analysis"
      ],
      "metadata": {
        "id": "k9H5uYKeFXVJ"
      }
    },
    {
      "cell_type": "code",
      "source": [
        "df.label.value_counts().plot.barh()\n",
        "plt.show()"
      ],
      "metadata": {
        "colab": {
          "base_uri": "https://localhost:8080/",
          "height": 434
        },
        "id": "A7hIj-jJFfkS",
        "outputId": "504d6872-c3a1-426f-980b-ec644a191728"
      },
      "execution_count": 131,
      "outputs": [
        {
          "output_type": "display_data",
          "data": {
            "text/plain": [
              "<Figure size 640x480 with 1 Axes>"
            ],
            "image/png": "[encoded data removed]"
          },
          "metadata": {}
        }
      ]
    },
    {
      "cell_type": "code",
      "source": [
        "import seaborn as sns\n",
        "sns.displot(df.message.apply(len))"
      ],
      "metadata": {
        "colab": {
          "base_uri": "https://localhost:8080/",
          "height": 488
        },
        "id": "J6Mg-1ZnGJn2",
        "outputId": "dd6c9641-1e72-4765-9e04-d4fef2249ff2"
      },
      "execution_count": 132,
      "outputs": [
        {
          "output_type": "execute_result",
          "data": {
            "text/plain": [
              "<seaborn.axisgrid.FacetGrid at 0x7fae458c6aa0>"
            ]
          },
          "metadata": {},
          "execution_count": 132
        },
        {
          "output_type": "display_data",
          "data": {
            "text/plain": [
              "<Figure size 500x500 with 1 Axes>"
            ],
            "image/png": "[encoded data removed]"
          },
          "metadata": {}
        }
      ]
    },
    {
      "cell_type": "code",
      "source": [
        "import numpy as np\n",
        "import pandas as pd\n",
        "import seaborn as sns\n",
        "\n",
        "# sort the data frame by target\n",
        "target_0 = df.loc[df['label'] == 'negative']\n",
        "target_1 = df.loc[df['label'] == 'positive']\n",
        "\n",
        "sns.distplot(target_0.message.apply(len), hist = True, label = 'negative')\n",
        "sns.distplot(target_1.message.apply(len), hist = True, label = 'positive')\n",
        "plt.legend()\n",
        "plt.show()"
      ],
      "metadata": {
        "colab": {
          "base_uri": "https://localhost:8080/",
          "height": 979
        },
        "id": "3RLbb8cTGZl9",
        "outputId": "3333a039-86fe-4fbe-cdb5-5d173d048d93"
      },
      "execution_count": 133,
      "outputs": [
        {
          "output_type": "stream",
          "name": "stderr",
          "text": [
            "<ipython-input-133-4b2c1bab19ba>:9: UserWarning: \n",
            "\n",
            "`distplot` is a deprecated function and will be removed in seaborn v0.14.0.\n",
            "\n",
            "Please adapt your code to use either `displot` (a figure-level function with\n",
            "similar flexibility) or `histplot` (an axes-level function for histograms).\n",
            "\n",
            "For a guide to updating your code to use the new functions, please see\n",
            "https://gist.github.com/mwaskom/de44147ed2974457ad6372750bbe5751\n",
            "\n",
            "  sns.distplot(target_0.message.apply(len), hist = True, label = 'negative')\n",
            "<ipython-input-133-4b2c1bab19ba>:10: UserWarning: \n",
            "\n",
            "`distplot` is a deprecated function and will be removed in seaborn v0.14.0.\n",
            "\n",
            "Please adapt your code to use either `displot` (a figure-level function with\n",
            "similar flexibility) or `histplot` (an axes-level function for histograms).\n",
            "\n",
            "For a guide to updating your code to use the new functions, please see\n",
            "https://gist.github.com/mwaskom/de44147ed2974457ad6372750bbe5751\n",
            "\n",
            "  sns.distplot(target_1.message.apply(len), hist = True, label = 'positive')\n",
            "/usr/local/lib/python3.10/dist-packages/seaborn/distributions.py:2479: RuntimeWarning: Mean of empty slice.\n",
            "  line, = ax.plot(a.mean(), 0)\n",
            "/usr/local/lib/python3.10/dist-packages/numpy/core/_methods.py:189: RuntimeWarning: invalid value encountered in double_scalars\n",
            "  ret = ret.dtype.type(ret / rcount)\n",
            "/usr/local/lib/python3.10/dist-packages/numpy/lib/histograms.py:906: RuntimeWarning: invalid value encountered in true_divide\n",
            "  return n/db/n.sum(), bin_edges\n"
          ]
        },
        {
          "output_type": "display_data",
          "data": {
            "text/plain": [
              "<Figure size 640x480 with 1 Axes>"
            ],
            "image/png": "[encoded data removed]"
          },
          "metadata": {}
        }
      ]
    },
    {
      "cell_type": "code",
      "source": [
        "from pythainlp.util import find_keyword\n",
        "from pythainlp.util import rank\n",
        "from pythainlp.tokenize import word_tokenize\n",
        "\n",
        "def get_text_list(message):\n",
        "  tokenized = []\n",
        "  for i in message:\n",
        "    token = word_tokenize(i)\n",
        "    for j in token:\n",
        "      tokenized.append(j)\n",
        "  return tokenized\n",
        "\n",
        "text = get_text_list(df.message)\n",
        "#rank(text)\n",
        "\n",
        "find_keyword(text, min_len = 3)"
      ],
      "metadata": {
        "colab": {
          "base_uri": "https://localhost:8080/"
        },
        "id": "uz9P7hPsHU4j",
        "outputId": "a6fc5c05-e384-4790-e438-de7fd6b0c248"
      },
      "execution_count": 134,
      "outputs": [
        {
          "output_type": "execute_result",
          "data": {
            "text/plain": [
              "{'สาขา': 22,\n",
              " 'ซื้อ': 3,\n",
              " 'พาย': 4,\n",
              " 'ไก่': 4,\n",
              " 'ชิ้น': 6,\n",
              " 'ทาน': 4,\n",
              " 'บริการ': 14,\n",
              " 'ดี': 11,\n",
              " 'โพ': 3,\n",
              " 'พารากอน': 3,\n",
              " 'คน': 7,\n",
              " 'คุณภาพ': 5,\n",
              " 'อาหาร': 10,\n",
              " 'กิน': 16,\n",
              " 'สอง': 3,\n",
              " 'แย่': 3,\n",
              " 'แบบนี้': 4,\n",
              " 'ร้าน': 4,\n",
              " 'BurgerKing': 7,\n",
              " 'พนักงาน': 21,\n",
              " 'ออเดอร์': 3,\n",
              " 'สั่ง': 9,\n",
              " 'เฟรนฟ': 6,\n",
              " 'บอ': 5,\n",
              " 'เดี๋ยว': 3,\n",
              " 'โต๊ะ': 6,\n",
              " 'นั่ง': 3,\n",
              " 'รอ': 3,\n",
              " 'ผู้จัดการ': 4,\n",
              " 'เหมือน': 5,\n",
              " ' ': 25,\n",
              " 'เส': 5,\n",
              " 'ริ': 5,\n",
              " 'ฟ': 4,\n",
              " 'รอบ': 3,\n",
              " 'ห่อ': 3,\n",
              " 'พี่': 3,\n",
              " 'ลูกค้า': 12,\n",
              " 'เบอร์เกอร์': 7,\n",
              " 'ชอบ': 10,\n",
              " 'เจอ': 3,\n",
              " 'คิง': 3,\n",
              " 'แก้ว': 4,\n",
              " 'ทอง': 3,\n",
              " 'หล่อ': 3,\n",
              " 'ทราบ': 3,\n",
              " 'ทำ': 6,\n",
              " 'อร่อย': 10,\n",
              " 'ขาย': 3,\n",
              " 'ปรับปรุง': 7,\n",
              " 'ผม': 3,\n",
              " 'ขอให้': 4,\n",
              " 'เนื้อ': 3,\n",
              " 'แผ่น': 4,\n",
              " 'เลี่ยน': 3,\n",
              " 'ขอบคุณ': 3,\n",
              " 'หัวหน้างาน': 4,\n",
              " 'น้ำเสียง': 3,\n",
              " 'ใส่': 3,\n",
              " 'ประทับใจ': 3,\n",
              " 'น่ารัก': 4,\n",
              " 'กก': 8}"
            ]
          },
          "metadata": {},
          "execution_count": 134
        }
      ]
    },
    {
      "cell_type": "code",
      "source": [
        "sns.displot(rank(text).values())"
      ],
      "metadata": {
        "colab": {
          "base_uri": "https://localhost:8080/",
          "height": 488
        },
        "id": "elOXKBZZIU8W",
        "outputId": "2916ae61-6f05-476a-cf63-c0ff9dba69b8"
      },
      "execution_count": 135,
      "outputs": [
        {
          "output_type": "execute_result",
          "data": {
            "text/plain": [
              "<seaborn.axisgrid.FacetGrid at 0x7fae462e36a0>"
            ]
          },
          "metadata": {},
          "execution_count": 135
        },
        {
          "output_type": "display_data",
          "data": {
            "text/plain": [
              "<Figure size 621x500 with 1 Axes>"
            ],
            "image/png": "[encoded data removed]"
          },
          "metadata": {}
        }
      ]
    },
    {
      "cell_type": "markdown",
      "source": [
        "# text clound"
      ],
      "metadata": {
        "id": "gt_buR1tIhAv"
      }
    },
    {
      "cell_type": "code",
      "source": [
        "import matplotlib.pyplot as plt\n",
        "import numpy as np\n",
        "from PIL import Image\n",
        "from wordcloud import WordCloud"
      ],
      "metadata": {
        "id": "-ZwwImWIIgXa"
      },
      "execution_count": 136,
      "outputs": []
    },
    {
      "cell_type": "code",
      "source": [
        "regexp = r\"[ก-๙a-zA-Z']+\""
      ],
      "metadata": {
        "id": "L757syWBJHN6"
      },
      "execution_count": 137,
      "outputs": []
    },
    {
      "cell_type": "code",
      "source": [
        "from pythainlp.corpus import thai_stopwords\n",
        "from pythainlp.tokenize import word_tokenize\n",
        "\n",
        "def get_text_str(message):\n",
        "  tokenized = \" \"\n",
        "  th_stw = thai_stopwords()\n",
        "  for i in message:\n",
        "    token = word_tokenize(i)\n",
        "    for j in token:\n",
        "      if j not in thai_stopwords():\n",
        "        tokenized = tokenized + \" \" + j\n",
        "  return tokenized\n",
        "\n",
        "text = get_text_str(df.message)\n"
      ],
      "metadata": {
        "id": "VONNo4RSJLYG"
      },
      "execution_count": 138,
      "outputs": []
    },
    {
      "cell_type": "code",
      "source": [
        "df.message"
      ],
      "metadata": {
        "colab": {
          "base_uri": "https://localhost:8080/"
        },
        "id": "nFXqVkjaKSIZ",
        "outputId": "345a92ca-605e-46be-945d-f39e4eceaa27"
      },
      "execution_count": 139,
      "outputs": [
        {
          "output_type": "execute_result",
          "data": {
            "text/plain": [
              "0     นไปที่สาขาในปั๊มคาลเท็กซ์ประชานุกูลซื้อพายไก่แ...\n",
              "1     BKทุกสาขาบริการดีโดยเฉพาะอย่างยิ่งเอมโพเรียมแม...\n",
              "2     BurgerKingสาขาTheBrightพระรามบริการห่วยมากถึงม...\n",
              "3     BurgerKingสาขาปั้มปตทบ้านพรอถลาง เมื่อคืนวันจั...\n",
              "4        chickenstripชิ้นเล็กมากเทียบกับป้ายโฆษณาบนโต๊ะ\n",
              "5     Deliveryไม่ทั่วถึงสาขาที่ใกล้เราที่สุดอยู่ทองห...\n",
              "6     กิจกรรมที่จัดห่วยแตกได้รางวัลไม่แจ้งทางอินบ๊อก...\n",
              "7     ขอแก้ไขรีวิวล่าสุดที่ไปมาตอนนี้อร่อยทุกอย่างแล...\n",
              "8     ขอคอมเม้นต์นิดนึงครับวันนี้ผมมากินที่สาขาทางด่...\n",
              "9     ขอบคุณที่ร่วมแชร์ประสบการณ์แย่ๆนะครับ สาขาEsso...\n",
              "10    ขอร้องเรียนSupervisorผู้หญิงที่สาขาcentralworl...\n",
              "11    ควรที่จะต้องปรับปรุงมารยาทพนักงานโดยเฉพาะที่สา...\n",
              "12    ควรใส่ใจในการตรวจสอบสินค้ามากกว่านี้ไปมารอบขาด...\n",
              "13    คืนวันที่มคไปใช้บริการBurgerKingสาขารามอินทราป...\n",
              "14    ช่วงทุ่มไปใช้บริการที่หน้าร้านลูกค้าต่อคิวกันย...\n",
              "15    ดูภาพwhopperที่ได้เทียบกับโฆษณาแล้วเอาไปปรับปร...\n",
              "16    เดี๋ยวนี้คุณภาพรสชาติตกลงเยอะมากเบอร์เกอร์ที่ไ...\n",
              "17    เดี๋ยวนี้เฟรนฟรายเค็มมากค่ะ ไม่รู้ว่าเกลือถูกห...\n",
              "18                     ชอบมากอยากให้มีที่ปราจีนบุรีด้วย\n",
              "19                burgerอร่อยบรรยากาศร้านดีมีเสียงดนตรี\n",
              "20                    crunchybbqbaconwhopperอร่อยมากๆๆๆ\n",
              "21                            Hlohaชอบมากๆอร่อยทุกอย่าง\n",
              "22    กินบ่อยค่ะBurgerKingหลายสาขาค่ะแถวสยามทองหล่อแ...\n",
              "23                         กินประจำเลยค่ะเนื้ออร่อยฟุดๆ\n",
              "24            ของชอบมากครับอร่อยมากครับราคาก็ไม่แพงครับ\n",
              "25                               ของน่ากินคะ่ไม้แพงด้วย\n",
              "26    ขอบคุณมากเลยพนักงานใจดีสาขา เดอมอล์บางกะปิพี่ท...\n",
              "27    คุ้มค่าคุ้มราคารับฟังพรัอมเเก้ปันหาดีต่อใจที่ส...\n",
              "28            เคยกินทีหัวหินหร่อยไปเลยแต่สาขาน้อยไปฮ่าๆ\n",
              "29    งํ่าๆอร่อยครับชิ้นเดียวอิ่มชัวร์มาสคอตน่ารักด้...\n",
              "30                                             เจ๋งครับ\n",
              "31                                               ฉันชอบ\n",
              "32                               ชอบอร่อยชิ้นหญ่ม๊ากกกก\n",
              "33    ชอบburgerkingมากๆอยู่แล้วแต่ล่าสุดชามะนาวหวานม...\n",
              "34      ชอบค่ะกลางคืนโอเคเลยนะคนไม่เยอะ พนักงานบริการดี\n",
              "35    ชอบใช้ที่MBKชั้นค่ะประทับใจหลากหลายทั้งสะดวกบร...\n",
              "Name: message, dtype: object"
            ]
          },
          "metadata": {},
          "execution_count": 139
        }
      ]
    },
    {
      "cell_type": "code",
      "source": [
        "!wget https://www.f0nt.com/download/sipafonts/THSarabunNew.zip ; unzip THSarabunNew.zip"
      ],
      "metadata": {
        "colab": {
          "base_uri": "https://localhost:8080/"
        },
        "id": "DMSSDUMfKbTB",
        "outputId": "7709fd19-00f8-4256-ba6c-52f81847d42e"
      },
      "execution_count": null,
      "outputs": [
        {
          "metadata": {
            "tags": null
          },
          "name": "stdout",
          "output_type": "stream",
          "text": [
            "--2023-06-29 04:03:11--  https://www.f0nt.com/download/sipafonts/THSarabunNew.zip\n",
            "Resolving www.f0nt.com (www.f0nt.com)... 103.246.18.21, 2401:5700:100:503::1821\n",
            "Connecting to www.f0nt.com (www.f0nt.com)|103.246.18.21|:443... connected.\n",
            "HTTP request sent, awaiting response... 302 Found\n",
            "Location: https://www.f0nt.com/files/sipafonts/THSarabunNew.zip [following]\n",
            "--2023-06-29 04:03:13--  https://www.f0nt.com/files/sipafonts/THSarabunNew.zip\n",
            "Reusing existing connection to www.f0nt.com:443.\n",
            "HTTP request sent, awaiting response... "
          ]
        }
      ]
    },
    {
      "cell_type": "code",
      "source": [
        "path = 'THSarabunNew.ttf'\n",
        "wordcloud = WordCloud(\n",
        "                      font_path=path,\n",
        "                      min_font_size=1,\n",
        "                      background_color=\"white\",\n",
        "                      width=400,\n",
        "                      height=200,\n",
        "                      max_words=1000,\n",
        "                      colormap='plasma',\n",
        "                      scale=3,\n",
        "                      font_step=4,\n",
        "                    #   contour_width=3,\n",
        "                      contour_color='steelblue',\n",
        "                      collocations=False,\n",
        "                      regexp=regexp,\n",
        "                      margin=2\n",
        "                      ).generate(text)"
      ],
      "metadata": {
        "id": "AEhs3C8xKoIg"
      },
      "execution_count": null,
      "outputs": []
    },
    {
      "cell_type": "code",
      "source": [
        "fig, ax = plt.subplots(1, 1, figsize = (16, 12))\n",
        "ax.imshow(wordcloud, interpolation = 'bilinear')\n",
        "ax.axis(\"off\")\n",
        "fig.show()"
      ],
      "metadata": {
        "id": "M-dVUAVvKtxF"
      },
      "execution_count": null,
      "outputs": []
    },
    {
      "cell_type": "markdown",
      "source": [
        "# Scatter Text"
      ],
      "metadata": {
        "id": "IsM5QYafLEIe"
      }
    },
    {
      "cell_type": "code",
      "source": [
        "df['tokenized'] = df.message.apply(word_tokenize)"
      ],
      "metadata": {
        "id": "an7XWplQLS2P"
      },
      "execution_count": null,
      "outputs": []
    },
    {
      "cell_type": "code",
      "source": [
        "import collections\n",
        "\n",
        "neg = df.loc[df.label == \"negative\"].tokenized\n",
        "pos = df.loc[df.label == \"positive\"].tokenized\n",
        "all = df.tokenized\n",
        "\n",
        "count_neg = []\n",
        "count_pos = []\n",
        "count_all = []\n",
        "\n",
        "for i in neg:\n",
        "  for j in i:\n",
        "    count_neg.append(j)\n",
        "for i in pos:\n",
        "  for j in i:\n",
        "    count_pos.append(j)\n",
        "for i in all:\n",
        "  for j in i:\n",
        "    count_all.append(j)\n",
        "\n",
        "counter_pos=collections.Counter(count_neg)\n",
        "counter_neg=collections.Counter(count_pos)\n",
        "counter_all=collections.Counter(count_all)\n",
        "\n",
        "your_list_neg = [list(i) for i in counter_neg.items()]\n",
        "your_list_pos = [list(i) for i in counter_pos.items()]\n",
        "your_list = [list(i) for i in counter_all.items()]\n",
        "\n",
        "count = pd.DataFrame(your_list,columns=['Word','Counts'])\n",
        "count_neg = pd.DataFrame(your_list_neg,columns=['Word','Counts_positive'])\n",
        "count_pos = pd.DataFrame(your_list_pos,columns=['Word','Counts_negative'])\n",
        "\n",
        "\n",
        "result = pd.merge(pd.merge(count,count_neg,on='Word'),count_pos,on='Word')"
      ],
      "metadata": {
        "id": "oLVAsBG1LdDu"
      },
      "execution_count": null,
      "outputs": []
    },
    {
      "cell_type": "code",
      "source": [
        "!wget -q http://www.arts.chula.ac.th/ling/wp-content/uploads/TH-Sarabun_Chula1.1.zip -O font.zip\n",
        "!unzip -qj font.zip TH-Sarabun_Chula1.1/THSarabunChula-Regular.ttf\n",
        "# !pip install -U --pre matplotlib\n",
        "import matplotlib as mpl\n",
        "mpl.font_manager.fontManager.addfont('THSarabunChula-Regular.ttf')\n",
        "mpl.rc('font', family='TH Sarabun Chula')\n",
        "\n",
        "import matplotlib.font_manager as fm\n",
        "from matplotlib import rcParams\n",
        "x = result.Counts_negative.tolist()\n",
        "y=result.Counts_positive.tolist()\n",
        "\n",
        "\n",
        "plt.rcParams['xtick.labelsize'] = 20.0\n",
        "plt.rcParams['ytick.labelsize'] = 20.0\n",
        "plt.figure(figsize=(20, 20))\n",
        "rcParams.update({'font.size': 22})\n",
        "plt.scatter(x, y,s=1)\n",
        "plt.xlim(0,20)\n",
        "plt.ylim(0,20)\n",
        "\n",
        "\n",
        "for i, txt in enumerate(result.Word.tolist()):\n",
        "    plt.annotate(txt, (x[i], y[i]))\n",
        "plt.savefig('foo.pdf')"
      ],
      "metadata": {
        "id": "7KDoxdhrM2zW"
      },
      "execution_count": null,
      "outputs": []
    },
    {
      "cell_type": "markdown",
      "source": [
        "# Co-Occurance Analysis"
      ],
      "metadata": {
        "id": "tV3eEtSWM4be"
      }
    },
    {
      "cell_type": "code",
      "source": [
        "#!pip install pythainlp[full]\n",
        "import numpy as np\n",
        "import pandas as pd\n",
        "from pythainlp.tokenize import word_tokenize\n",
        "\n",
        "def create_cooccurrence_matrix(sentences, window_size=4):\n",
        "    \"\"\"Create co occurrence matrix from given list of sentences.\n",
        "\n",
        "    Returns:\n",
        "    - vocabs: dictionary of word counts\n",
        "    - co_occ_matrix_sparse: sparse co occurrence matrix\n",
        "\n",
        "    Example:\n",
        "    ===========\n",
        "    sentences = ['I love nlp',    'I love to learn',\n",
        "                 'nlp is future', 'nlp is cool']\n",
        "\n",
        "    vocabs,co_occ = create_cooccurrence_matrix(sentences)\n",
        "\n",
        "    df_co_occ  = pd.DataFrame(co_occ.todense(),\n",
        "                              index=vocabs.keys(),\n",
        "                              columns = vocabs.keys())\n",
        "\n",
        "    df_co_occ = df_co_occ.sort_index()[sorted(vocabs.keys())]\n",
        "\n",
        "    df_co_occ.style.applymap(lambda x: 'color: red' if x>0 else '')\n",
        "\n",
        "    \"\"\"\n",
        "    import scipy\n",
        "    import nltk\n",
        "\n",
        "    vocabulary = {}\n",
        "    data = []\n",
        "    row = []\n",
        "    col = []\n",
        "\n",
        "    tokenizer = word_tokenize\n",
        "    #tokenizer = nltk.tokenize.word_tokenize\n",
        "\n",
        "    for sentence in sentences:\n",
        "        sentence = sentence.strip()\n",
        "\n",
        "        tokens = [token for token in tokenizer(sentence) if token != u\"\"]\n",
        "        for pos, token in enumerate(tokens):\n",
        "            i = vocabulary.setdefault(token, len(vocabulary))\n",
        "            start = max(0, pos-window_size)\n",
        "            end = min(len(tokens), pos+window_size+1)\n",
        "            for pos2 in range(start, end):\n",
        "                if pos2 == pos:\n",
        "                    continue\n",
        "                j = vocabulary.setdefault(tokens[pos2], len(vocabulary))\n",
        "                data.append(1.)\n",
        "                row.append(i)\n",
        "                col.append(j)\n",
        "\n",
        "    cooccurrence_matrix_sparse = scipy.sparse.coo_matrix((data, (row, col)))\n",
        "    return vocabulary, cooccurrence_matrix_sparse\n"
      ],
      "metadata": {
        "id": "5gPBB02pNFbg"
      },
      "execution_count": null,
      "outputs": []
    },
    {
      "cell_type": "code",
      "source": [
        "#import nltk\n",
        "#nltk.download('punkt')\n",
        "#sentences = ['I love nlp',    'I love to learn',\n",
        "#             'nlp is future', 'nlp is cool']\n",
        "\n",
        "sentences = df.message\n",
        "vocabs,co_occ = create_cooccurrence_matrix(sentences)\n",
        "\n",
        "df_co_occ  = pd.DataFrame(co_occ.todense(),\n",
        "                          index=vocabs.keys(),\n",
        "                          columns = vocabs.keys())\n",
        "\n",
        "df_co_occ = df_co_occ.sort_index()[sorted(vocabs.keys())]\n",
        "\n",
        "df_co_occ.style.applymap(lambda x: 'color: red' if x>0 else '')\n"
      ],
      "metadata": {
        "id": "XbkhUWnON4Uw"
      },
      "execution_count": null,
      "outputs": []
    },
    {
      "cell_type": "code",
      "source": [
        "df_co_occ"
      ],
      "metadata": {
        "id": "PR_efmzrN6wn"
      },
      "execution_count": null,
      "outputs": []
    },
    {
      "cell_type": "code",
      "source": [
        "#!pip install networkx\n",
        "# importing networkx\n",
        "import networkx as nx\n",
        "# importing matplotlib.pyplot\n",
        "import matplotlib.pyplot as plt\n",
        "import matplotlib.font_manager as fm\n",
        "font_list = fm.createFontList(['THSarabunNew.ttf'])\n",
        "fm.fontManager.ttflist.extend(font_list)\n",
        "\n"
      ],
      "metadata": {
        "id": "GIshRaiFOH4F"
      },
      "execution_count": null,
      "outputs": []
    },
    {
      "cell_type": "code",
      "source": [
        "def visual_co_occ_matrix(keyword,top_co_occ = 10):\n",
        "  ### keyword เป็น str ###\n",
        "  graph = nx.Graph()\n",
        "  labels_params = {\"font_family\": \"TH Sarabun Chula\",\n",
        "                 \"alpha\":1,\n",
        "                 \"font_size\":20,\n",
        "                 \"with_labels\": True}\n",
        "  word =[]\n",
        "\n",
        "  for i in df_co_occ.loc[keyword].sort_values(ascending = False).reset_index()['index'][:top_co_occ]:\n",
        "    if i not in thai_stopwords():\n",
        "      graph.add_edge(keyword,i)\n",
        "      word.append(i)\n",
        "      for j in df_co_occ.loc[i].sort_values(ascending = False).reset_index()['index'][:top_co_occ]:\n",
        "        if j not in thai_stopwords():\n",
        "          graph.add_edge(i,j)\n",
        "\n",
        "  return nx.draw(graph,node_color='#00b4d9', **labels_params)"
      ],
      "metadata": {
        "id": "7ibKLBI3QmQy"
      },
      "execution_count": null,
      "outputs": []
    },
    {
      "cell_type": "code",
      "source": [
        "visual_co_occ_matrix('BurgerKing')"
      ],
      "metadata": {
        "id": "72XijonfQoJf"
      },
      "execution_count": null,
      "outputs": []
    }
  ]
}